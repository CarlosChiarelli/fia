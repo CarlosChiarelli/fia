{
 "cells": [
  {
   "cell_type": "markdown",
   "metadata": {},
   "source": [
    "# Web Scraping dos dados"
   ]
  },
  {
   "cell_type": "markdown",
   "metadata": {},
   "source": [
    "O intuito é obter os códigos atualizados das ações, fazendo essa raspagem de dados do site da Bovespa que está em Javascript.\n",
    "\n",
    "Pelo fato da página web estar em javascript, será utilizada a biblioteca **Selenium do Python**.\n",
    "\n",
    "Faremos Web Scraping do seguinte site da Bovespa:\n",
    "\n",
    "http://www.b3.com.br/pt_br/produtos-e-servicos/negociacao/renda-variavel/empresas-listadas.htm\n",
    "\n",
    "**ATENÇÃO:** como a ideia deste scraping seria pegar do site da Bovespa códigos de empresas mais recentes, contudo como já existe o *codigos.txt* um pouco desatualizado, o projeto não depende dessa etapa para dar continuidade, tanto que este código buga ao tentar encontrar o botão da página javascript para clicar.\n",
    "\n",
    "Esta etapa do projeto se mostra importante devido à 3 pontos:\n",
    "\n",
    "* conseguir dados das ações atualizadas (ações que ainda estão vigentes na bolsa)\n",
    "\n",
    "* obter quais ações que compõe o \"IBrX 50\" (50 ações mais líquidas, mais fáceis de vender/comprar)\n",
    "\n",
    "* obter quais ações compõe o índice IBOVESPA (índice da Bolsa de Valores de SP)\n",
    "\n",
    "O fato de conhecer as **ações mais líquidas** e estão na **carteira do Ibovespa** facilita na prática ao se fazer um trading, pois ainda de conseguir vende-la ou compra-la a determinado preço é maior, entrando na parte final do projeto.\n"
   ]
  },
  {
   "cell_type": "code",
   "execution_count": null,
   "metadata": {},
   "outputs": [],
   "source": [
    "# bibliotecas \n",
    "from selenium import webdriver\n",
    "from selenium.webdriver.support.ui import WebDriverWait\n",
    "from selenium.webdriver.common.by import By\n",
    "from selenium.webdriver.support import expected_conditions as EC"
   ]
  },
  {
   "cell_type": "markdown",
   "metadata": {},
   "source": [
    "Como este notebook está sendo executado no **Windows 10 (64 bits)** e o navedor **Google Chrome** sendo usado como o caminho para raspagem dos dados, foi necessário baixar o executável WebDriver do Google Chrome. É necessário baixar o WebDrive com a versão compatível do navedor, caso contrário não irá rodar o código.\n",
    "\n",
    "Link para download do WebDrive Google Chrome:\n",
    "\n",
    "https://chromedriver.chromium.org/downloads\n"
   ]
  },
  {
   "cell_type": "markdown",
   "metadata": {},
   "source": [
    "### **O código abaixo está bugando pois, segundo ele, o navegador (\"*driver*\") não encontrar o ID pego do \"*botão da letra A*\" da página web, sendo que este foi copiado e colado.**"
   ]
  },
  {
   "cell_type": "code",
   "execution_count": null,
   "metadata": {},
   "outputs": [],
   "source": [
    "# caminho com o executável para criar o WebDrive baixado \n",
    "caminhoExeWebChorme = \"C:/Users/jardi/OneDrive/Documentos/FIA/2_juntandoDadosWebScraping/chromedriver_v80.exe\"    \n",
    "\n",
    "# cria a entidade que vai navegar pela web\n",
    "driver = webdriver.Chrome(caminhoExeWebChorme)\n",
    "\n",
    "# setando o site da bolsa\n",
    "driver.get('http://www.b3.com.br/pt_br/produtos-e-servicos/negociacao/renda-variavel/empresas-listadas.htm')\n",
    "\n",
    "# pegando ID da letra A\n",
    "# esse ID é pego clicando com o botão direito em cima do botão da página web\n",
    "# nesse caso, a letra A\n",
    "idLetraA = \"ctl00_contentPlaceHolderConteudo_BuscaNomeEmpresa1_lnkCaracterA\"\n",
    "\n",
    "# espera 10 segundos antes de tomar a próxima ação\n",
    "driver.implicitly_wait(10) \n",
    "\n",
    "# encontrando o botão (através do ID) e clicando nele\n",
    "driver.find_element_by_id(idLetraA).click()"
   ]
  },
  {
   "cell_type": "markdown",
   "metadata": {},
   "source": [
    "### CÓDIGOS NÃO TESTADOS DAQUI PRA BAIXO"
   ]
  },
  {
   "cell_type": "code",
   "execution_count": null,
   "metadata": {},
   "outputs": [],
   "source": [
    "# CÓDIGOS NÃO TESTADOS DAQUI PRA BAIXO\n",
    "WebDriverWait(driver, 10).until(EC.staleness_of(driver.find_element_by_id(idLetraA)))"
   ]
  },
  {
   "cell_type": "code",
   "execution_count": null,
   "metadata": {},
   "outputs": [],
   "source": [
    "caminhoExeWebChorme = \"C:/Users/jardi/OneDrive/Documentos/FIA/2_juntandoDadosWebScraping/chromedriver_v80.exe\"    \n",
    "\n",
    "navegador = webdriver.Chrome(caminhoExeWebChorme)\n",
    "# Load page\n",
    "navegador.get(\"'http://www.b3.com.br/pt_br/produtos-e-servicos/negociacao/renda-variavel/empresas-listadas.htm'\")\n",
    "\n",
    "idLetraA = \"ctl00_contentPlaceHolderConteudo_BuscaNomeEmpresa1_lnkCaracterA\"\n",
    "\n",
    "elementoWeb = navegador.find_element_by_id(idLetraA).click() # Find the query box\n",
    "\n",
    "#elementoWeb.click()"
   ]
  },
  {
   "cell_type": "code",
   "execution_count": null,
   "metadata": {},
   "outputs": [],
   "source": [
    "# pegando ID da letra A\n",
    "# esse ID é pego clicando com o botão direito em cima do botão da página web\n",
    "# nesse caso, a letra A\n",
    "idLetraA = \"ctl00_contentPlaceHolderConteudo_BuscaN\n",
    "omeEmpresa1_lnkCaracterA\"\n",
    "\n",
    "# encontrando o botão (através do ID) e clicando nele\n",
    "driver.find_element_by_id(idLetraA)"
   ]
  },
  {
   "cell_type": "code",
   "execution_count": null,
   "metadata": {},
   "outputs": [],
   "source": []
  },
  {
   "cell_type": "code",
   "execution_count": null,
   "metadata": {},
   "outputs": [],
   "source": []
  }
 ],
 "metadata": {
  "kernelspec": {
   "display_name": "Python 3",
   "language": "python",
   "name": "python3"
  },
  "language_info": {
   "codemirror_mode": {
    "name": "ipython",
    "version": 3
   },
   "file_extension": ".py",
   "mimetype": "text/x-python",
   "name": "python",
   "nbconvert_exporter": "python",
   "pygments_lexer": "ipython3",
   "version": "3.7.4"
  }
 },
 "nbformat": 4,
 "nbformat_minor": 2
}
