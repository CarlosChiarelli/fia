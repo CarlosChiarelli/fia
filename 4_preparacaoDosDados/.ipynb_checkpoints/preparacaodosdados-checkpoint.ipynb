{
 "cells": [
  {
   "cell_type": "markdown",
   "metadata": {
    "_cell_guid": "b1076dfc-b9ad-4769-8c92-a6c4dae69d19",
    "_uuid": "8f2839f25d086af736a60e9eeb907d3b93b6e0e5"
   },
   "source": [
    "# Prepação e transformação dos dados"
   ]
  },
  {
   "cell_type": "code",
   "execution_count": 1,
   "metadata": {
    "_cell_guid": "79c7e3d0-c299-4dcb-8224-4455121ee9b0",
    "_uuid": "d629ff2d2480ee46fbb7e2d37f6b5fab8052498a"
   },
   "outputs": [
    {
     "name": "stderr",
     "output_type": "stream",
     "text": [
      "Using TensorFlow backend.\n"
     ]
    }
   ],
   "source": [
    "import pandas as pd\n",
    "import numpy as np\n",
    "\n",
    "# visualizacao\n",
    "import matplotlib.pyplot as plt\n",
    "from seaborn import heatmap\n",
    "\n",
    "# base com modelos lineares\n",
    "import statsmodels.api as sm\n",
    "\n",
    "# modelo não linear (florestas aleatorias)\n",
    "from sklearn.tree import DecisionTreeRegressor\n",
    "\n",
    "# floresta aleatoria\n",
    "from sklearn.ensemble import RandomForestRegressor\n",
    "\n",
    "# gerar uma grade (dicionario) para ajuste de hiperparametros\n",
    "from sklearn.model_selection import ParameterGrid\n",
    "\n",
    "# XGB para regressão\n",
    "from sklearn.ensemble import GradientBoostingRegressor\n",
    "\n",
    "# normalização dos dados\n",
    "from sklearn.preprocessing import scale\n",
    "\n",
    "# KNN (vizinhos próximos)\n",
    "from sklearn.neighbors import KNeighborsRegressor\n",
    "\n",
    "# montar rede neural artifical\n",
    "from keras.models import Sequential\n",
    "from keras.layers import Dense\n",
    "\n",
    "# calcular R^2 (avaliar precisão regressão) no sklearn\n",
    "from sklearn.metrics import r2_score\n",
    "\n",
    "# funções para montar uma função de custo no keras\n",
    "import keras.losses\n",
    "import tensorflow as tf\n",
    "\n",
    "# regularização da rede neural no keras\n",
    "from keras.layers import Dropout\n",
    "\n",
    "# indicadores economicos\n",
    "# instalando ta, mais informação no git https://github.com/bukosabino/ta\n",
    "#!pip install ta\n",
    "import ta"
   ]
  },
  {
   "cell_type": "code",
   "execution_count": 2,
   "metadata": {},
   "outputs": [],
   "source": [
    "# lendo os dados da vale\n",
    "valeDf = pd.read_csv('vale.csv')"
   ]
  },
  {
   "cell_type": "code",
   "execution_count": 3,
   "metadata": {},
   "outputs": [
    {
     "data": {
      "text/html": [
       "<div>\n",
       "<style scoped>\n",
       "    .dataframe tbody tr th:only-of-type {\n",
       "        vertical-align: middle;\n",
       "    }\n",
       "\n",
       "    .dataframe tbody tr th {\n",
       "        vertical-align: top;\n",
       "    }\n",
       "\n",
       "    .dataframe thead th {\n",
       "        text-align: right;\n",
       "    }\n",
       "</style>\n",
       "<table border=\"1\" class=\"dataframe\">\n",
       "  <thead>\n",
       "    <tr style=\"text-align: right;\">\n",
       "      <th></th>\n",
       "      <th>data</th>\n",
       "      <th>open</th>\n",
       "      <th>high</th>\n",
       "      <th>low</th>\n",
       "      <th>close</th>\n",
       "      <th>volume</th>\n",
       "      <th>adjusted</th>\n",
       "      <th>quart</th>\n",
       "      <th>quint</th>\n",
       "      <th>seg</th>\n",
       "      <th>sext</th>\n",
       "      <th>terc</th>\n",
       "    </tr>\n",
       "  </thead>\n",
       "  <tbody>\n",
       "    <tr>\n",
       "      <th>0</th>\n",
       "      <td>2017-01-02</td>\n",
       "      <td>25.280001</td>\n",
       "      <td>25.49</td>\n",
       "      <td>25.049999</td>\n",
       "      <td>25.059999</td>\n",
       "      <td>1118500</td>\n",
       "      <td>22.465153</td>\n",
       "      <td>0</td>\n",
       "      <td>0</td>\n",
       "      <td>1</td>\n",
       "      <td>0</td>\n",
       "      <td>0</td>\n",
       "    </tr>\n",
       "    <tr>\n",
       "      <th>1</th>\n",
       "      <td>2017-01-03</td>\n",
       "      <td>25.510000</td>\n",
       "      <td>26.17</td>\n",
       "      <td>25.400000</td>\n",
       "      <td>26.170000</td>\n",
       "      <td>5658500</td>\n",
       "      <td>23.460220</td>\n",
       "      <td>0</td>\n",
       "      <td>0</td>\n",
       "      <td>0</td>\n",
       "      <td>0</td>\n",
       "      <td>1</td>\n",
       "    </tr>\n",
       "    <tr>\n",
       "      <th>2</th>\n",
       "      <td>2017-01-04</td>\n",
       "      <td>26.059999</td>\n",
       "      <td>26.23</td>\n",
       "      <td>25.360001</td>\n",
       "      <td>25.700001</td>\n",
       "      <td>2144400</td>\n",
       "      <td>23.038883</td>\n",
       "      <td>1</td>\n",
       "      <td>0</td>\n",
       "      <td>0</td>\n",
       "      <td>0</td>\n",
       "      <td>0</td>\n",
       "    </tr>\n",
       "    <tr>\n",
       "      <th>3</th>\n",
       "      <td>2017-01-05</td>\n",
       "      <td>25.980000</td>\n",
       "      <td>26.90</td>\n",
       "      <td>25.780001</td>\n",
       "      <td>26.680000</td>\n",
       "      <td>4031600</td>\n",
       "      <td>23.917410</td>\n",
       "      <td>0</td>\n",
       "      <td>1</td>\n",
       "      <td>0</td>\n",
       "      <td>0</td>\n",
       "      <td>0</td>\n",
       "    </tr>\n",
       "    <tr>\n",
       "      <th>4</th>\n",
       "      <td>2017-01-06</td>\n",
       "      <td>26.290001</td>\n",
       "      <td>26.59</td>\n",
       "      <td>25.860001</td>\n",
       "      <td>25.969999</td>\n",
       "      <td>4213500</td>\n",
       "      <td>23.280928</td>\n",
       "      <td>0</td>\n",
       "      <td>0</td>\n",
       "      <td>0</td>\n",
       "      <td>1</td>\n",
       "      <td>0</td>\n",
       "    </tr>\n",
       "  </tbody>\n",
       "</table>\n",
       "</div>"
      ],
      "text/plain": [
       "         data       open   high        low      close   volume   adjusted  \\\n",
       "0  2017-01-02  25.280001  25.49  25.049999  25.059999  1118500  22.465153   \n",
       "1  2017-01-03  25.510000  26.17  25.400000  26.170000  5658500  23.460220   \n",
       "2  2017-01-04  26.059999  26.23  25.360001  25.700001  2144400  23.038883   \n",
       "3  2017-01-05  25.980000  26.90  25.780001  26.680000  4031600  23.917410   \n",
       "4  2017-01-06  26.290001  26.59  25.860001  25.969999  4213500  23.280928   \n",
       "\n",
       "   quart  quint  seg  sext  terc  \n",
       "0      0      0    1     0     0  \n",
       "1      0      0    0     0     1  \n",
       "2      1      0    0     0     0  \n",
       "3      0      1    0     0     0  \n",
       "4      0      0    0     1     0  "
      ]
     },
     "execution_count": 3,
     "metadata": {},
     "output_type": "execute_result"
    }
   ],
   "source": [
    "valeDf.head()"
   ]
  },
  {
   "cell_type": "code",
   "execution_count": 4,
   "metadata": {},
   "outputs": [
    {
     "data": {
      "text/html": [
       "<div>\n",
       "<style scoped>\n",
       "    .dataframe tbody tr th:only-of-type {\n",
       "        vertical-align: middle;\n",
       "    }\n",
       "\n",
       "    .dataframe tbody tr th {\n",
       "        vertical-align: top;\n",
       "    }\n",
       "\n",
       "    .dataframe thead th {\n",
       "        text-align: right;\n",
       "    }\n",
       "</style>\n",
       "<table border=\"1\" class=\"dataframe\">\n",
       "  <thead>\n",
       "    <tr style=\"text-align: right;\">\n",
       "      <th></th>\n",
       "      <th>open</th>\n",
       "      <th>high</th>\n",
       "      <th>low</th>\n",
       "      <th>close</th>\n",
       "      <th>volume</th>\n",
       "      <th>adjusted</th>\n",
       "      <th>quart</th>\n",
       "      <th>quint</th>\n",
       "      <th>seg</th>\n",
       "      <th>sext</th>\n",
       "      <th>terc</th>\n",
       "    </tr>\n",
       "  </thead>\n",
       "  <tbody>\n",
       "    <tr>\n",
       "      <th>count</th>\n",
       "      <td>746.000000</td>\n",
       "      <td>746.000000</td>\n",
       "      <td>746.000000</td>\n",
       "      <td>746.000000</td>\n",
       "      <td>7.460000e+02</td>\n",
       "      <td>746.000000</td>\n",
       "      <td>746.000000</td>\n",
       "      <td>746.000000</td>\n",
       "      <td>746.000000</td>\n",
       "      <td>746.000000</td>\n",
       "      <td>746.000000</td>\n",
       "    </tr>\n",
       "    <tr>\n",
       "      <th>mean</th>\n",
       "      <td>43.379236</td>\n",
       "      <td>43.913847</td>\n",
       "      <td>42.797172</td>\n",
       "      <td>43.351059</td>\n",
       "      <td>1.628145e+07</td>\n",
       "      <td>41.360043</td>\n",
       "      <td>0.201072</td>\n",
       "      <td>0.205094</td>\n",
       "      <td>0.199732</td>\n",
       "      <td>0.197051</td>\n",
       "      <td>0.197051</td>\n",
       "    </tr>\n",
       "    <tr>\n",
       "      <th>std</th>\n",
       "      <td>9.589165</td>\n",
       "      <td>9.649934</td>\n",
       "      <td>9.480502</td>\n",
       "      <td>9.567145</td>\n",
       "      <td>1.087260e+07</td>\n",
       "      <td>9.981466</td>\n",
       "      <td>0.401071</td>\n",
       "      <td>0.404041</td>\n",
       "      <td>0.400067</td>\n",
       "      <td>0.398038</td>\n",
       "      <td>0.398038</td>\n",
       "    </tr>\n",
       "    <tr>\n",
       "      <th>min</th>\n",
       "      <td>25.000000</td>\n",
       "      <td>25.490000</td>\n",
       "      <td>25.000000</td>\n",
       "      <td>25.059999</td>\n",
       "      <td>0.000000e+00</td>\n",
       "      <td>22.465153</td>\n",
       "      <td>0.000000</td>\n",
       "      <td>0.000000</td>\n",
       "      <td>0.000000</td>\n",
       "      <td>0.000000</td>\n",
       "      <td>0.000000</td>\n",
       "    </tr>\n",
       "    <tr>\n",
       "      <th>25%</th>\n",
       "      <td>33.365001</td>\n",
       "      <td>33.845000</td>\n",
       "      <td>32.822501</td>\n",
       "      <td>33.312501</td>\n",
       "      <td>1.019788e+07</td>\n",
       "      <td>30.495821</td>\n",
       "      <td>0.000000</td>\n",
       "      <td>0.000000</td>\n",
       "      <td>0.000000</td>\n",
       "      <td>0.000000</td>\n",
       "      <td>0.000000</td>\n",
       "    </tr>\n",
       "    <tr>\n",
       "      <th>50%</th>\n",
       "      <td>46.649999</td>\n",
       "      <td>47.094999</td>\n",
       "      <td>46.030000</td>\n",
       "      <td>46.594999</td>\n",
       "      <td>1.532385e+07</td>\n",
       "      <td>45.151373</td>\n",
       "      <td>0.000000</td>\n",
       "      <td>0.000000</td>\n",
       "      <td>0.000000</td>\n",
       "      <td>0.000000</td>\n",
       "      <td>0.000000</td>\n",
       "    </tr>\n",
       "    <tr>\n",
       "      <th>75%</th>\n",
       "      <td>51.142501</td>\n",
       "      <td>51.735002</td>\n",
       "      <td>50.452499</td>\n",
       "      <td>51.085000</td>\n",
       "      <td>2.097925e+07</td>\n",
       "      <td>49.532479</td>\n",
       "      <td>0.000000</td>\n",
       "      <td>0.000000</td>\n",
       "      <td>0.000000</td>\n",
       "      <td>0.000000</td>\n",
       "      <td>0.000000</td>\n",
       "    </tr>\n",
       "    <tr>\n",
       "      <th>max</th>\n",
       "      <td>62.200001</td>\n",
       "      <td>62.419998</td>\n",
       "      <td>60.480000</td>\n",
       "      <td>62.200001</td>\n",
       "      <td>1.835345e+08</td>\n",
       "      <td>60.594360</td>\n",
       "      <td>1.000000</td>\n",
       "      <td>1.000000</td>\n",
       "      <td>1.000000</td>\n",
       "      <td>1.000000</td>\n",
       "      <td>1.000000</td>\n",
       "    </tr>\n",
       "  </tbody>\n",
       "</table>\n",
       "</div>"
      ],
      "text/plain": [
       "             open        high         low       close        volume  \\\n",
       "count  746.000000  746.000000  746.000000  746.000000  7.460000e+02   \n",
       "mean    43.379236   43.913847   42.797172   43.351059  1.628145e+07   \n",
       "std      9.589165    9.649934    9.480502    9.567145  1.087260e+07   \n",
       "min     25.000000   25.490000   25.000000   25.059999  0.000000e+00   \n",
       "25%     33.365001   33.845000   32.822501   33.312501  1.019788e+07   \n",
       "50%     46.649999   47.094999   46.030000   46.594999  1.532385e+07   \n",
       "75%     51.142501   51.735002   50.452499   51.085000  2.097925e+07   \n",
       "max     62.200001   62.419998   60.480000   62.200001  1.835345e+08   \n",
       "\n",
       "         adjusted       quart       quint         seg        sext        terc  \n",
       "count  746.000000  746.000000  746.000000  746.000000  746.000000  746.000000  \n",
       "mean    41.360043    0.201072    0.205094    0.199732    0.197051    0.197051  \n",
       "std      9.981466    0.401071    0.404041    0.400067    0.398038    0.398038  \n",
       "min     22.465153    0.000000    0.000000    0.000000    0.000000    0.000000  \n",
       "25%     30.495821    0.000000    0.000000    0.000000    0.000000    0.000000  \n",
       "50%     45.151373    0.000000    0.000000    0.000000    0.000000    0.000000  \n",
       "75%     49.532479    0.000000    0.000000    0.000000    0.000000    0.000000  \n",
       "max     60.594360    1.000000    1.000000    1.000000    1.000000    1.000000  "
      ]
     },
     "execution_count": 4,
     "metadata": {},
     "output_type": "execute_result"
    }
   ],
   "source": [
    "valeDf.describe()"
   ]
  },
  {
   "cell_type": "code",
   "execution_count": 5,
   "metadata": {},
   "outputs": [
    {
     "data": {
      "text/plain": [
       "Index(['data', 'open', 'high', 'low', 'close', 'volume', 'adjusted', 'quart',\n",
       "       'quint', 'seg', 'sext', 'terc'],\n",
       "      dtype='object')"
      ]
     },
     "execution_count": 5,
     "metadata": {},
     "output_type": "execute_result"
    }
   ],
   "source": [
    "valeDf.columns"
   ]
  },
  {
   "cell_type": "markdown",
   "metadata": {},
   "source": [
    "## Indicadores\n",
    "\n",
    "Inicadores não novas variáveis criadas em cima dos dados do mercado (abertura, fechamento, volume...) para indicar a movimentação do ativo (vai subir ou cair). Seguem alguns deles.\n",
    "\n",
    "**Média móvel:** é uma média realizada em um intervalo da série.\n",
    "\n",
    "**IFR (índice de força relativa) = RSI:** é um índice que mede a força de reversão do mercado e também é aplicado em perídos"
   ]
  },
  {
   "cell_type": "code",
   "execution_count": 6,
   "metadata": {},
   "outputs": [],
   "source": [
    "# faltam adicionar os indicadores de média móveis simples e exponêncial (para diferentes janelas 7, 15, 30, 90, 200 dias)\n",
    "# não está presente no pacote ta\n",
    "\n",
    "# https://finquant.readthedocs.io/en/latest/movingaverage.html"
   ]
  },
  {
   "cell_type": "code",
   "execution_count": 7,
   "metadata": {},
   "outputs": [
    {
     "name": "stderr",
     "output_type": "stream",
     "text": [
      "c:\\users\\jardi\\appdata\\local\\programs\\python\\python37\\lib\\site-packages\\ta\\trend.py:543: RuntimeWarning: invalid value encountered in double_scalars\n",
      "  dip[i] = 100 * (self._dip[i]/self._trs[i])\n",
      "c:\\users\\jardi\\appdata\\local\\programs\\python\\python37\\lib\\site-packages\\ta\\trend.py:547: RuntimeWarning: invalid value encountered in double_scalars\n",
      "  din[i] = 100 * (self._din[i]/self._trs[i])\n"
     ]
    }
   ],
   "source": [
    "# obtendo todos indicadores (74) do pacote \n",
    "# ou posso cria-los separadamente como \" ta.momentum.RSIIndicator() \"\"\n",
    "df = ta.add_all_ta_features(\n",
    "    valeDf, open=\"open\", high=\"high\", low=\"low\", close=\"close\", volume=\"volume\")"
   ]
  },
  {
   "cell_type": "code",
   "execution_count": 8,
   "metadata": {},
   "outputs": [
    {
     "data": {
      "text/plain": [
       "Index(['data', 'open', 'high', 'low', 'close', 'volume', 'adjusted', 'quart',\n",
       "       'quint', 'seg', 'sext', 'terc', 'volume_adi', 'volume_obv',\n",
       "       'volume_cmf', 'volume_fi', 'momentum_mfi', 'volume_em', 'volume_sma_em',\n",
       "       'volume_vpt', 'volume_nvi', 'volatility_atr', 'volatility_bbm',\n",
       "       'volatility_bbh', 'volatility_bbl', 'volatility_bbw', 'volatility_bbp',\n",
       "       'volatility_bbhi', 'volatility_bbli', 'volatility_kcc',\n",
       "       'volatility_kch', 'volatility_kcl', 'volatility_kcw', 'volatility_kcp',\n",
       "       'volatility_kchi', 'volatility_kcli', 'volatility_dcl',\n",
       "       'volatility_dch', 'volatility_dchi', 'volatility_dcli', 'trend_macd',\n",
       "       'trend_macd_signal', 'trend_macd_diff', 'trend_ema_fast',\n",
       "       'trend_ema_slow', 'trend_adx', 'trend_adx_pos', 'trend_adx_neg',\n",
       "       'trend_vortex_ind_pos', 'trend_vortex_ind_neg', 'trend_vortex_ind_diff',\n",
       "       'trend_trix', 'trend_mass_index', 'trend_cci', 'trend_dpo', 'trend_kst',\n",
       "       'trend_kst_sig', 'trend_kst_diff', 'trend_ichimoku_a',\n",
       "       'trend_ichimoku_b', 'trend_visual_ichimoku_a',\n",
       "       'trend_visual_ichimoku_b', 'trend_aroon_up', 'trend_aroon_down',\n",
       "       'trend_aroon_ind', 'trend_psar', 'trend_psar_up', 'trend_psar_down',\n",
       "       'trend_psar_up_indicator', 'trend_psar_down_indicator', 'momentum_rsi',\n",
       "       'momentum_tsi', 'momentum_uo', 'momentum_stoch',\n",
       "       'momentum_stoch_signal', 'momentum_wr', 'momentum_ao', 'momentum_kama',\n",
       "       'momentum_roc', 'others_dr', 'others_dlr', 'others_cr'],\n",
       "      dtype='object')"
      ]
     },
     "execution_count": 8,
     "metadata": {},
     "output_type": "execute_result"
    }
   ],
   "source": [
    "df.columns"
   ]
  },
  {
   "cell_type": "code",
   "execution_count": 9,
   "metadata": {},
   "outputs": [
    {
     "name": "stdout",
     "output_type": "stream",
     "text": [
      "<class 'pandas.core.frame.DataFrame'>\n",
      "RangeIndex: 746 entries, 0 to 745\n",
      "Data columns (total 82 columns):\n",
      " #   Column                     Non-Null Count  Dtype  \n",
      "---  ------                     --------------  -----  \n",
      " 0   data                       746 non-null    object \n",
      " 1   open                       746 non-null    float64\n",
      " 2   high                       746 non-null    float64\n",
      " 3   low                        746 non-null    float64\n",
      " 4   close                      746 non-null    float64\n",
      " 5   volume                     746 non-null    int64  \n",
      " 6   adjusted                   746 non-null    float64\n",
      " 7   quart                      746 non-null    int64  \n",
      " 8   quint                      746 non-null    int64  \n",
      " 9   seg                        746 non-null    int64  \n",
      " 10  sext                       746 non-null    int64  \n",
      " 11  terc                       746 non-null    int64  \n",
      " 12  volume_adi                 746 non-null    float64\n",
      " 13  volume_obv                 746 non-null    int64  \n",
      " 14  volume_cmf                 746 non-null    float64\n",
      " 15  volume_fi                  733 non-null    float64\n",
      " 16  momentum_mfi               733 non-null    float64\n",
      " 17  volume_em                  735 non-null    float64\n",
      " 18  volume_sma_em              745 non-null    float64\n",
      " 19  volume_vpt                 746 non-null    float64\n",
      " 20  volume_nvi                 746 non-null    float64\n",
      " 21  volatility_atr             746 non-null    float64\n",
      " 22  volatility_bbm             746 non-null    float64\n",
      " 23  volatility_bbh             746 non-null    float64\n",
      " 24  volatility_bbl             746 non-null    float64\n",
      " 25  volatility_bbw             746 non-null    float64\n",
      " 26  volatility_bbp             745 non-null    float64\n",
      " 27  volatility_bbhi            746 non-null    float64\n",
      " 28  volatility_bbli            746 non-null    float64\n",
      " 29  volatility_kcc             746 non-null    float64\n",
      " 30  volatility_kch             746 non-null    float64\n",
      " 31  volatility_kcl             746 non-null    float64\n",
      " 32  volatility_kcw             746 non-null    float64\n",
      " 33  volatility_kcp             746 non-null    float64\n",
      " 34  volatility_kchi            746 non-null    float64\n",
      " 35  volatility_kcli            746 non-null    float64\n",
      " 36  volatility_dcl             746 non-null    float64\n",
      " 37  volatility_dch             746 non-null    float64\n",
      " 38  volatility_dchi            746 non-null    float64\n",
      " 39  volatility_dcli            746 non-null    float64\n",
      " 40  trend_macd                 721 non-null    float64\n",
      " 41  trend_macd_signal          713 non-null    float64\n",
      " 42  trend_macd_diff            713 non-null    float64\n",
      " 43  trend_ema_fast             735 non-null    float64\n",
      " 44  trend_ema_slow             721 non-null    float64\n",
      " 45  trend_adx                  746 non-null    float64\n",
      " 46  trend_adx_pos              746 non-null    float64\n",
      " 47  trend_adx_neg              746 non-null    float64\n",
      " 48  trend_vortex_ind_pos       733 non-null    float64\n",
      " 49  trend_vortex_ind_neg       733 non-null    float64\n",
      " 50  trend_vortex_ind_diff      733 non-null    float64\n",
      " 51  trend_trix                 703 non-null    float64\n",
      " 52  trend_mass_index           746 non-null    float64\n",
      " 53  trend_cci                  745 non-null    float64\n",
      " 54  trend_dpo                  746 non-null    float64\n",
      " 55  trend_kst                  746 non-null    float64\n",
      " 56  trend_kst_sig              746 non-null    float64\n",
      " 57  trend_kst_diff             746 non-null    float64\n",
      " 58  trend_ichimoku_a           746 non-null    float64\n",
      " 59  trend_ichimoku_b           746 non-null    float64\n",
      " 60  trend_visual_ichimoku_a    746 non-null    float64\n",
      " 61  trend_visual_ichimoku_b    746 non-null    float64\n",
      " 62  trend_aroon_up             746 non-null    float64\n",
      " 63  trend_aroon_down           746 non-null    float64\n",
      " 64  trend_aroon_ind            746 non-null    float64\n",
      " 65  trend_psar                 746 non-null    float64\n",
      " 66  trend_psar_up              411 non-null    float64\n",
      " 67  trend_psar_down            333 non-null    float64\n",
      " 68  trend_psar_up_indicator    746 non-null    float64\n",
      " 69  trend_psar_down_indicator  746 non-null    float64\n",
      " 70  momentum_rsi               746 non-null    float64\n",
      " 71  momentum_tsi               745 non-null    float64\n",
      " 72  momentum_uo                718 non-null    float64\n",
      " 73  momentum_stoch             746 non-null    float64\n",
      " 74  momentum_stoch_signal      746 non-null    float64\n",
      " 75  momentum_wr                746 non-null    float64\n",
      " 76  momentum_ao                746 non-null    float64\n",
      " 77  momentum_kama              737 non-null    float64\n",
      " 78  momentum_roc               734 non-null    float64\n",
      " 79  others_dr                  746 non-null    float64\n",
      " 80  others_dlr                 745 non-null    float64\n",
      " 81  others_cr                  746 non-null    float64\n",
      "dtypes: float64(74), int64(7), object(1)\n",
      "memory usage: 478.0+ KB\n"
     ]
    }
   ],
   "source": [
    "df.info()"
   ]
  },
  {
   "cell_type": "code",
   "execution_count": 10,
   "metadata": {},
   "outputs": [
    {
     "data": {
      "text/html": [
       "<div>\n",
       "<style scoped>\n",
       "    .dataframe tbody tr th:only-of-type {\n",
       "        vertical-align: middle;\n",
       "    }\n",
       "\n",
       "    .dataframe tbody tr th {\n",
       "        vertical-align: top;\n",
       "    }\n",
       "\n",
       "    .dataframe thead th {\n",
       "        text-align: right;\n",
       "    }\n",
       "</style>\n",
       "<table border=\"1\" class=\"dataframe\">\n",
       "  <thead>\n",
       "    <tr style=\"text-align: right;\">\n",
       "      <th></th>\n",
       "      <th>data</th>\n",
       "      <th>open</th>\n",
       "      <th>high</th>\n",
       "      <th>low</th>\n",
       "      <th>close</th>\n",
       "      <th>volume</th>\n",
       "      <th>adjusted</th>\n",
       "      <th>quart</th>\n",
       "      <th>quint</th>\n",
       "      <th>seg</th>\n",
       "      <th>...</th>\n",
       "      <th>momentum_uo</th>\n",
       "      <th>momentum_stoch</th>\n",
       "      <th>momentum_stoch_signal</th>\n",
       "      <th>momentum_wr</th>\n",
       "      <th>momentum_ao</th>\n",
       "      <th>momentum_kama</th>\n",
       "      <th>momentum_roc</th>\n",
       "      <th>others_dr</th>\n",
       "      <th>others_dlr</th>\n",
       "      <th>others_cr</th>\n",
       "    </tr>\n",
       "  </thead>\n",
       "  <tbody>\n",
       "    <tr>\n",
       "      <th>726</th>\n",
       "      <td>2019-11-29</td>\n",
       "      <td>50.369999</td>\n",
       "      <td>50.470001</td>\n",
       "      <td>49.820000</td>\n",
       "      <td>49.980000</td>\n",
       "      <td>10290800</td>\n",
       "      <td>48.689808</td>\n",
       "      <td>0</td>\n",
       "      <td>0</td>\n",
       "      <td>0</td>\n",
       "      <td>...</td>\n",
       "      <td>62.699684</td>\n",
       "      <td>66.519831</td>\n",
       "      <td>73.788559</td>\n",
       "      <td>-33.480169</td>\n",
       "      <td>2.115118</td>\n",
       "      <td>48.981837</td>\n",
       "      <td>3.843754</td>\n",
       "      <td>-0.774268</td>\n",
       "      <td>-0.777281</td>\n",
       "      <td>99.441349</td>\n",
       "    </tr>\n",
       "    <tr>\n",
       "      <th>727</th>\n",
       "      <td>2019-12-02</td>\n",
       "      <td>50.150002</td>\n",
       "      <td>51.689999</td>\n",
       "      <td>50.110001</td>\n",
       "      <td>51.340000</td>\n",
       "      <td>23952200</td>\n",
       "      <td>50.014702</td>\n",
       "      <td>0</td>\n",
       "      <td>0</td>\n",
       "      <td>1</td>\n",
       "      <td>...</td>\n",
       "      <td>63.815989</td>\n",
       "      <td>92.600444</td>\n",
       "      <td>78.076797</td>\n",
       "      <td>-7.399556</td>\n",
       "      <td>2.062353</td>\n",
       "      <td>49.454502</td>\n",
       "      <td>7.181624</td>\n",
       "      <td>2.721088</td>\n",
       "      <td>2.684725</td>\n",
       "      <td>104.868324</td>\n",
       "    </tr>\n",
       "    <tr>\n",
       "      <th>728</th>\n",
       "      <td>2019-12-03</td>\n",
       "      <td>51.250000</td>\n",
       "      <td>51.259998</td>\n",
       "      <td>50.250000</td>\n",
       "      <td>50.419998</td>\n",
       "      <td>13479700</td>\n",
       "      <td>49.118446</td>\n",
       "      <td>0</td>\n",
       "      <td>0</td>\n",
       "      <td>0</td>\n",
       "      <td>...</td>\n",
       "      <td>55.975520</td>\n",
       "      <td>73.150085</td>\n",
       "      <td>77.423453</td>\n",
       "      <td>-26.849915</td>\n",
       "      <td>1.933529</td>\n",
       "      <td>49.542460</td>\n",
       "      <td>7.003394</td>\n",
       "      <td>-1.791979</td>\n",
       "      <td>-1.808229</td>\n",
       "      <td>101.197127</td>\n",
       "    </tr>\n",
       "    <tr>\n",
       "      <th>729</th>\n",
       "      <td>2019-12-04</td>\n",
       "      <td>50.830002</td>\n",
       "      <td>51.029999</td>\n",
       "      <td>50.529999</td>\n",
       "      <td>50.919998</td>\n",
       "      <td>9105800</td>\n",
       "      <td>49.605541</td>\n",
       "      <td>1</td>\n",
       "      <td>0</td>\n",
       "      <td>0</td>\n",
       "      <td>...</td>\n",
       "      <td>56.962358</td>\n",
       "      <td>83.720909</td>\n",
       "      <td>83.157146</td>\n",
       "      <td>-16.279091</td>\n",
       "      <td>1.872117</td>\n",
       "      <td>49.665393</td>\n",
       "      <td>8.340421</td>\n",
       "      <td>0.991670</td>\n",
       "      <td>0.986785</td>\n",
       "      <td>103.192339</td>\n",
       "    </tr>\n",
       "    <tr>\n",
       "      <th>730</th>\n",
       "      <td>2019-12-05</td>\n",
       "      <td>50.700001</td>\n",
       "      <td>51.080002</td>\n",
       "      <td>50.549999</td>\n",
       "      <td>50.950001</td>\n",
       "      <td>9503500</td>\n",
       "      <td>49.634769</td>\n",
       "      <td>0</td>\n",
       "      <td>1</td>\n",
       "      <td>0</td>\n",
       "      <td>...</td>\n",
       "      <td>57.736295</td>\n",
       "      <td>84.355222</td>\n",
       "      <td>80.408739</td>\n",
       "      <td>-15.644778</td>\n",
       "      <td>1.868264</td>\n",
       "      <td>49.771143</td>\n",
       "      <td>7.015333</td>\n",
       "      <td>0.058922</td>\n",
       "      <td>0.058904</td>\n",
       "      <td>103.312063</td>\n",
       "    </tr>\n",
       "    <tr>\n",
       "      <th>731</th>\n",
       "      <td>2019-12-06</td>\n",
       "      <td>51.250000</td>\n",
       "      <td>51.689999</td>\n",
       "      <td>51.029999</td>\n",
       "      <td>51.349998</td>\n",
       "      <td>13892600</td>\n",
       "      <td>50.024441</td>\n",
       "      <td>0</td>\n",
       "      <td>0</td>\n",
       "      <td>0</td>\n",
       "      <td>...</td>\n",
       "      <td>59.154519</td>\n",
       "      <td>91.923965</td>\n",
       "      <td>86.666699</td>\n",
       "      <td>-8.076035</td>\n",
       "      <td>1.978029</td>\n",
       "      <td>49.837783</td>\n",
       "      <td>6.601620</td>\n",
       "      <td>0.785078</td>\n",
       "      <td>0.782012</td>\n",
       "      <td>104.908220</td>\n",
       "    </tr>\n",
       "    <tr>\n",
       "      <th>732</th>\n",
       "      <td>2019-12-09</td>\n",
       "      <td>52.250000</td>\n",
       "      <td>52.490002</td>\n",
       "      <td>51.330002</td>\n",
       "      <td>51.439999</td>\n",
       "      <td>19388300</td>\n",
       "      <td>50.112118</td>\n",
       "      <td>0</td>\n",
       "      <td>0</td>\n",
       "      <td>1</td>\n",
       "      <td>...</td>\n",
       "      <td>52.810788</td>\n",
       "      <td>78.079274</td>\n",
       "      <td>84.786154</td>\n",
       "      <td>-21.920726</td>\n",
       "      <td>2.023853</td>\n",
       "      <td>49.867326</td>\n",
       "      <td>6.237094</td>\n",
       "      <td>0.175270</td>\n",
       "      <td>0.175116</td>\n",
       "      <td>105.267363</td>\n",
       "    </tr>\n",
       "    <tr>\n",
       "      <th>733</th>\n",
       "      <td>2019-12-10</td>\n",
       "      <td>51.220001</td>\n",
       "      <td>51.430000</td>\n",
       "      <td>50.900002</td>\n",
       "      <td>51.200001</td>\n",
       "      <td>13878600</td>\n",
       "      <td>49.878315</td>\n",
       "      <td>0</td>\n",
       "      <td>0</td>\n",
       "      <td>0</td>\n",
       "      <td>...</td>\n",
       "      <td>54.346478</td>\n",
       "      <td>73.068878</td>\n",
       "      <td>81.024039</td>\n",
       "      <td>-26.931122</td>\n",
       "      <td>1.975559</td>\n",
       "      <td>49.873315</td>\n",
       "      <td>2.338601</td>\n",
       "      <td>-0.466559</td>\n",
       "      <td>-0.467651</td>\n",
       "      <td>104.309669</td>\n",
       "    </tr>\n",
       "    <tr>\n",
       "      <th>734</th>\n",
       "      <td>2019-12-11</td>\n",
       "      <td>51.380001</td>\n",
       "      <td>52.049999</td>\n",
       "      <td>51.220001</td>\n",
       "      <td>51.830002</td>\n",
       "      <td>15572100</td>\n",
       "      <td>50.492054</td>\n",
       "      <td>1</td>\n",
       "      <td>0</td>\n",
       "      <td>0</td>\n",
       "      <td>...</td>\n",
       "      <td>50.860578</td>\n",
       "      <td>83.248744</td>\n",
       "      <td>78.132299</td>\n",
       "      <td>-16.751256</td>\n",
       "      <td>2.019647</td>\n",
       "      <td>49.970020</td>\n",
       "      <td>1.907198</td>\n",
       "      <td>1.230471</td>\n",
       "      <td>1.222962</td>\n",
       "      <td>106.823640</td>\n",
       "    </tr>\n",
       "    <tr>\n",
       "      <th>735</th>\n",
       "      <td>2019-12-12</td>\n",
       "      <td>52.099998</td>\n",
       "      <td>53.060001</td>\n",
       "      <td>51.730000</td>\n",
       "      <td>52.950001</td>\n",
       "      <td>25140900</td>\n",
       "      <td>51.583141</td>\n",
       "      <td>0</td>\n",
       "      <td>1</td>\n",
       "      <td>0</td>\n",
       "      <td>...</td>\n",
       "      <td>60.279454</td>\n",
       "      <td>96.735907</td>\n",
       "      <td>84.351176</td>\n",
       "      <td>-3.264093</td>\n",
       "      <td>2.189618</td>\n",
       "      <td>50.310522</td>\n",
       "      <td>3.377587</td>\n",
       "      <td>2.160909</td>\n",
       "      <td>2.137892</td>\n",
       "      <td>111.292909</td>\n",
       "    </tr>\n",
       "    <tr>\n",
       "      <th>736</th>\n",
       "      <td>2019-12-13</td>\n",
       "      <td>53.299999</td>\n",
       "      <td>54.000000</td>\n",
       "      <td>52.840000</td>\n",
       "      <td>53.759998</td>\n",
       "      <td>28172500</td>\n",
       "      <td>52.372227</td>\n",
       "      <td>0</td>\n",
       "      <td>0</td>\n",
       "      <td>0</td>\n",
       "      <td>...</td>\n",
       "      <td>61.118393</td>\n",
       "      <td>94.431509</td>\n",
       "      <td>91.472053</td>\n",
       "      <td>-5.568491</td>\n",
       "      <td>2.414118</td>\n",
       "      <td>50.971232</td>\n",
       "      <td>6.287062</td>\n",
       "      <td>1.529739</td>\n",
       "      <td>1.518157</td>\n",
       "      <td>114.525140</td>\n",
       "    </tr>\n",
       "    <tr>\n",
       "      <th>737</th>\n",
       "      <td>2019-12-16</td>\n",
       "      <td>54.500000</td>\n",
       "      <td>54.669998</td>\n",
       "      <td>53.340000</td>\n",
       "      <td>53.340000</td>\n",
       "      <td>21806800</td>\n",
       "      <td>51.963074</td>\n",
       "      <td>0</td>\n",
       "      <td>0</td>\n",
       "      <td>1</td>\n",
       "      <td>...</td>\n",
       "      <td>51.260580</td>\n",
       "      <td>73.293207</td>\n",
       "      <td>88.153541</td>\n",
       "      <td>-26.706793</td>\n",
       "      <td>2.658118</td>\n",
       "      <td>51.181458</td>\n",
       "      <td>5.896369</td>\n",
       "      <td>-0.781246</td>\n",
       "      <td>-0.784314</td>\n",
       "      <td>112.849171</td>\n",
       "    </tr>\n",
       "    <tr>\n",
       "      <th>738</th>\n",
       "      <td>2019-12-17</td>\n",
       "      <td>53.250000</td>\n",
       "      <td>53.709999</td>\n",
       "      <td>53.049999</td>\n",
       "      <td>53.419998</td>\n",
       "      <td>13570300</td>\n",
       "      <td>52.041004</td>\n",
       "      <td>0</td>\n",
       "      <td>0</td>\n",
       "      <td>0</td>\n",
       "      <td>...</td>\n",
       "      <td>51.664583</td>\n",
       "      <td>74.899593</td>\n",
       "      <td>80.874770</td>\n",
       "      <td>-25.100407</td>\n",
       "      <td>2.959647</td>\n",
       "      <td>51.702987</td>\n",
       "      <td>6.882749</td>\n",
       "      <td>0.149978</td>\n",
       "      <td>0.149865</td>\n",
       "      <td>113.168396</td>\n",
       "    </tr>\n",
       "    <tr>\n",
       "      <th>739</th>\n",
       "      <td>2019-12-18</td>\n",
       "      <td>53.279999</td>\n",
       "      <td>53.540001</td>\n",
       "      <td>52.599998</td>\n",
       "      <td>53.470001</td>\n",
       "      <td>22924500</td>\n",
       "      <td>52.089718</td>\n",
       "      <td>1</td>\n",
       "      <td>0</td>\n",
       "      <td>0</td>\n",
       "      <td>...</td>\n",
       "      <td>59.744807</td>\n",
       "      <td>75.257784</td>\n",
       "      <td>74.483528</td>\n",
       "      <td>-24.742216</td>\n",
       "      <td>3.110470</td>\n",
       "      <td>52.078975</td>\n",
       "      <td>4.148814</td>\n",
       "      <td>0.093604</td>\n",
       "      <td>0.093560</td>\n",
       "      <td>113.367930</td>\n",
       "    </tr>\n",
       "    <tr>\n",
       "      <th>740</th>\n",
       "      <td>2019-12-19</td>\n",
       "      <td>53.500000</td>\n",
       "      <td>54.240002</td>\n",
       "      <td>53.220001</td>\n",
       "      <td>54.000000</td>\n",
       "      <td>17683200</td>\n",
       "      <td>52.606033</td>\n",
       "      <td>0</td>\n",
       "      <td>1</td>\n",
       "      <td>0</td>\n",
       "      <td>...</td>\n",
       "      <td>62.090412</td>\n",
       "      <td>85.307052</td>\n",
       "      <td>78.488143</td>\n",
       "      <td>-14.692948</td>\n",
       "      <td>3.213500</td>\n",
       "      <td>52.530443</td>\n",
       "      <td>7.100361</td>\n",
       "      <td>0.991208</td>\n",
       "      <td>0.986328</td>\n",
       "      <td>115.482850</td>\n",
       "    </tr>\n",
       "    <tr>\n",
       "      <th>741</th>\n",
       "      <td>2019-12-20</td>\n",
       "      <td>54.770000</td>\n",
       "      <td>54.990002</td>\n",
       "      <td>54.150002</td>\n",
       "      <td>54.790001</td>\n",
       "      <td>42124200</td>\n",
       "      <td>53.375641</td>\n",
       "      <td>0</td>\n",
       "      <td>0</td>\n",
       "      <td>0</td>\n",
       "      <td>...</td>\n",
       "      <td>62.593994</td>\n",
       "      <td>95.780571</td>\n",
       "      <td>85.448469</td>\n",
       "      <td>-4.219429</td>\n",
       "      <td>3.240559</td>\n",
       "      <td>53.094620</td>\n",
       "      <td>7.600163</td>\n",
       "      <td>1.462965</td>\n",
       "      <td>1.452367</td>\n",
       "      <td>118.635288</td>\n",
       "    </tr>\n",
       "    <tr>\n",
       "      <th>742</th>\n",
       "      <td>2019-12-23</td>\n",
       "      <td>54.900002</td>\n",
       "      <td>54.980000</td>\n",
       "      <td>54.400002</td>\n",
       "      <td>54.580002</td>\n",
       "      <td>10225700</td>\n",
       "      <td>53.171062</td>\n",
       "      <td>0</td>\n",
       "      <td>0</td>\n",
       "      <td>1</td>\n",
       "      <td>...</td>\n",
       "      <td>58.866584</td>\n",
       "      <td>90.807181</td>\n",
       "      <td>90.631601</td>\n",
       "      <td>-9.192819</td>\n",
       "      <td>3.187559</td>\n",
       "      <td>53.398044</td>\n",
       "      <td>7.124634</td>\n",
       "      <td>-0.383280</td>\n",
       "      <td>-0.384016</td>\n",
       "      <td>117.797303</td>\n",
       "    </tr>\n",
       "    <tr>\n",
       "      <th>743</th>\n",
       "      <td>2019-12-26</td>\n",
       "      <td>54.810001</td>\n",
       "      <td>55.000000</td>\n",
       "      <td>54.509998</td>\n",
       "      <td>54.790001</td>\n",
       "      <td>20410000</td>\n",
       "      <td>53.375641</td>\n",
       "      <td>0</td>\n",
       "      <td>1</td>\n",
       "      <td>0</td>\n",
       "      <td>...</td>\n",
       "      <td>56.347131</td>\n",
       "      <td>95.280922</td>\n",
       "      <td>93.956225</td>\n",
       "      <td>-4.719078</td>\n",
       "      <td>3.306530</td>\n",
       "      <td>53.760422</td>\n",
       "      <td>6.699130</td>\n",
       "      <td>0.384754</td>\n",
       "      <td>0.384016</td>\n",
       "      <td>118.635288</td>\n",
       "    </tr>\n",
       "    <tr>\n",
       "      <th>744</th>\n",
       "      <td>2019-12-27</td>\n",
       "      <td>53.990002</td>\n",
       "      <td>54.000000</td>\n",
       "      <td>53.419998</td>\n",
       "      <td>53.599998</td>\n",
       "      <td>13920400</td>\n",
       "      <td>53.599998</td>\n",
       "      <td>0</td>\n",
       "      <td>0</td>\n",
       "      <td>0</td>\n",
       "      <td>...</td>\n",
       "      <td>56.219399</td>\n",
       "      <td>65.853593</td>\n",
       "      <td>83.980566</td>\n",
       "      <td>-34.146407</td>\n",
       "      <td>3.321147</td>\n",
       "      <td>53.749450</td>\n",
       "      <td>4.199065</td>\n",
       "      <td>-2.171935</td>\n",
       "      <td>-2.195868</td>\n",
       "      <td>113.886673</td>\n",
       "    </tr>\n",
       "    <tr>\n",
       "      <th>745</th>\n",
       "      <td>2019-12-30</td>\n",
       "      <td>53.650002</td>\n",
       "      <td>53.860001</td>\n",
       "      <td>53.200001</td>\n",
       "      <td>53.299999</td>\n",
       "      <td>11928100</td>\n",
       "      <td>53.299999</td>\n",
       "      <td>0</td>\n",
       "      <td>0</td>\n",
       "      <td>1</td>\n",
       "      <td>...</td>\n",
       "      <td>53.126502</td>\n",
       "      <td>58.536541</td>\n",
       "      <td>73.223685</td>\n",
       "      <td>-41.463459</td>\n",
       "      <td>3.160706</td>\n",
       "      <td>53.743969</td>\n",
       "      <td>4.101559</td>\n",
       "      <td>-0.559700</td>\n",
       "      <td>-0.561272</td>\n",
       "      <td>112.689550</td>\n",
       "    </tr>\n",
       "  </tbody>\n",
       "</table>\n",
       "<p>20 rows × 82 columns</p>\n",
       "</div>"
      ],
      "text/plain": [
       "           data       open       high        low      close    volume  \\\n",
       "726  2019-11-29  50.369999  50.470001  49.820000  49.980000  10290800   \n",
       "727  2019-12-02  50.150002  51.689999  50.110001  51.340000  23952200   \n",
       "728  2019-12-03  51.250000  51.259998  50.250000  50.419998  13479700   \n",
       "729  2019-12-04  50.830002  51.029999  50.529999  50.919998   9105800   \n",
       "730  2019-12-05  50.700001  51.080002  50.549999  50.950001   9503500   \n",
       "731  2019-12-06  51.250000  51.689999  51.029999  51.349998  13892600   \n",
       "732  2019-12-09  52.250000  52.490002  51.330002  51.439999  19388300   \n",
       "733  2019-12-10  51.220001  51.430000  50.900002  51.200001  13878600   \n",
       "734  2019-12-11  51.380001  52.049999  51.220001  51.830002  15572100   \n",
       "735  2019-12-12  52.099998  53.060001  51.730000  52.950001  25140900   \n",
       "736  2019-12-13  53.299999  54.000000  52.840000  53.759998  28172500   \n",
       "737  2019-12-16  54.500000  54.669998  53.340000  53.340000  21806800   \n",
       "738  2019-12-17  53.250000  53.709999  53.049999  53.419998  13570300   \n",
       "739  2019-12-18  53.279999  53.540001  52.599998  53.470001  22924500   \n",
       "740  2019-12-19  53.500000  54.240002  53.220001  54.000000  17683200   \n",
       "741  2019-12-20  54.770000  54.990002  54.150002  54.790001  42124200   \n",
       "742  2019-12-23  54.900002  54.980000  54.400002  54.580002  10225700   \n",
       "743  2019-12-26  54.810001  55.000000  54.509998  54.790001  20410000   \n",
       "744  2019-12-27  53.990002  54.000000  53.419998  53.599998  13920400   \n",
       "745  2019-12-30  53.650002  53.860001  53.200001  53.299999  11928100   \n",
       "\n",
       "      adjusted  quart  quint  seg  ...  momentum_uo  momentum_stoch  \\\n",
       "726  48.689808      0      0    0  ...    62.699684       66.519831   \n",
       "727  50.014702      0      0    1  ...    63.815989       92.600444   \n",
       "728  49.118446      0      0    0  ...    55.975520       73.150085   \n",
       "729  49.605541      1      0    0  ...    56.962358       83.720909   \n",
       "730  49.634769      0      1    0  ...    57.736295       84.355222   \n",
       "731  50.024441      0      0    0  ...    59.154519       91.923965   \n",
       "732  50.112118      0      0    1  ...    52.810788       78.079274   \n",
       "733  49.878315      0      0    0  ...    54.346478       73.068878   \n",
       "734  50.492054      1      0    0  ...    50.860578       83.248744   \n",
       "735  51.583141      0      1    0  ...    60.279454       96.735907   \n",
       "736  52.372227      0      0    0  ...    61.118393       94.431509   \n",
       "737  51.963074      0      0    1  ...    51.260580       73.293207   \n",
       "738  52.041004      0      0    0  ...    51.664583       74.899593   \n",
       "739  52.089718      1      0    0  ...    59.744807       75.257784   \n",
       "740  52.606033      0      1    0  ...    62.090412       85.307052   \n",
       "741  53.375641      0      0    0  ...    62.593994       95.780571   \n",
       "742  53.171062      0      0    1  ...    58.866584       90.807181   \n",
       "743  53.375641      0      1    0  ...    56.347131       95.280922   \n",
       "744  53.599998      0      0    0  ...    56.219399       65.853593   \n",
       "745  53.299999      0      0    1  ...    53.126502       58.536541   \n",
       "\n",
       "     momentum_stoch_signal  momentum_wr  momentum_ao  momentum_kama  \\\n",
       "726              73.788559   -33.480169     2.115118      48.981837   \n",
       "727              78.076797    -7.399556     2.062353      49.454502   \n",
       "728              77.423453   -26.849915     1.933529      49.542460   \n",
       "729              83.157146   -16.279091     1.872117      49.665393   \n",
       "730              80.408739   -15.644778     1.868264      49.771143   \n",
       "731              86.666699    -8.076035     1.978029      49.837783   \n",
       "732              84.786154   -21.920726     2.023853      49.867326   \n",
       "733              81.024039   -26.931122     1.975559      49.873315   \n",
       "734              78.132299   -16.751256     2.019647      49.970020   \n",
       "735              84.351176    -3.264093     2.189618      50.310522   \n",
       "736              91.472053    -5.568491     2.414118      50.971232   \n",
       "737              88.153541   -26.706793     2.658118      51.181458   \n",
       "738              80.874770   -25.100407     2.959647      51.702987   \n",
       "739              74.483528   -24.742216     3.110470      52.078975   \n",
       "740              78.488143   -14.692948     3.213500      52.530443   \n",
       "741              85.448469    -4.219429     3.240559      53.094620   \n",
       "742              90.631601    -9.192819     3.187559      53.398044   \n",
       "743              93.956225    -4.719078     3.306530      53.760422   \n",
       "744              83.980566   -34.146407     3.321147      53.749450   \n",
       "745              73.223685   -41.463459     3.160706      53.743969   \n",
       "\n",
       "     momentum_roc  others_dr  others_dlr   others_cr  \n",
       "726      3.843754  -0.774268   -0.777281   99.441349  \n",
       "727      7.181624   2.721088    2.684725  104.868324  \n",
       "728      7.003394  -1.791979   -1.808229  101.197127  \n",
       "729      8.340421   0.991670    0.986785  103.192339  \n",
       "730      7.015333   0.058922    0.058904  103.312063  \n",
       "731      6.601620   0.785078    0.782012  104.908220  \n",
       "732      6.237094   0.175270    0.175116  105.267363  \n",
       "733      2.338601  -0.466559   -0.467651  104.309669  \n",
       "734      1.907198   1.230471    1.222962  106.823640  \n",
       "735      3.377587   2.160909    2.137892  111.292909  \n",
       "736      6.287062   1.529739    1.518157  114.525140  \n",
       "737      5.896369  -0.781246   -0.784314  112.849171  \n",
       "738      6.882749   0.149978    0.149865  113.168396  \n",
       "739      4.148814   0.093604    0.093560  113.367930  \n",
       "740      7.100361   0.991208    0.986328  115.482850  \n",
       "741      7.600163   1.462965    1.452367  118.635288  \n",
       "742      7.124634  -0.383280   -0.384016  117.797303  \n",
       "743      6.699130   0.384754    0.384016  118.635288  \n",
       "744      4.199065  -2.171935   -2.195868  113.886673  \n",
       "745      4.101559  -0.559700   -0.561272  112.689550  \n",
       "\n",
       "[20 rows x 82 columns]"
      ]
     },
     "execution_count": 10,
     "metadata": {},
     "output_type": "execute_result"
    }
   ],
   "source": [
    "df.tail(20)"
   ]
  },
  {
   "cell_type": "code",
   "execution_count": 11,
   "metadata": {
    "_cell_guid": "",
    "_uuid": ""
   },
   "outputs": [
    {
     "name": "stdout",
     "output_type": "stream",
     "text": [
      "Dimensoes:\n",
      " Antes:  (746, 82)  ___ Depois:  (0, 82)\n"
     ]
    }
   ],
   "source": [
    "dimAntes = df.shape\n",
    "\n",
    "# removendo missings\n",
    "df = df.dropna()\n",
    "\n",
    "dimDps = df.shape\n",
    "\n",
    "print(\"Dimensoes:\\n Antes: \", dimAntes, \" ___ Depois: \", dimDps)"
   ]
  },
  {
   "cell_type": "code",
   "execution_count": 12,
   "metadata": {},
   "outputs": [
    {
     "name": "stderr",
     "output_type": "stream",
     "text": [
      "c:\\users\\jardi\\appdata\\local\\programs\\python\\python37\\lib\\site-packages\\ta\\trend.py:543: RuntimeWarning: invalid value encountered in double_scalars\n",
      "  dip[i] = 100 * (self._dip[i]/self._trs[i])\n",
      "c:\\users\\jardi\\appdata\\local\\programs\\python\\python37\\lib\\site-packages\\ta\\trend.py:547: RuntimeWarning: invalid value encountered in double_scalars\n",
      "  din[i] = 100 * (self._din[i]/self._trs[i])\n"
     ]
    }
   ],
   "source": [
    "indicDf = ta.add_all_ta_features(\n",
    "    valeDf, open=\"open\", high=\"high\", low=\"low\", close=\"close\", volume=\"volume\")\n",
    "\n",
    "\n",
    "# adicionando as bandas de Bollinger\n",
    "indicator_bb = ta.volatility.BollingerBands(close=indicDf[\"close\"], n=20, ndev=2)\n",
    "\n",
    "# Add Bollinger Bands features\n",
    "indicDf['bb_bbm'] = indicator_bb.bollinger_mavg()\n",
    "indicDf['bb_bbh'] = indicator_bb.bollinger_hband()\n",
    "indicDf['bb_bbl'] = indicator_bb.bollinger_lband()\n",
    "\n",
    "# Add Bollinger Band high indicator\n",
    "indicDf['bb_bbhi'] = indicator_bb.bollinger_hband_indicator()\n",
    "\n",
    "# Add Bollinger Band low indicator\n",
    "indicDf['bb_bbli'] = indicator_bb.bollinger_lband_indicator()\n",
    "\n",
    "# Add width size Bollinger Bands\n",
    "indicDf['bb_bbw'] = indicator_bb.bollinger_wband()"
   ]
  },
  {
   "cell_type": "code",
   "execution_count": 13,
   "metadata": {},
   "outputs": [],
   "source": [
    "# removendo linhas e colunas com muitos NAs \n",
    "# df = df.dropna() não é útul pois existe NA em todas linhas\n",
    "indicDf = indicDf.loc[200:700].drop(['volume_em', 'trend_psar_up', 'trend_psar_down'], axis=1)\n",
    "\n",
    "# visualizando a correlação dos indicadores\n",
    "correlacao = indicDf.corr()"
   ]
  },
  {
   "cell_type": "code",
   "execution_count": 14,
   "metadata": {
    "_cell_guid": "",
    "_uuid": ""
   },
   "outputs": [
    {
     "name": "stdout",
     "output_type": "stream",
     "text": [
      "AxesSubplot(0.125,0.125;0.62x0.755)\n"
     ]
    },
    {
     "data": {
      "image/png": "[encoded data removed]",
      "text/plain": [
       "<Figure size 432x288 with 2 Axes>"
      ]
     },
     "metadata": {
      "needs_background": "light"
     },
     "output_type": "display_data"
    }
   ],
   "source": [
    "# olhando correlação entre variaveis e indicadores\n",
    "print(heatmap(correlacao, annot=True, annot_kws = {\"size\": 14}))"
   ]
  },
  {
   "cell_type": "markdown",
   "metadata": {},
   "source": [
    "## Treinando um modelo linear simples\n",
    "\n",
    "Antes de se iniciar a modelagem preditiva é necessário estabelecer um *baseline*, um modelo base inicial para se comparar com os próximos modelos. Uma boa premissa para isso em séries temporais é supor que o próximo dia será igual ao anterior, então se dá início aos próximos modelos para serem comparados com essa estimativa inicial. \n",
    "\n",
    "Usando todos os indicadores e as demais variávies pra prever o fechamento.\n",
    "\n",
    "Vamos treinar um modelo linear simples e usar o **p-valor** como métrica de avaliação.\n",
    "\n",
    "Se p-valor for menor 0.05 então a variável é estatisticamente significante para explicar esse modelo.\n",
    "\n"
   ]
  },
  {
   "cell_type": "code",
   "execution_count": 15,
   "metadata": {},
   "outputs": [
    {
     "name": "stdout",
     "output_type": "stream",
     "text": [
      "(501, 84) (425, 84) (76, 84)\n"
     ]
    }
   ],
   "source": [
    "# selecionando variável alvo\n",
    "targets = indicDf.loc[:, indicDf.columns == 'close']\n",
    "\n",
    "# adicionando uma constante para as variaveis\n",
    "varsLinDf = sm.add_constant(indicDf.drop(['close','data'], axis=1))\n",
    "\n",
    "# separando conjunto de teste e treino\n",
    "train_size = int(0.85 * varsLinDf.shape[0])\n",
    "train_features = varsLinDf[:train_size]\n",
    "train_targets = targets[:train_size]\n",
    "test_features = varsLinDf[train_size:]\n",
    "test_targets = targets[train_size:]\n",
    "\n",
    "# dimensoes dos conjuntos de treino e teste\n",
    "print(varsLinDf.shape, train_features.shape, test_features.shape)"
   ]
  },
  {
   "cell_type": "code",
   "execution_count": 16,
   "metadata": {},
   "outputs": [
    {
     "name": "stdout",
     "output_type": "stream",
     "text": [
      "                            OLS Regression Results                            \n",
      "==============================================================================\n",
      "Dep. Variable:                      y   R-squared:                       1.000\n",
      "Model:                            OLS   Adj. R-squared:                  1.000\n",
      "Method:                 Least Squares   F-statistic:                 2.191e+18\n",
      "Date:                Sun, 22 Mar 2020   Prob (F-statistic):               0.00\n",
      "Time:                        17:41:07   Log-Likelihood:                 7213.7\n",
      "No. Observations:                 425   AIC:                        -1.429e+04\n",
      "Df Residuals:                     356   BIC:                        -1.401e+04\n",
      "Df Model:                          68                                         \n",
      "Covariance Type:            nonrobust                                         \n",
      "==============================================================================\n",
      "                 coef    std err          t      P>|t|      [0.025      0.975]\n",
      "------------------------------------------------------------------------------\n",
      "const          0.0050   3.72e-11   1.35e+08      0.000       0.005       0.005\n",
      "x1          6.234e-11      2e-09      0.031      0.975   -3.86e-09    3.99e-09\n",
      "x2          1.492e-10   2.66e-09      0.056      0.955   -5.09e-09    5.38e-09\n",
      "x3          2.154e-09   2.71e-09      0.796      0.427   -3.17e-09    7.48e-09\n",
      "x4          8.946e-18    1.2e-16      0.075      0.941   -2.27e-16    2.45e-16\n",
      "x5          -1.57e-09   3.52e-09     -0.447      0.655   -8.48e-09    5.34e-09\n",
      "x6             0.0010   1.12e-09   8.95e+05      0.000       0.001       0.001\n",
      "x7             0.0010   1.12e-09   8.95e+05      0.000       0.001       0.001\n",
      "x8             0.0010   1.17e-09   8.57e+05      0.000       0.001       0.001\n",
      "x9             0.0010   1.15e-09   8.68e+05      0.000       0.001       0.001\n",
      "x10            0.0010   1.14e-09   8.81e+05      0.000       0.001       0.001\n",
      "x11        -2.411e-17   3.56e-17     -0.678      0.498    -9.4e-17    4.58e-17\n",
      "x12        -8.287e-18    2.7e-17     -0.307      0.759   -6.14e-17    4.48e-17\n",
      "x13        -3.234e-09   9.03e-09     -0.358      0.721    -2.1e-08    1.45e-08\n",
      "x14        -7.059e-17    1.1e-16     -0.640      0.523   -2.87e-16    1.46e-16\n",
      "x15         -1.01e-10   1.39e-10     -0.724      0.470   -3.75e-10    1.73e-10\n",
      "x16        -2.477e-09   1.49e-09     -1.657      0.098   -5.42e-09    4.62e-10\n",
      "x17        -1.201e-16   4.36e-16     -0.276      0.783   -9.77e-16    7.37e-16\n",
      "x18        -6.987e-12   2.32e-11     -0.301      0.764   -5.27e-11    3.87e-11\n",
      "x19        -5.343e-09   1.27e-08     -0.421      0.674   -3.03e-08    1.96e-08\n",
      "x20         9.509e-10   1.28e-09      0.741      0.459   -1.57e-09    3.48e-09\n",
      "x21         8.805e-10   1.95e-09      0.452      0.652   -2.95e-09    4.71e-09\n",
      "x22         1.021e-09   2.46e-09      0.415      0.678   -3.82e-09    5.86e-09\n",
      "x23        -3.518e-10   8.68e-10     -0.405      0.686   -2.06e-09    1.36e-09\n",
      "x24        -4.653e-09   2.74e-08     -0.170      0.865   -5.84e-08    4.91e-08\n",
      "x25         6.679e-10   1.66e-09      0.402      0.688    -2.6e-09    3.94e-09\n",
      "x26         6.801e-10   2.84e-09      0.240      0.811    -4.9e-09    6.26e-09\n",
      "x27         5.667e-10   2.68e-09      0.212      0.833    -4.7e-09    5.83e-09\n",
      "x28           3.8e-09   1.61e-08      0.235      0.814    -2.8e-08    3.56e-08\n",
      "x29        -2.667e-09    1.5e-08     -0.178      0.859   -3.22e-08    2.68e-08\n",
      "x30         1.566e-10   6.73e-09      0.023      0.981   -1.31e-08    1.34e-08\n",
      "x31        -1.448e-10   7.24e-09     -0.020      0.984   -1.44e-08    1.41e-08\n",
      "x32        -1.064e-09    2.5e-09     -0.426      0.670   -5.97e-09    3.84e-09\n",
      "x33         5.116e-11   2.65e-09      0.019      0.985   -5.17e-09    5.27e-09\n",
      "x34        -2.568e-09   2.02e-09     -1.273      0.204   -6.54e-09     1.4e-09\n",
      "x35         1.759e-09   1.28e-09      1.372      0.171   -7.63e-10    4.28e-09\n",
      "x36         1.821e-10   2.47e-09      0.074      0.941   -4.67e-09    5.04e-09\n",
      "x37         -9.15e-11   3.53e-09     -0.026      0.979   -7.03e-09    6.85e-09\n",
      "x38        -3.491e-09   1.14e-08     -0.307      0.759   -2.58e-08    1.89e-08\n",
      "x39         1.643e-09   1.26e-08      0.130      0.897   -2.32e-08    2.65e-08\n",
      "x40        -5.134e-09   2.01e-08     -0.256      0.798   -4.46e-08    3.44e-08\n",
      "x41          -6.3e-09   7.35e-09     -0.857      0.392   -2.08e-08    8.16e-09\n",
      "x42        -2.809e-09   9.96e-09     -0.282      0.778   -2.24e-08    1.68e-08\n",
      "x43         1.151e-11   2.56e-10      0.045      0.964   -4.92e-10    5.15e-10\n",
      "x44         1.058e-10   3.55e-10      0.298      0.766   -5.93e-10    8.04e-10\n",
      "x45         1.698e-11   3.16e-10      0.054      0.957   -6.04e-10    6.38e-10\n",
      "x46         4.229e-09    1.5e-08      0.281      0.779   -2.54e-08    3.38e-08\n",
      "x47        -7.911e-09   1.51e-08     -0.523      0.601   -3.77e-08    2.18e-08\n",
      "x48         1.214e-08    6.6e-09      1.838      0.067   -8.46e-10    2.51e-08\n",
      "x49          8.65e-10   7.57e-08      0.011      0.991   -1.48e-07     1.5e-07\n",
      "x50         -3.99e-10   1.81e-09     -0.220      0.826   -3.97e-09    3.17e-09\n",
      "x51         7.391e-12    6.9e-11      0.107      0.915   -1.28e-10    1.43e-10\n",
      "x52         3.296e-10   7.35e-10      0.448      0.654   -1.12e-09    1.78e-09\n",
      "x53        -2.084e-11   1.34e-10     -0.156      0.876   -2.84e-10    2.43e-10\n",
      "x54         -1.24e-10   1.09e-10     -1.134      0.258   -3.39e-10    9.11e-11\n",
      "x55         1.032e-10   1.43e-10      0.724      0.470   -1.77e-10    3.83e-10\n",
      "x56        -1.374e-10   2.26e-09     -0.061      0.952   -4.58e-09    4.31e-09\n",
      "x57        -1.484e-09   1.71e-09     -0.868      0.386   -4.85e-09    1.88e-09\n",
      "x58        -4.555e-10   1.38e-09     -0.330      0.742   -3.17e-09    2.26e-09\n",
      "x59        -6.908e-11   1.11e-09     -0.062      0.950   -2.25e-09    2.11e-09\n",
      "x60        -2.694e-11   3.19e-11     -0.845      0.399   -8.97e-11    3.58e-11\n",
      "x61        -1.469e-11   2.91e-11     -0.504      0.615    -7.2e-11    4.26e-11\n",
      "x62        -1.224e-11   1.93e-11     -0.633      0.527   -5.03e-11    2.58e-11\n",
      "x63         3.569e-10   5.52e-10      0.647      0.518   -7.28e-10    1.44e-09\n",
      "x64         2.173e-10   3.24e-09      0.067      0.947   -6.16e-09    6.59e-09\n",
      "x65        -1.161e-09   3.24e-09     -0.359      0.720   -7.53e-09    5.21e-09\n",
      "x66          -9.9e-10   8.28e-10     -1.195      0.233   -2.62e-09    6.39e-10\n",
      "x67         5.095e-10   5.67e-10      0.899      0.369   -6.05e-10    1.62e-09\n",
      "x68          1.23e-10   1.78e-10      0.691      0.490   -2.27e-10    4.73e-10\n",
      "x69            0.2505   1.87e-09   1.34e+08      0.000       0.251       0.251\n",
      "x70        -7.452e-11   1.27e-10     -0.585      0.559   -3.25e-10    1.76e-10\n",
      "x71           -0.2505   1.85e-09  -1.35e+08      0.000      -0.251      -0.251\n",
      "x72         6.392e-10   3.32e-09      0.192      0.848    -5.9e-09    7.18e-09\n",
      "x73        -1.966e-09   2.49e-09     -0.789      0.431   -6.87e-09    2.93e-09\n",
      "x74        -6.748e-11   3.35e-10     -0.202      0.840   -7.26e-10    5.91e-10\n",
      "x75        -4.883e-10   7.11e-09     -0.069      0.945   -1.45e-08    1.35e-08\n",
      "x76         4.755e-10   6.89e-09      0.069      0.945   -1.31e-08     1.4e-08\n",
      "x77            0.2506   1.51e-09   1.66e+08      0.000       0.251       0.251\n",
      "x78         9.509e-10   1.28e-09      0.741      0.459   -1.57e-09    3.48e-09\n",
      "x79         8.805e-10   1.95e-09      0.452      0.652   -2.95e-09    4.71e-09\n",
      "x80         1.021e-09   2.46e-09      0.415      0.678   -3.82e-09    5.86e-09\n",
      "x81         6.679e-10   1.66e-09      0.402      0.688    -2.6e-09    3.94e-09\n",
      "x82         6.801e-10   2.84e-09      0.240      0.811    -4.9e-09    6.26e-09\n",
      "x83        -3.518e-10   8.68e-10     -0.405      0.686   -2.06e-09    1.36e-09\n",
      "==============================================================================\n",
      "Omnibus:                       41.946   Durbin-Watson:                   0.069\n",
      "Prob(Omnibus):                  0.000   Jarque-Bera (JB):               57.866\n",
      "Skew:                          -0.710   Prob(JB):                     2.72e-13\n",
      "Kurtosis:                       4.118   Cond. No.                     1.13e+18\n",
      "==============================================================================\n",
      "\n",
      "Warnings:\n",
      "[1] Standard Errors assume that the covariance matrix of the errors is correctly specified.\n",
      "[2] The smallest eigenvalue is 3.99e-17. This might indicate that there are\n",
      "strong multicollinearity problems or that the design matrix is singular.\n",
      "[0.         0.97509029 0.95534007 0.42682857 0.94055214 0.65534331\n",
      " 0.         0.         0.         0.         0.         0.49808523\n",
      " 0.75905855 0.72052507 0.52251173 0.46967058 0.09833354 0.78292522\n",
      " 0.76384079 0.67432046 0.45944217 0.65175307 0.67824589 0.68564382\n",
      " 0.86502395 0.68828397 0.81062504 0.83254017 0.81404149 0.85892775\n",
      " 0.98144305 0.98406513 0.67004214 0.98463241 0.20398525 0.1709696\n",
      " 0.94121913 0.97932626 0.75885556 0.89658015 0.79845461 0.39204656\n",
      " 0.77813688 0.96417755 0.76598376 0.95713132 0.77882798 0.60120465\n",
      " 0.06682191 0.99088504 0.82606981 0.91477098 0.65431415 0.87649118\n",
      " 0.25761865 0.46953597 0.95159451 0.38611897 0.74191259 0.9503932\n",
      " 0.3989439  0.61452014 0.5271421  0.51805509 0.94659852 0.72006427\n",
      " 0.23284954 0.36914848 0.48979656 0.         0.55899449 0.\n",
      " 0.84764847 0.43070866 0.84039887 0.94527589 0.94502182 0.\n",
      " 0.45944117 0.65175373 0.6782466  0.68828762 0.81062436 0.68564389]\n"
     ]
    }
   ],
   "source": [
    "# Create the linear model and complete the least squares fit\n",
    "model = sm.OLS(np.asarray(train_targets), np.asarray(train_features))\n",
    "results = model.fit()  # fit the model\n",
    "print(results.summary())\n",
    "\n",
    "# examine pvalues\n",
    "# Features with p <= 0.05 are typically considered significantly different from 0\n",
    "print(results.pvalues)\n",
    "\n",
    "# Make predictions from our model for train and test sets\n",
    "train_predictions = results.predict(np.asarray(train_features))\n",
    "test_predictions = results.predict(np.asarray(test_features))"
   ]
  },
  {
   "cell_type": "code",
   "execution_count": 17,
   "metadata": {},
   "outputs": [
    {
     "data": {
      "image/png": "[encoded data removed]",
      "text/plain": [
       "<Figure size 432x288 with 1 Axes>"
      ]
     },
     "metadata": {
      "needs_background": "light"
     },
     "output_type": "display_data"
    }
   ],
   "source": [
    "# Scatter the predictions vs the targets with 20% opacity\n",
    "plt.scatter(train_predictions, train_targets, alpha=0.2, color='b', label='train')\n",
    "plt.scatter(test_predictions, test_targets, alpha=0.2, color='r', label='test')\n",
    "\n",
    "# Plot the perfect prediction line\n",
    "xmin, xmax = plt.xlim()\n",
    "plt.plot(np.arange(xmin, xmax, 0.01), np.arange(xmin, xmax, 0.01), c='k')\n",
    "\n",
    "# Set the axis labels and show the plot\n",
    "plt.xlabel('predictions')\n",
    "plt.ylabel('actual')\n",
    "plt.legend()  # show the legend\n",
    "plt.show()"
   ]
  },
  {
   "cell_type": "markdown",
   "metadata": {},
   "source": [
    "No gráfico acima, quanto mais em cima da reta diagonal os pontos estiverem, maior a precisão do modelo"
   ]
  },
  {
   "cell_type": "markdown",
   "metadata": {},
   "source": [
    "## Engenharia de Feature\n",
    "\n",
    "Uma feature importante a ser adicionada para modelos não lineares são os dias da semana.\n",
    "\n",
    "Eles podem apresentar um padrão não reconhecido pelos modelos lineares."
   ]
  },
  {
   "cell_type": "markdown",
   "metadata": {},
   "source": [
    "## Modelo não linear: random forest\n",
    "\n",
    "Testanto um modelo não linear para obter melhor desempenho que o linear.\n",
    "\n",
    "O modelo de florestas aleatórias (random forest) possui alguns hiperparâmetros para ser configurados. Um deles é a profundidade das árvores de decisão. Profundidade muito grande pode gerar ovefitting, quando o modelo decora os dados de treino e apresenta baixo desempenho nos dados de teste.\n",
    "\n",
    "A métrica de avaliação é o R^2 (erro médio quadrático) que varia de 0 a 1. Quanto mais próximo de 1, mais o modelo consegue explicar os dados. "
   ]
  },
  {
   "cell_type": "code",
   "execution_count": 18,
   "metadata": {},
   "outputs": [
    {
     "name": "stdout",
     "output_type": "stream",
     "text": [
      "1.0\n",
      "0.9927134918741308\n"
     ]
    }
   ],
   "source": [
    "# criando o modelo de regressão da árvore de decisão\n",
    "decision_tree = DecisionTreeRegressor()\n",
    "\n",
    "# treinando o modelo\n",
    "decision_tree.fit(train_features, train_targets)\n",
    "\n",
    "# checando a precisão\n",
    "# SCORE retorna o R^2 (coeficiente de determinação/avaliação)\n",
    "print(decision_tree.score(train_features, train_targets))\n",
    "print(decision_tree.score(test_features, test_targets))"
   ]
  },
  {
   "cell_type": "code",
   "execution_count": 19,
   "metadata": {},
   "outputs": [
    {
     "name": "stdout",
     "output_type": "stream",
     "text": [
      "max_depth= 3\n",
      "0.9776288975425383\n",
      "0.8327551563965692 \n",
      "\n",
      "max_depth= 5\n",
      "0.9986811985673081\n",
      "0.980873920384411 \n",
      "\n",
      "max_depth= 10\n",
      "0.99999993404824\n",
      "0.9948040953565752 \n",
      "\n"
     ]
    }
   ],
   "source": [
    "# deletando modelo existente\n",
    "del decision_tree\n",
    "\n",
    "# laço para testar diferentes profundidades máximas das árvores e testa-las\n",
    "for d in [3, 5, 10]:\n",
    "    # Create the tree and fit it\n",
    "    decision_tree = DecisionTreeRegressor(max_depth=d)\n",
    "    decision_tree.fit(train_features, train_targets)\n",
    "\n",
    "    # Print out the scores on train and test\n",
    "    print('max_depth=', str(d))\n",
    "    print(decision_tree.score(train_features, train_targets))\n",
    "    print(decision_tree.score(test_features, test_targets), '\\n')\n",
    "    \n",
    "    del decision_tree"
   ]
  },
  {
   "cell_type": "code",
   "execution_count": 20,
   "metadata": {},
   "outputs": [
    {
     "data": {
      "image/png": "[encoded data removed]",
      "text/plain": [
       "<Figure size 432x288 with 1 Axes>"
      ]
     },
     "metadata": {
      "needs_background": "light"
     },
     "output_type": "display_data"
    }
   ],
   "source": [
    "# profundidade 3 das árvores\n",
    "decision_tree = DecisionTreeRegressor(max_depth=3)\n",
    "decision_tree.fit(train_features, train_targets)\n",
    "\n",
    "# predição para os valores de treino e teste\n",
    "train_predictions = decision_tree.predict(train_features)\n",
    "test_predictions = decision_tree.predict(test_features)\n",
    "\n",
    "# grafico de pontos entre Real Vs. Predito\n",
    "plt.scatter(train_predictions, train_targets, label='train')\n",
    "plt.scatter(test_predictions, test_targets, label='test')\n",
    "plt.plot(np.arange(xmin, xmax, 0.01), np.arange(xmin, xmax, 0.01), c='k')\n",
    "plt.show()"
   ]
  },
  {
   "cell_type": "code",
   "execution_count": 21,
   "metadata": {},
   "outputs": [
    {
     "name": "stderr",
     "output_type": "stream",
     "text": [
      "c:\\users\\jardi\\appdata\\local\\programs\\python\\python37\\lib\\site-packages\\ipykernel_launcher.py:3: DataConversionWarning: A column-vector y was passed when a 1d array was expected. Please change the shape of y to (n_samples,), for example using ravel().\n",
      "  This is separate from the ipykernel package so we can avoid doing imports until\n"
     ]
    },
    {
     "name": "stdout",
     "output_type": "stream",
     "text": [
      "0.9999266715926732\n",
      "0.9984429086824617\n"
     ]
    }
   ],
   "source": [
    "# treinando uma floresta aleatória (random forest)\n",
    "rfr = RandomForestRegressor(n_estimators=200)\n",
    "rfr.fit(train_features, train_targets)\n",
    "\n",
    "# R^2 scores on train and test\n",
    "print(rfr.score(train_features, train_targets))\n",
    "print(rfr.score(test_features, test_targets))"
   ]
  },
  {
   "cell_type": "code",
   "execution_count": 22,
   "metadata": {},
   "outputs": [
    {
     "name": "stderr",
     "output_type": "stream",
     "text": [
      "c:\\users\\jardi\\appdata\\local\\programs\\python\\python37\\lib\\site-packages\\ipykernel_launcher.py:17: DataConversionWarning: A column-vector y was passed when a 1d array was expected. Please change the shape of y to (n_samples,), for example using ravel().\n",
      "c:\\users\\jardi\\appdata\\local\\programs\\python\\python37\\lib\\site-packages\\ipykernel_launcher.py:17: DataConversionWarning: A column-vector y was passed when a 1d array was expected. Please change the shape of y to (n_samples,), for example using ravel().\n"
     ]
    },
    {
     "name": "stdout",
     "output_type": "stream",
     "text": [
      "0.7191517378981032 {'random_state': 42, 'n_estimators': 200, 'max_features': 8, 'max_depth': 3}\n"
     ]
    }
   ],
   "source": [
    "# ajustando hiperparâmetros do random forest\n",
    "# random state é para sempre deixar o modelo reprodutível (plantar semente)\n",
    "# GridSearchCV para procurar hiperparametros mas agora não será usada validação cruzada\n",
    "# ParameterGrid cria uma grade (dicionario) de combinação de hiperparametros\n",
    "\n",
    "# Create a dictionary of hyperparameters to search\n",
    "grid = {'n_estimators': [200], 'max_depth': [3], 'max_features': [4, 8], 'random_state': [42]}\n",
    "test_scores = []\n",
    "\n",
    "# Loop through the parameter grid, set the hyperparameters, and save the scores\n",
    "for g in ParameterGrid(grid):\n",
    "    \n",
    "    del rfr\n",
    "    \n",
    "    rfr = RandomForestRegressor()\n",
    "    rfr.set_params(**g)  # ** está descompactando/abrindo o dicionario\n",
    "    rfr.fit(train_features, train_targets)\n",
    "    test_scores.append(rfr.score(test_features, test_targets))\n",
    "\n",
    "# Find best hyperparameters from the test score and print\n",
    "best_idx = np.argmax(test_scores)\n",
    "print(test_scores[best_idx], ParameterGrid(grid)[best_idx])\n"
   ]
  },
  {
   "cell_type": "code",
   "execution_count": 23,
   "metadata": {},
   "outputs": [
    {
     "name": "stderr",
     "output_type": "stream",
     "text": [
      "c:\\users\\jardi\\appdata\\local\\programs\\python\\python37\\lib\\site-packages\\ipykernel_launcher.py:3: DataConversionWarning: A column-vector y was passed when a 1d array was expected. Please change the shape of y to (n_samples,), for example using ravel().\n",
      "  This is separate from the ipykernel package so we can avoid doing imports until\n"
     ]
    },
    {
     "data": {
      "image/png": "[encoded data removed]",
      "text/plain": [
       "<Figure size 432x288 with 1 Axes>"
      ]
     },
     "metadata": {
      "needs_background": "light"
     },
     "output_type": "display_data"
    }
   ],
   "source": [
    "# Use the best hyperparameters from before to fit a random forest model\n",
    "rfr = RandomForestRegressor(n_estimators=200, max_depth=3, max_features=8, random_state=42)\n",
    "rfr.fit(train_features, train_targets)\n",
    "\n",
    "# Make predictions with our model\n",
    "train_predictions = rfr.predict(train_features)\n",
    "test_predictions = rfr.predict(test_features)\n",
    "\n",
    "# Create a scatter plot with train and test actual vs predictions\n",
    "plt.scatter(train_targets, train_predictions, label='train')\n",
    "plt.scatter(test_targets, test_predictions, label='test')\n",
    "plt.plot(np.arange(xmin, xmax, 0.01), np.arange(xmin, xmax, 0.01), c='k')\n",
    "plt.legend()\n",
    "plt.show()"
   ]
  },
  {
   "cell_type": "markdown",
   "metadata": {},
   "source": [
    "## Importância de variáveis (feature importance)\n",
    "\n",
    "Muito importante de ser realizada antes do treino dos modelos pois elimina variáveis inúteis para predição."
   ]
  },
  {
   "cell_type": "code",
   "execution_count": 24,
   "metadata": {},
   "outputs": [
    {
     "data": {
      "image/png": "[encoded data removed]",
      "text/plain": [
       "<Figure size 432x288 with 1 Axes>"
      ]
     },
     "metadata": {
      "needs_background": "light"
     },
     "output_type": "display_data"
    }
   ],
   "source": [
    "# nomes variaveis explicativas/preditivas\n",
    "feature_names = varsLinDf.columns\n",
    "\n",
    "# Get feature importances from our random forest model\n",
    "importances = rfr.feature_importances_\n",
    "\n",
    "# Get the index of importances from greatest importance to least\n",
    "sorted_index = np.argsort(importances)[::-1]\n",
    "x = range(len(importances))\n",
    "\n",
    "# Create tick labels \n",
    "labels = np.array(feature_names)[sorted_index]\n",
    "plt.bar(x, importances[sorted_index], tick_label=labels)\n",
    "\n",
    "# Rotate tick labels to vertical\n",
    "plt.xticks(rotation=90)\n",
    "plt.show()"
   ]
  },
  {
   "cell_type": "code",
   "execution_count": 25,
   "metadata": {},
   "outputs": [
    {
     "data": {
      "text/plain": [
       "array(['low', 'others_cr', 'high', 'adjusted', 'volatility_kcl', 'open',\n",
       "       'trend_ema_fast', 'momentum_kama', 'volatility_kcc',\n",
       "       'trend_ema_slow', 'volatility_dcl', 'trend_visual_ichimoku_b',\n",
       "       'bb_bbl', 'volatility_bbl', 'trend_ichimoku_b', 'volatility_kch',\n",
       "       'bb_bbh', 'bb_bbm', 'volatility_bbm', 'trend_ichimoku_a',\n",
       "       'volatility_dch', 'volatility_bbh', 'trend_psar', 'volatility_atr',\n",
       "       'volume_adi', 'trend_visual_ichimoku_a', 'volume_nvi', 'volume_fi',\n",
       "       'trend_adx_neg', 'volume_obv', 'trend_adx_pos', 'bb_bbw',\n",
       "       'trend_macd_diff', 'volume_sma_em', 'trend_macd', 'volatility_bbw',\n",
       "       'momentum_tsi', 'trend_trix', 'trend_kst', 'momentum_ao',\n",
       "       'trend_kst_sig', 'volatility_kcw', 'trend_macd_signal',\n",
       "       'momentum_rsi', 'trend_aroon_ind', 'volume_cmf',\n",
       "       'trend_mass_index', 'trend_cci', 'momentum_mfi',\n",
       "       'trend_vortex_ind_diff', 'trend_kst_diff', 'trend_vortex_ind_pos',\n",
       "       'trend_adx', 'momentum_roc', 'momentum_stoch', 'trend_aroon_down',\n",
       "       'volatility_bbp', 'trend_vortex_ind_neg', 'momentum_stoch_signal',\n",
       "       'volume', 'volatility_kcp', 'momentum_uo', 'trend_dpo',\n",
       "       'momentum_wr', 'sext', 'seg', 'quint', 'quart', 'terc',\n",
       "       'others_dr', 'others_dlr', 'bb_bbhi', 'volatility_bbhi',\n",
       "       'volume_vpt', 'trend_psar_down_indicator', 'volatility_bbli',\n",
       "       'trend_psar_up_indicator', 'volatility_kchi', 'volatility_kcli',\n",
       "       'trend_aroon_up', 'volatility_dchi', 'volatility_dcli', 'bb_bbli',\n",
       "       'const'], dtype=object)"
      ]
     },
     "execution_count": 25,
     "metadata": {},
     "output_type": "execute_result"
    }
   ],
   "source": [
    "labels"
   ]
  },
  {
   "cell_type": "code",
   "execution_count": 26,
   "metadata": {},
   "outputs": [
    {
     "name": "stderr",
     "output_type": "stream",
     "text": [
      "c:\\users\\jardi\\appdata\\local\\programs\\python\\python37\\lib\\site-packages\\sklearn\\ensemble\\_gb.py:1454: DataConversionWarning: A column-vector y was passed when a 1d array was expected. Please change the shape of y to (n_samples, ), for example using ravel().\n",
      "  y = column_or_1d(y, warn=True)\n"
     ]
    },
    {
     "name": "stdout",
     "output_type": "stream",
     "text": [
      "0.9634823220434875\n",
      "0.8097219678471488\n"
     ]
    }
   ],
   "source": [
    "# criando GBM (floresta aleatória otimizada) com hiperparâmetros setados\n",
    "gbr = GradientBoostingRegressor(max_features=4,\n",
    "                                learning_rate=0.01,\n",
    "                                n_estimators=200,\n",
    "                                subsample=0.6,\n",
    "                                random_state=42)\n",
    "\n",
    "gbr.fit(train_features, train_targets)\n",
    "\n",
    "print(gbr.score(train_features, train_targets))\n",
    "print(gbr.score(test_features, test_targets))"
   ]
  },
  {
   "cell_type": "code",
   "execution_count": 27,
   "metadata": {},
   "outputs": [
    {
     "data": {
      "image/png": "[encoded data removed]",
      "text/plain": [
       "<Figure size 432x288 with 1 Axes>"
      ]
     },
     "metadata": {
      "needs_background": "light"
     },
     "output_type": "display_data"
    }
   ],
   "source": [
    "# features importance com GBM\n",
    "# Extract feature importances from the fitted gradient boosting model\n",
    "feature_importances = gbr.feature_importances_\n",
    "\n",
    "# Get the indices of the largest to smallest feature importances\n",
    "sorted_index = np.argsort(feature_importances)[::-1]\n",
    "x = range(varsLinDf.shape[1])\n",
    "\n",
    "# Create tick labels \n",
    "labels = np.array(feature_names)[sorted_index]\n",
    "\n",
    "plt.bar(x, feature_importances[sorted_index], tick_label=labels)\n",
    "\n",
    "# Set the tick lables to be the feature names, according to the sorted feature_idx\n",
    "plt.xticks(rotation=90)\n",
    "plt.show()"
   ]
  },
  {
   "cell_type": "code",
   "execution_count": 28,
   "metadata": {},
   "outputs": [],
   "source": [
    "varsMenosImport50 = labels[-50:]"
   ]
  },
  {
   "cell_type": "markdown",
   "metadata": {},
   "source": [
    "## Normalização dos dados\n",
    "\n",
    "Modelos como KNN (vizinhos próximos) ou Redes Neurais funcionam melhor com dados normalizados/escalonados.\n",
    "\n",
    "Depois da seleção de variáveis, removendo as de menor importância, deve-se fazer a normalização dos dados.\n",
    "\n",
    "*scale()* do *sklearn*, por exemplo, faz normaliza os dados deixando ele com média 0 e desvio padrão 1."
   ]
  },
  {
   "cell_type": "code",
   "execution_count": 29,
   "metadata": {},
   "outputs": [
    {
     "name": "stderr",
     "output_type": "stream",
     "text": [
      "c:\\users\\jardi\\appdata\\local\\programs\\python\\python37\\lib\\site-packages\\sklearn\\preprocessing\\_data.py:173: UserWarning: Numerical issues were encountered when centering the data and might not be solved. Dataset may contain too large values. You may need to prescale your features.\n",
      "  warnings.warn(\"Numerical issues were encountered \"\n",
      "c:\\users\\jardi\\appdata\\local\\programs\\python\\python37\\lib\\site-packages\\sklearn\\preprocessing\\_data.py:173: UserWarning: Numerical issues were encountered when centering the data and might not be solved. Dataset may contain too large values. You may need to prescale your features.\n",
      "  warnings.warn(\"Numerical issues were encountered \"\n"
     ]
    },
    {
     "data": {
      "image/png": "[encoded data removed]",
      "text/plain": [
       "<Figure size 432x288 with 2 Axes>"
      ]
     },
     "metadata": {
      "needs_background": "light"
     },
     "output_type": "display_data"
    }
   ],
   "source": [
    "# removendo variaveis de menos importancia\n",
    "train_features = train_features.drop(varsMenosImport50, axis=1)\n",
    "test_features = test_features.drop(varsMenosImport50, axis=1)\n",
    "\n",
    "# normalizacao\n",
    "scaled_train_features = scale(train_features)\n",
    "scaled_test_features = scale(test_features)\n",
    "\n",
    "# visalizando antes e depois da normalização\n",
    "f, ax = plt.subplots(nrows=2, ncols=1)\n",
    "train_features.iloc[:, 2].hist(ax=ax[0])\n",
    "ax[1].hist(scaled_train_features[:, 2])\n",
    "plt.show()"
   ]
  },
  {
   "cell_type": "code",
   "execution_count": 30,
   "metadata": {},
   "outputs": [
    {
     "name": "stdout",
     "output_type": "stream",
     "text": [
      "n_neighbors = 2\n",
      "train, test scores\n",
      "0.9979840611856827\n",
      "-1.0439887959085339\n",
      "\n",
      "n_neighbors = 3\n",
      "train, test scores\n",
      "0.9963267733044494\n",
      "-0.9912195907684146\n",
      "\n",
      "n_neighbors = 4\n",
      "train, test scores\n",
      "0.9950120742990386\n",
      "-0.917972395867747\n",
      "\n",
      "n_neighbors = 5\n",
      "train, test scores\n",
      "0.992921864693236\n",
      "-0.9235378762151183\n",
      "\n",
      "n_neighbors = 6\n",
      "train, test scores\n",
      "0.9914909065180558\n",
      "-0.9032936397040503\n",
      "\n",
      "n_neighbors = 7\n",
      "train, test scores\n",
      "0.9901204559932413\n",
      "-0.856208398566386\n",
      "\n",
      "n_neighbors = 8\n",
      "train, test scores\n",
      "0.9890691174665982\n",
      "-0.8298703749492375\n",
      "\n",
      "n_neighbors = 9\n",
      "train, test scores\n",
      "0.9879856326237856\n",
      "-0.777221231510913\n",
      "\n",
      "n_neighbors = 10\n",
      "train, test scores\n",
      "0.9867555449878389\n",
      "-0.7449563609119585\n",
      "\n",
      "n_neighbors = 11\n",
      "train, test scores\n",
      "0.9859980814535139\n",
      "-0.7245802645653157\n",
      "\n",
      "n_neighbors = 12\n",
      "train, test scores\n",
      "0.9850216648427291\n",
      "-0.7296890463826613\n",
      "\n"
     ]
    }
   ],
   "source": [
    "# KNN possui apenas um hiperparametro que é o NÚMERO DE VIZINHOS PRÓXIMOS\n",
    "# iremos defini-lo\n",
    "\n",
    "for n in range(2, 13):\n",
    "    # Create and fit the KNN model\n",
    "    knn = KNeighborsRegressor(n_neighbors=n)\n",
    "    \n",
    "    # Fit the model to the training data\n",
    "    knn.fit(scaled_train_features, train_targets)\n",
    "    \n",
    "    # Print number of neighbors and the score to find the best value of n\n",
    "    print(\"n_neighbors =\", n)\n",
    "    print('train, test scores')\n",
    "    print(knn.score(scaled_train_features, train_targets))\n",
    "    print(knn.score(scaled_test_features, test_targets))\n",
    "    print()  # prints a blank line"
   ]
  },
  {
   "cell_type": "markdown",
   "metadata": {},
   "source": [
    "A métrica R^2 pode ser um valor negativo, basta tirar o modo dela. Quanto mais próximo de 1, mais o modelo explica os dados."
   ]
  },
  {
   "cell_type": "code",
   "execution_count": 31,
   "metadata": {},
   "outputs": [
    {
     "data": {
      "image/png": "[encoded data removed]",
      "text/plain": [
       "<Figure size 432x288 with 1 Axes>"
      ]
     },
     "metadata": {
      "needs_background": "light"
     },
     "output_type": "display_data"
    }
   ],
   "source": [
    "# Create the model with the best-performing n_neighbors of 5\n",
    "knn = KNeighborsRegressor(n_neighbors=5)\n",
    "\n",
    "# Fit the model\n",
    "knn.fit(scaled_train_features, train_targets)\n",
    "\n",
    "# Get predictions for train and test sets\n",
    "train_predictions = knn.predict(scaled_train_features)\n",
    "test_predictions = knn.predict(scaled_test_features)\n",
    "\n",
    "# Plot the actual vs predicted values\n",
    "plt.scatter(train_predictions, train_targets, label='train')\n",
    "plt.scatter(test_predictions, test_targets, label='test')\n",
    "plt.legend()\n",
    "plt.show()"
   ]
  },
  {
   "cell_type": "markdown",
   "metadata": {},
   "source": [
    "# Montando modelo complexo: rede neural\n",
    "\n",
    "Montando uma rede neural \"fully-conect\", ou seja, todos neurônios entre camadas conectados entre sí."
   ]
  },
  {
   "cell_type": "code",
   "execution_count": 32,
   "metadata": {},
   "outputs": [
    {
     "name": "stdout",
     "output_type": "stream",
     "text": [
      "Epoch 1/25\n",
      "425/425 [==============================] - 0s 388us/step - loss: 2318.9542\n",
      "Epoch 2/25\n",
      "425/425 [==============================] - 0s 26us/step - loss: 2177.5948\n",
      "Epoch 3/25\n",
      "425/425 [==============================] - 0s 53us/step - loss: 1959.3382\n",
      "Epoch 4/25\n",
      "425/425 [==============================] - 0s 38us/step - loss: 1648.4084\n",
      "Epoch 5/25\n",
      "425/425 [==============================] - 0s 48us/step - loss: 1266.9564\n",
      "Epoch 6/25\n",
      "425/425 [==============================] - 0s 46us/step - loss: 903.2456\n",
      "Epoch 7/25\n",
      "425/425 [==============================] - 0s 57us/step - loss: 616.9151\n",
      "Epoch 8/25\n",
      "425/425 [==============================] - 0s 74us/step - loss: 473.1379\n",
      "Epoch 9/25\n",
      "425/425 [==============================] - 0s 47us/step - loss: 435.4085\n",
      "Epoch 10/25\n",
      "425/425 [==============================] - 0s 67us/step - loss: 400.2147\n",
      "Epoch 11/25\n",
      "425/425 [==============================] - 0s 128us/step - loss: 363.1598\n",
      "Epoch 12/25\n",
      "425/425 [==============================] - 0s 84us/step - loss: 328.8149\n",
      "Epoch 13/25\n",
      "425/425 [==============================] - 0s 62us/step - loss: 299.1485\n",
      "Epoch 14/25\n",
      "425/425 [==============================] - 0s 65us/step - loss: 271.4990\n",
      "Epoch 15/25\n",
      "425/425 [==============================] - 0s 91us/step - loss: 247.4186\n",
      "Epoch 16/25\n",
      "425/425 [==============================] - 0s 43us/step - loss: 225.4085\n",
      "Epoch 17/25\n",
      "425/425 [==============================] - 0s 61us/step - loss: 205.7450\n",
      "Epoch 18/25\n",
      "425/425 [==============================] - 0s 50us/step - loss: 187.3450\n",
      "Epoch 19/25\n",
      "425/425 [==============================] - 0s 48us/step - loss: 172.1351\n",
      "Epoch 20/25\n",
      "425/425 [==============================] - 0s 66us/step - loss: 158.0017\n",
      "Epoch 21/25\n",
      "425/425 [==============================] - 0s 33us/step - loss: 145.4609\n",
      "Epoch 22/25\n",
      "425/425 [==============================] - 0s 48us/step - loss: 133.7708\n",
      "Epoch 23/25\n",
      "425/425 [==============================] - 0s 80us/step - loss: 123.2346\n",
      "Epoch 24/25\n",
      "425/425 [==============================] - 0s 92us/step - loss: 113.0104\n",
      "Epoch 25/25\n",
      "425/425 [==============================] - 0s 60us/step - loss: 103.4643\n"
     ]
    }
   ],
   "source": [
    "# criando modelo da neural\n",
    "model_1 = Sequential()\n",
    "# vai ter 3 camadas: \n",
    "# entrada: 100 neuronios, função ativação Relu\n",
    "model_1.add(Dense(100, input_dim=scaled_train_features.shape[1], activation='relu'))\n",
    "# 1 escondida (20 neuronios), função ativação Relu\n",
    "model_1.add(Dense(20, activation='relu'))\n",
    "# camada de saída (regressão), função ativação Linear\n",
    "model_1.add(Dense(1, activation='linear'))\n",
    "\n",
    "# treinando modelo\n",
    "# o custo será com R^2\n",
    "model_1.compile(optimizer='adam', loss='mse')\n",
    "history = model_1.fit(scaled_train_features, train_targets, epochs=25)"
   ]
  },
  {
   "cell_type": "code",
   "execution_count": 33,
   "metadata": {},
   "outputs": [
    {
     "data": {
      "image/png": "[encoded data removed]",
      "text/plain": [
       "<Figure size 432x288 with 1 Axes>"
      ]
     },
     "metadata": {
      "needs_background": "light"
     },
     "output_type": "display_data"
    }
   ],
   "source": [
    "# plotando a função de custo\n",
    "plt.plot(history.history['loss'])\n",
    "\n",
    "# Use the last loss as the title\n",
    "plt.title('loss:' + str(round(history.history['loss'][-1], 6)))\n",
    "plt.show()"
   ]
  },
  {
   "cell_type": "code",
   "execution_count": 34,
   "metadata": {},
   "outputs": [
    {
     "name": "stdout",
     "output_type": "stream",
     "text": [
      "-1.2042396101106112\n",
      "-43.70581488252111\n"
     ]
    },
    {
     "data": {
      "image/png": "[encoded data removed]",
      "text/plain": [
       "<Figure size 432x288 with 1 Axes>"
      ]
     },
     "metadata": {
      "needs_background": "light"
     },
     "output_type": "display_data"
    }
   ],
   "source": [
    "# Calculate R^2 score\n",
    "train_preds = model_1.predict(scaled_train_features)\n",
    "test_preds = model_1.predict(scaled_test_features)\n",
    "print(r2_score(train_targets, train_preds))\n",
    "print(r2_score(test_targets, test_preds))\n",
    "\n",
    "# Plot predictions vs actual\n",
    "plt.scatter(train_preds, train_targets, label='train')\n",
    "plt.scatter(test_preds, test_targets, label='test')\n",
    "plt.plot(np.arange(xmin, xmax, 0.01), np.arange(xmin, xmax, 0.01), c='k')\n",
    "plt.legend()\n",
    "plt.show()"
   ]
  },
  {
   "cell_type": "code",
   "execution_count": 35,
   "metadata": {},
   "outputs": [
    {
     "data": {
      "image/png": "[encoded data removed]",
      "text/plain": [
       "<Figure size 432x288 with 1 Axes>"
      ]
     },
     "metadata": {
      "needs_background": "light"
     },
     "output_type": "display_data"
    }
   ],
   "source": [
    "plt.scatter(train_preds, train_targets, label='train')\n",
    "plt.scatter(test_preds, test_targets, label='test')\n",
    "plt.plot(np.arange(xmin, xmax, 0.01), np.arange(xmin, xmax, 0.01), c='k')\n",
    "plt.legend()\n",
    "plt.show()"
   ]
  },
  {
   "cell_type": "markdown",
   "metadata": {},
   "source": [
    "No modelo gerado acima não foi realizada **REGULARIZAÇÃO** na rede. \n",
    "\n",
    "A **REGULARIZAÇÃO** é importante para evitar overfitting, quando os modelos se saem muito bem no treino mas muito mal no teste.\n",
    "\n",
    "Este processo consiste em adicionar um peso dentro da **função de custo impedindo** que essa chegue a **zerar**.\n",
    "\n",
    "Pode ser feito Redes Neurais da seguinte forma:\n",
    "\n",
    "* diminuir número de neurônios\n",
    "* regularização L1/L2\n",
    "* dropout\n",
    "* autoencoder architecture\n",
    "* cessar treinamento mais cedo\n",
    "* adicionar ruído nos dados\n",
    "* misturando modelos (ensembles)"
   ]
  },
  {
   "cell_type": "code",
   "execution_count": 36,
   "metadata": {},
   "outputs": [
    {
     "name": "stdout",
     "output_type": "stream",
     "text": [
      "<function sign_penalty at 0x000001C4173BA1F8>\n"
     ]
    }
   ],
   "source": [
    "# criando função de custo (opção personalizada)\n",
    "def sign_penalty(y_true, y_pred):\n",
    "    penalty = 100.\n",
    "    loss = tf.where(tf.less(y_true * y_pred, 0), \\\n",
    "                     penalty * tf.square(y_true - y_pred), \\\n",
    "                     tf.square(y_true - y_pred))\n",
    "\n",
    "    return tf.reduce_mean(loss, axis=-1)\n",
    "\n",
    "keras.losses.sign_penalty = sign_penalty  # enable use of loss with keras\n",
    "print(keras.losses.sign_penalty)"
   ]
  },
  {
   "cell_type": "code",
   "execution_count": 37,
   "metadata": {},
   "outputs": [
    {
     "name": "stdout",
     "output_type": "stream",
     "text": [
      "Epoch 1/25\n",
      "425/425 [==============================] - 0s 548us/step - loss: 51411.9027\n",
      "Epoch 2/25\n",
      "425/425 [==============================] - 0s 75us/step - loss: 2227.2049\n",
      "Epoch 3/25\n",
      "425/425 [==============================] - 0s 76us/step - loss: 2197.1848\n",
      "Epoch 4/25\n",
      "425/425 [==============================] - 0s 79us/step - loss: 2168.2552\n",
      "Epoch 5/25\n",
      "425/425 [==============================] - 0s 79us/step - loss: 2133.3380\n",
      "Epoch 6/25\n",
      "425/425 [==============================] - 0s 88us/step - loss: 2090.9433\n",
      "Epoch 7/25\n",
      "425/425 [==============================] - 0s 81us/step - loss: 2037.9959\n",
      "Epoch 8/25\n",
      "425/425 [==============================] - 0s 90us/step - loss: 1972.3916\n",
      "Epoch 9/25\n",
      "425/425 [==============================] - 0s 69us/step - loss: 1888.3852\n",
      "Epoch 10/25\n",
      "425/425 [==============================] - 0s 95us/step - loss: 1780.8642\n",
      "Epoch 11/25\n",
      "425/425 [==============================] - 0s 96us/step - loss: 1647.3425\n",
      "Epoch 12/25\n",
      "425/425 [==============================] - 0s 89us/step - loss: 1483.6002\n",
      "Epoch 13/25\n",
      "425/425 [==============================] - 0s 75us/step - loss: 1293.6177\n",
      "Epoch 14/25\n",
      "425/425 [==============================] - 0s 59us/step - loss: 1094.3654\n",
      "Epoch 15/25\n",
      "425/425 [==============================] - 0s 73us/step - loss: 896.4360\n",
      "Epoch 16/25\n",
      "425/425 [==============================] - 0s 70us/step - loss: 726.7803\n",
      "Epoch 17/25\n",
      "425/425 [==============================] - 0s 81us/step - loss: 606.5705\n",
      "Epoch 18/25\n",
      "425/425 [==============================] - 0s 79us/step - loss: 532.6697\n",
      "Epoch 19/25\n",
      "425/425 [==============================] - 0s 44us/step - loss: 493.3133\n",
      "Epoch 20/25\n",
      "425/425 [==============================] - 0s 59us/step - loss: 473.3182\n",
      "Epoch 21/25\n",
      "425/425 [==============================] - 0s 70us/step - loss: 458.0584\n",
      "Epoch 22/25\n",
      "425/425 [==============================] - 0s 83us/step - loss: 444.7654\n",
      "Epoch 23/25\n",
      "425/425 [==============================] - 0s 68us/step - loss: 431.0983\n",
      "Epoch 24/25\n",
      "425/425 [==============================] - ETA: 0s - loss: 430.678 - 0s 76us/step - loss: 417.8523\n",
      "Epoch 25/25\n",
      "425/425 [==============================] - 0s 66us/step - loss: 405.0897\n"
     ]
    },
    {
     "data": {
      "image/png": "[encoded data removed]",
      "text/plain": [
       "<Figure size 432x288 with 1 Axes>"
      ]
     },
     "metadata": {
      "needs_background": "light"
     },
     "output_type": "display_data"
    }
   ],
   "source": [
    "# criando novo modelo com mesma arquitetura\n",
    "model_2 = Sequential()\n",
    "model_2.add(Dense(100, input_dim=scaled_train_features.shape[1], activation='relu'))\n",
    "model_2.add(Dense(20, activation='relu'))\n",
    "model_2.add(Dense(1, activation='linear'))\n",
    "\n",
    "# customizando modelo com a função de custo 'sign_penalty' \n",
    "model_2.compile(optimizer='adam', loss=sign_penalty)\n",
    "history = model_2.fit(scaled_train_features, train_targets, epochs=25)\n",
    "plt.plot(history.history['loss'])\n",
    "plt.title('loss:' + str(round(history.history['loss'][-1], 6)))\n",
    "plt.show()"
   ]
  },
  {
   "cell_type": "code",
   "execution_count": 38,
   "metadata": {},
   "outputs": [
    {
     "name": "stdout",
     "output_type": "stream",
     "text": [
      "-7.960912153650851\n",
      "-112.11225827229828\n"
     ]
    },
    {
     "data": {
      "image/png": "[encoded data removed]",
      "text/plain": [
       "<Figure size 432x288 with 1 Axes>"
      ]
     },
     "metadata": {
      "needs_background": "light"
     },
     "output_type": "display_data"
    }
   ],
   "source": [
    "# Evaluate R^2 scores\n",
    "train_preds = model_2.predict(scaled_train_features)\n",
    "test_preds = model_2.predict(scaled_test_features)\n",
    "print(r2_score(train_targets, train_preds))\n",
    "print(r2_score(test_targets, test_preds))\n",
    "\n",
    "# Scatter the predictions vs actual -- this one is interesting!\n",
    "plt.scatter(train_preds, train_targets, label='train')\n",
    "plt.scatter(test_preds, test_targets, label='test')  # plot test set\n",
    "plt.plot(np.arange(xmin, xmax, 0.01), np.arange(xmin, xmax, 0.01), c='k')\n",
    "plt.legend(); plt.show()"
   ]
  },
  {
   "cell_type": "code",
   "execution_count": 39,
   "metadata": {},
   "outputs": [
    {
     "data": {
      "image/png": "[encoded data removed]",
      "text/plain": [
       "<Figure size 432x288 with 1 Axes>"
      ]
     },
     "metadata": {
      "needs_background": "light"
     },
     "output_type": "display_data"
    }
   ],
   "source": [
    "plt.scatter(train_preds, train_targets, label='train')\n",
    "plt.scatter(test_preds, test_targets, label='test')  # plot test set\n",
    "plt.plot(np.arange(xmin, xmax, 0.01), np.arange(xmin, xmax, 0.01), c='k')\n",
    "plt.legend(); plt.show()"
   ]
  },
  {
   "cell_type": "code",
   "execution_count": 40,
   "metadata": {},
   "outputs": [
    {
     "name": "stdout",
     "output_type": "stream",
     "text": [
      "Epoch 1/25\n",
      "425/425 [==============================] - 0s 624us/step - loss: 2280.1397\n",
      "Epoch 2/25\n",
      "425/425 [==============================] - 0s 79us/step - loss: 2141.6553\n",
      "Epoch 3/25\n",
      "425/425 [==============================] - 0s 85us/step - loss: 1941.3104\n",
      "Epoch 4/25\n",
      "425/425 [==============================] - 0s 71us/step - loss: 1644.9734\n",
      "Epoch 5/25\n",
      "425/425 [==============================] - 0s 81us/step - loss: 1273.1444\n",
      "Epoch 6/25\n",
      "425/425 [==============================] - 0s 90us/step - loss: 877.2430\n",
      "Epoch 7/25\n",
      "425/425 [==============================] - 0s 77us/step - loss: 622.4482\n",
      "Epoch 8/25\n",
      "425/425 [==============================] - 0s 68us/step - loss: 528.8876\n",
      "Epoch 9/25\n",
      "425/425 [==============================] - 0s 79us/step - loss: 512.8328\n",
      "Epoch 10/25\n",
      "425/425 [==============================] - 0s 78us/step - loss: 495.3742\n",
      "Epoch 11/25\n",
      "425/425 [==============================] - 0s 80us/step - loss: 458.9562\n",
      "Epoch 12/25\n",
      "425/425 [==============================] - 0s 87us/step - loss: 433.9837\n",
      "Epoch 13/25\n",
      "425/425 [==============================] - 0s 70us/step - loss: 408.8166\n",
      "Epoch 14/25\n",
      "425/425 [==============================] - 0s 79us/step - loss: 380.9972\n",
      "Epoch 15/25\n",
      "425/425 [==============================] - 0s 65us/step - loss: 367.6163\n",
      "Epoch 16/25\n",
      "425/425 [==============================] - 0s 62us/step - loss: 332.6362\n",
      "Epoch 17/25\n",
      "425/425 [==============================] - 0s 76us/step - loss: 318.9386\n",
      "Epoch 18/25\n",
      "425/425 [==============================] - 0s 64us/step - loss: 282.7116\n",
      "Epoch 19/25\n",
      "425/425 [==============================] - 0s 70us/step - loss: 256.6161\n",
      "Epoch 20/25\n",
      "425/425 [==============================] - 0s 105us/step - loss: 237.8875\n",
      "Epoch 21/25\n",
      "425/425 [==============================] - 0s 76us/step - loss: 224.2156\n",
      "Epoch 22/25\n",
      "425/425 [==============================] - 0s 81us/step - loss: 210.1059\n",
      "Epoch 23/25\n",
      "425/425 [==============================] - 0s 81us/step - loss: 198.2994\n",
      "Epoch 24/25\n",
      "425/425 [==============================] - 0s 78us/step - loss: 181.7305\n",
      "Epoch 25/25\n",
      "425/425 [==============================] - 0s 95us/step - loss: 173.1684\n"
     ]
    },
    {
     "data": {
      "image/png": "[encoded data removed]",
      "text/plain": [
       "<Figure size 432x288 with 1 Axes>"
      ]
     },
     "metadata": {
      "needs_background": "light"
     },
     "output_type": "display_data"
    }
   ],
   "source": [
    "# Create model with dropout\n",
    "model_3 = Sequential()\n",
    "model_3.add(Dense(100, input_dim=scaled_train_features.shape[1], activation='relu'))\n",
    "model_3.add(Dropout(0.2))\n",
    "model_3.add(Dense(20, activation='relu'))\n",
    "model_3.add(Dense(1, activation='linear'))\n",
    "\n",
    "# fazendo regularização agora\n",
    "# Fit model with mean squared error loss function\n",
    "model_3.compile(optimizer='adam', loss='mse')\n",
    "history = model_3.fit(scaled_train_features, train_targets, epochs=25)\n",
    "plt.plot(history.history['loss'])\n",
    "plt.title('loss:' + str(round(history.history['loss'][-1], 6)))\n",
    "plt.show()"
   ]
  },
  {
   "cell_type": "code",
   "execution_count": 41,
   "metadata": {},
   "outputs": [
    {
     "name": "stdout",
     "output_type": "stream",
     "text": [
      "[27.206818 27.676712 25.88917  30.337141 32.29013 ]\n"
     ]
    }
   ],
   "source": [
    "# fazendo um ensemble (junção de modelos)\n",
    "# pegamos as previsões de diferentes redes\n",
    "# e se faz a média de todas resposta (nesse caso de regressão)\n",
    "# Make predictions from the 3 neural net models\n",
    "\n",
    "# OBS: não poderia fazer isso com essas variaveis de modelo\n",
    "# eles já foram treinados com o teste anteriormente para ver desempenho\n",
    "# teria que RETREINA-LOS\n",
    "\n",
    "train_pred1 = model_1.predict(scaled_train_features)\n",
    "test_pred1 = model_1.predict(scaled_test_features)\n",
    "\n",
    "train_pred2 = model_2.predict(scaled_train_features)\n",
    "test_pred2 = model_2.predict(scaled_test_features)\n",
    "\n",
    "train_pred3 = model_3.predict(scaled_train_features)\n",
    "test_pred3 = model_3.predict(scaled_test_features)\n",
    "\n",
    "# Horizontally stack predictions and take the average across rows\n",
    "train_preds = np.mean(np.hstack((train_pred1, train_pred2, train_pred3)), axis=1)\n",
    "test_preds = np.mean(np.hstack((test_pred1, test_pred2, test_pred3)), axis=1)\n",
    "print(test_preds[-5:])"
   ]
  },
  {
   "cell_type": "code",
   "execution_count": 42,
   "metadata": {},
   "outputs": [
    {
     "name": "stdout",
     "output_type": "stream",
     "text": [
      "-2.974445075468979\n",
      "-60.05492944242023\n"
     ]
    },
    {
     "data": {
      "image/png": "[encoded data removed]",
      "text/plain": [
       "<Figure size 432x288 with 1 Axes>"
      ]
     },
     "metadata": {
      "needs_background": "light"
     },
     "output_type": "display_data"
    }
   ],
   "source": [
    "# Evaluate the R^2 scores\n",
    "print(r2_score(train_targets, train_preds))\n",
    "print(r2_score(test_targets, test_preds))\n",
    "\n",
    "# Scatter the predictions vs actual -- this one is interesting!\n",
    "plt.scatter(train_preds, train_targets, label='train')\n",
    "plt.scatter(test_preds, test_targets, label='test')\n",
    "plt.plot(np.arange(xmin, xmax, 0.01), np.arange(xmin, xmax, 0.01), c='k')\n",
    "plt.legend(); plt.show()"
   ]
  },
  {
   "cell_type": "code",
   "execution_count": 43,
   "metadata": {},
   "outputs": [
    {
     "data": {
      "image/png": "[encoded data removed]",
      "text/plain": [
       "<Figure size 432x288 with 1 Axes>"
      ]
     },
     "metadata": {
      "needs_background": "light"
     },
     "output_type": "display_data"
    }
   ],
   "source": [
    "plt.scatter(train_preds, train_targets, label='train')\n",
    "plt.scatter(test_preds, test_targets, label='test')\n",
    "plt.plot(np.arange(xmin, xmax, 0.01), np.arange(xmin, xmax, 0.01), c='k')\n",
    "plt.legend(); plt.show()"
   ]
  },
  {
   "cell_type": "markdown",
   "metadata": {},
   "source": [
    "## Montagem de carteira de ações (portifólio)\n",
    "\n",
    "Quanto mais diversificar minha carteira com diferentes ações (ativos), menor é o risco relacionado a essa operação de trading.\n",
    "\n",
    "Volatividade é quanto o valor de um ativo pode variar. \n",
    "\n",
    "Ler:\n",
    "\n",
    "https://blog.magnetis.com.br/volatilidade-em-investimentos/\n",
    "\n",
    "e blog do Lab de ML da UNB (federal brasilia) de finanças"
   ]
  },
  {
   "cell_type": "markdown",
   "metadata": {},
   "source": [
    "Consideremos uma série de preços de uma ação em que cada preço de refere a uma observação em um determinado período de tempo:"
   ]
  },
  {
   "cell_type": "markdown",
   "metadata": {},
   "source": [
    "\\begin{align*}\n",
    "  P = \\left\\{p_1, p_2, ... , p_n\\right\\}\n",
    "\\end{align*}"
   ]
  },
  {
   "cell_type": "markdown",
   "metadata": {},
   "source": [
    "O **retorno efetivo** do ativo no período *t=2* é dado por *R2=p2−p1*. A ideia é que se um agente comprasse o ativo no período 1 ao preço p1 e o vendesse no período 2 ao p2, ele teria o ganho de R2 unidades monetárias. Entretanto, para que essa medida de ganho seja comparável entre ativos diferentes se usa frequentemente o retorno percentual como medida de retorno, isto é:"
   ]
  },
  {
   "cell_type": "markdown",
   "metadata": {},
   "source": [
    "\\begin{align*}\n",
    "  R_2= \\frac{p_2 - p_1}{p_1}\\\\\n",
    "\\end{align*}"
   ]
  },
  {
   "cell_type": "markdown",
   "metadata": {},
   "source": [
    "Uma medida mais interessante para o investidor é qual será o retorno do ativo no futuro. Este tipo de retorno é chamado de retorno esperado. Enquanto o retorno efetivo diz respeito ao que ocorreu de fato, o retorno esperado desrespeita ao que ocorrerá no futuro, portanto, uma expectativa. Matematicamente, pode-se definir o retorno esperado como:"
   ]
  },
  {
   "cell_type": "markdown",
   "metadata": {},
   "source": [
    "\\begin{align*}\n",
    "   \\mu = E\\left (R\\right) =\\sum_{i=1}^n p_i R_i\n",
    "\\end{align*}"
   ]
  },
  {
   "cell_type": "markdown",
   "metadata": {},
   "source": [
    "Em outros termos, o retorno esperado é o somatório dos retornos do ativo ponderado pelo pelas respectivas probabilidades de ocorrência. Assim, para calcular o retorno esperado pela definição deve-se saber todos os retornos que o ativo pode ter e quais as probabilidades associados a eles. Isso significa dizer que se conhece todos os cenários que podem ocorrer, suas probabilidades e retornos associados a eles.\n",
    "\n",
    "Na maioria dos casos, não se tem este tipo de conhecimento sobre os retornos de determinado ativo. Nesse caso, os retornos históricos podem serem usados para estimar o retorno esperado, mas não há nenhuma garantia de que o retorno futuro será o mesmo que o já observado no passado. Disto isto, neste post o retorno esperado de um ativo será estimado como sendo a média aritmética do retornos históricos. Essa abordagem será adotada em razão da sua simplicidade.\n",
    "\n",
    "Além da medida de retorno, outra medida de grande importância para os investidores é o **risco** associado aos ativos. Tal métrica mede o quanto em média o valor do retorno efetivo irá divergir do retorno esperado. Isso significa que ativos com risco alto têm retornos efetivos que divergem bastante do retorno esperado, ao mesmo tempo que o ativos menos arriscados têm retornos efetivos que divergem pouco do retorno esperado.\n",
    "\n",
    "Formalmente, o risco de um ativo é definido como o desvio padrão dos retornos efetivos em relação ao retorno esperado:"
   ]
  },
  {
   "cell_type": "markdown",
   "metadata": {},
   "source": [
    "\\begin{align*}\n",
    "\\sigma = \\sqrt{E\\left\\{\\left (R_i - \\mu\\right)^2\\right\\}}\n",
    "\\end{align*}"
   ]
  },
  {
   "cell_type": "markdown",
   "metadata": {},
   "source": [
    "O desvio padrão não é a única medida para avaliar risco. A semi-variância ou downside risk é outro exemplo de medida de risco. Ela formula a ideia de que a variância oriunda de retornos efetivos acima do retorno esperado não deveria ser computado como risco. Pois, quando o retorno efetivo for maior que o retorno esperado isso é um risco “bom”, porém, o risco é em geral associado ao custo de manter determinado ativo. "
   ]
  },
  {
   "cell_type": "code",
   "execution_count": 45,
   "metadata": {},
   "outputs": [],
   "source": [
    "# lendo os dados para simular uma carteira de ações\n",
    "portifDf = pd.read_csv('acoesFechamento3ativos.csv')"
   ]
  },
  {
   "cell_type": "code",
   "execution_count": 46,
   "metadata": {},
   "outputs": [
    {
     "data": {
      "text/html": [
       "<div>\n",
       "<style scoped>\n",
       "    .dataframe tbody tr th:only-of-type {\n",
       "        vertical-align: middle;\n",
       "    }\n",
       "\n",
       "    .dataframe tbody tr th {\n",
       "        vertical-align: top;\n",
       "    }\n",
       "\n",
       "    .dataframe thead th {\n",
       "        text-align: right;\n",
       "    }\n",
       "</style>\n",
       "<table border=\"1\" class=\"dataframe\">\n",
       "  <thead>\n",
       "    <tr style=\"text-align: right;\">\n",
       "      <th></th>\n",
       "      <th>data</th>\n",
       "      <th>abev3_sa_close</th>\n",
       "      <th>petr3_sa_close</th>\n",
       "      <th>vale3_sa_close</th>\n",
       "    </tr>\n",
       "  </thead>\n",
       "  <tbody>\n",
       "    <tr>\n",
       "      <th>0</th>\n",
       "      <td>2017-01-02</td>\n",
       "      <td>16.309999</td>\n",
       "      <td>16.530001</td>\n",
       "      <td>25.059999</td>\n",
       "    </tr>\n",
       "    <tr>\n",
       "      <th>1</th>\n",
       "      <td>2017-01-03</td>\n",
       "      <td>16.639999</td>\n",
       "      <td>17.580000</td>\n",
       "      <td>26.170000</td>\n",
       "    </tr>\n",
       "    <tr>\n",
       "      <th>2</th>\n",
       "      <td>2017-01-04</td>\n",
       "      <td>16.510000</td>\n",
       "      <td>17.370001</td>\n",
       "      <td>25.700001</td>\n",
       "    </tr>\n",
       "    <tr>\n",
       "      <th>3</th>\n",
       "      <td>2017-01-05</td>\n",
       "      <td>16.600000</td>\n",
       "      <td>17.760000</td>\n",
       "      <td>26.680000</td>\n",
       "    </tr>\n",
       "    <tr>\n",
       "      <th>4</th>\n",
       "      <td>2017-01-06</td>\n",
       "      <td>16.459999</td>\n",
       "      <td>17.490000</td>\n",
       "      <td>25.969999</td>\n",
       "    </tr>\n",
       "  </tbody>\n",
       "</table>\n",
       "</div>"
      ],
      "text/plain": [
       "         data  abev3_sa_close  petr3_sa_close  vale3_sa_close\n",
       "0  2017-01-02       16.309999       16.530001       25.059999\n",
       "1  2017-01-03       16.639999       17.580000       26.170000\n",
       "2  2017-01-04       16.510000       17.370001       25.700001\n",
       "3  2017-01-05       16.600000       17.760000       26.680000\n",
       "4  2017-01-06       16.459999       17.490000       25.969999"
      ]
     },
     "execution_count": 46,
     "metadata": {},
     "output_type": "execute_result"
    }
   ],
   "source": [
    "portifDf.head()"
   ]
  },
  {
   "cell_type": "code",
   "execution_count": 47,
   "metadata": {},
   "outputs": [
    {
     "data": {
      "text/plain": [
       "(748, 4)"
      ]
     },
     "execution_count": 47,
     "metadata": {},
     "output_type": "execute_result"
    }
   ],
   "source": [
    "portifDf.shape"
   ]
  },
  {
   "cell_type": "markdown",
   "metadata": {},
   "source": [
    "## Teoria Moderna de Portfólio (TMP)\n",
    "\n",
    "Essa teoria descreve uma maneira sofisticada de montar uma carteira de ativos levando em conta a volatividade dos papéis, o risco e a combinação entre eles para se obter melhores resultados possíveis.\n"
   ]
  },
  {
   "cell_type": "markdown",
   "metadata": {},
   "source": [
    "Eventualmente, obteremos os melhores portifólios de cada mês com base na proporção de Sharpe. O índice de Sharpe é um importante indicador financeiro, ele avalia, além da rentabilidade, o risco de um investimento.\n",
    "\n",
    "A maneira mais fácil de fazer isso é colocar todos os preços de nossas ações em um dataframe (que foi carregado em *portiDf*) e, em seguida, modificá-los novamente para os períodos diário e mensal. Precisamos de mudanças diárias nos preços para calcular a volatilidade, que usaremos como nossa medida de risco."
   ]
  },
  {
   "cell_type": "code",
   "execution_count": 48,
   "metadata": {},
   "outputs": [],
   "source": [
    "# reamostrar todo o DF para o período mensal\n",
    "# nova amostra para a frequência de início do mês útil BMS (Business Month Start)\n",
    "\n",
    "# esse código filtrar apenas os primeiros dias do mês mas não funciona aqui\n",
    "# mensalDf = portifDf.resample('BMS').first()\n",
    "\n",
    "# fazendo uma cópia do DF portifolio\n",
    "df = portifDf.copy()\n",
    "\n",
    "# indexando a coluna data para função resample funcionar\n",
    "df = df.set_index(pd.DatetimeIndex(df['data']))"
   ]
  },
  {
   "cell_type": "code",
   "execution_count": 49,
   "metadata": {},
   "outputs": [
    {
     "data": {
      "text/html": [
       "<div>\n",
       "<style scoped>\n",
       "    .dataframe tbody tr th:only-of-type {\n",
       "        vertical-align: middle;\n",
       "    }\n",
       "\n",
       "    .dataframe tbody tr th {\n",
       "        vertical-align: top;\n",
       "    }\n",
       "\n",
       "    .dataframe thead th {\n",
       "        text-align: right;\n",
       "    }\n",
       "</style>\n",
       "<table border=\"1\" class=\"dataframe\">\n",
       "  <thead>\n",
       "    <tr style=\"text-align: right;\">\n",
       "      <th></th>\n",
       "      <th>data</th>\n",
       "      <th>abev3_sa_close</th>\n",
       "      <th>petr3_sa_close</th>\n",
       "      <th>vale3_sa_close</th>\n",
       "    </tr>\n",
       "    <tr>\n",
       "      <th>data</th>\n",
       "      <th></th>\n",
       "      <th></th>\n",
       "      <th></th>\n",
       "      <th></th>\n",
       "    </tr>\n",
       "  </thead>\n",
       "  <tbody>\n",
       "    <tr>\n",
       "      <th>2017-01-02</th>\n",
       "      <td>2017-01-02</td>\n",
       "      <td>16.309999</td>\n",
       "      <td>16.530001</td>\n",
       "      <td>25.059999</td>\n",
       "    </tr>\n",
       "    <tr>\n",
       "      <th>2017-01-03</th>\n",
       "      <td>2017-01-03</td>\n",
       "      <td>16.639999</td>\n",
       "      <td>17.580000</td>\n",
       "      <td>26.170000</td>\n",
       "    </tr>\n",
       "    <tr>\n",
       "      <th>2017-01-04</th>\n",
       "      <td>2017-01-04</td>\n",
       "      <td>16.510000</td>\n",
       "      <td>17.370001</td>\n",
       "      <td>25.700001</td>\n",
       "    </tr>\n",
       "    <tr>\n",
       "      <th>2017-01-05</th>\n",
       "      <td>2017-01-05</td>\n",
       "      <td>16.600000</td>\n",
       "      <td>17.760000</td>\n",
       "      <td>26.680000</td>\n",
       "    </tr>\n",
       "    <tr>\n",
       "      <th>2017-01-06</th>\n",
       "      <td>2017-01-06</td>\n",
       "      <td>16.459999</td>\n",
       "      <td>17.490000</td>\n",
       "      <td>25.969999</td>\n",
       "    </tr>\n",
       "  </tbody>\n",
       "</table>\n",
       "</div>"
      ],
      "text/plain": [
       "                  data  abev3_sa_close  petr3_sa_close  vale3_sa_close\n",
       "data                                                                  \n",
       "2017-01-02  2017-01-02       16.309999       16.530001       25.059999\n",
       "2017-01-03  2017-01-03       16.639999       17.580000       26.170000\n",
       "2017-01-04  2017-01-04       16.510000       17.370001       25.700001\n",
       "2017-01-05  2017-01-05       16.600000       17.760000       26.680000\n",
       "2017-01-06  2017-01-06       16.459999       17.490000       25.969999"
      ]
     },
     "execution_count": 49,
     "metadata": {},
     "output_type": "execute_result"
    }
   ],
   "source": [
    "df.head()"
   ]
  },
  {
   "cell_type": "code",
   "execution_count": 50,
   "metadata": {},
   "outputs": [],
   "source": [
    "# removendo a coluna data com ela está indexada\n",
    "df = df.drop(['data'], axis=1)"
   ]
  },
  {
   "cell_type": "code",
   "execution_count": 51,
   "metadata": {},
   "outputs": [
    {
     "name": "stdout",
     "output_type": "stream",
     "text": [
      "<class 'pandas.core.frame.DataFrame'>\n",
      "DatetimeIndex: 748 entries, 2017-01-02 to 2019-12-30\n",
      "Data columns (total 3 columns):\n",
      " #   Column          Non-Null Count  Dtype  \n",
      "---  ------          --------------  -----  \n",
      " 0   abev3_sa_close  746 non-null    float64\n",
      " 1   petr3_sa_close  746 non-null    float64\n",
      " 2   vale3_sa_close  746 non-null    float64\n",
      "dtypes: float64(3)\n",
      "memory usage: 23.4 KB\n"
     ]
    }
   ],
   "source": [
    "df.info()"
   ]
  },
  {
   "cell_type": "code",
   "execution_count": 52,
   "metadata": {},
   "outputs": [
    {
     "data": {
      "text/html": [
       "<div>\n",
       "<style scoped>\n",
       "    .dataframe tbody tr th:only-of-type {\n",
       "        vertical-align: middle;\n",
       "    }\n",
       "\n",
       "    .dataframe tbody tr th {\n",
       "        vertical-align: top;\n",
       "    }\n",
       "\n",
       "    .dataframe thead th {\n",
       "        text-align: right;\n",
       "    }\n",
       "</style>\n",
       "<table border=\"1\" class=\"dataframe\">\n",
       "  <thead>\n",
       "    <tr style=\"text-align: right;\">\n",
       "      <th></th>\n",
       "      <th>abev3_sa_close</th>\n",
       "      <th>petr3_sa_close</th>\n",
       "      <th>vale3_sa_close</th>\n",
       "    </tr>\n",
       "    <tr>\n",
       "      <th>data</th>\n",
       "      <th></th>\n",
       "      <th></th>\n",
       "      <th></th>\n",
       "    </tr>\n",
       "  </thead>\n",
       "  <tbody>\n",
       "    <tr>\n",
       "      <th>2017-01-02</th>\n",
       "      <td>16.309999</td>\n",
       "      <td>16.530001</td>\n",
       "      <td>25.059999</td>\n",
       "    </tr>\n",
       "    <tr>\n",
       "      <th>2017-01-03</th>\n",
       "      <td>16.639999</td>\n",
       "      <td>17.580000</td>\n",
       "      <td>26.170000</td>\n",
       "    </tr>\n",
       "    <tr>\n",
       "      <th>2017-01-04</th>\n",
       "      <td>16.510000</td>\n",
       "      <td>17.370001</td>\n",
       "      <td>25.700001</td>\n",
       "    </tr>\n",
       "    <tr>\n",
       "      <th>2017-01-05</th>\n",
       "      <td>16.600000</td>\n",
       "      <td>17.760000</td>\n",
       "      <td>26.680000</td>\n",
       "    </tr>\n",
       "    <tr>\n",
       "      <th>2017-01-06</th>\n",
       "      <td>16.459999</td>\n",
       "      <td>17.490000</td>\n",
       "      <td>25.969999</td>\n",
       "    </tr>\n",
       "  </tbody>\n",
       "</table>\n",
       "</div>"
      ],
      "text/plain": [
       "            abev3_sa_close  petr3_sa_close  vale3_sa_close\n",
       "data                                                      \n",
       "2017-01-02       16.309999       16.530001       25.059999\n",
       "2017-01-03       16.639999       17.580000       26.170000\n",
       "2017-01-04       16.510000       17.370001       25.700001\n",
       "2017-01-05       16.600000       17.760000       26.680000\n",
       "2017-01-06       16.459999       17.490000       25.969999"
      ]
     },
     "execution_count": 52,
     "metadata": {},
     "output_type": "execute_result"
    }
   ],
   "source": [
    "df.head()"
   ]
  },
  {
   "cell_type": "code",
   "execution_count": 53,
   "metadata": {},
   "outputs": [],
   "source": [
    "# filtra apenas os primeiros dias dos meses\n",
    "# BMS (Business Month Start)\n",
    "mensalDf = df.resample('BMS').first()"
   ]
  },
  {
   "cell_type": "code",
   "execution_count": 54,
   "metadata": {},
   "outputs": [
    {
     "data": {
      "text/html": [
       "<div>\n",
       "<style scoped>\n",
       "    .dataframe tbody tr th:only-of-type {\n",
       "        vertical-align: middle;\n",
       "    }\n",
       "\n",
       "    .dataframe tbody tr th {\n",
       "        vertical-align: top;\n",
       "    }\n",
       "\n",
       "    .dataframe thead th {\n",
       "        text-align: right;\n",
       "    }\n",
       "</style>\n",
       "<table border=\"1\" class=\"dataframe\">\n",
       "  <thead>\n",
       "    <tr style=\"text-align: right;\">\n",
       "      <th></th>\n",
       "      <th>abev3_sa_close</th>\n",
       "      <th>petr3_sa_close</th>\n",
       "      <th>vale3_sa_close</th>\n",
       "    </tr>\n",
       "    <tr>\n",
       "      <th>data</th>\n",
       "      <th></th>\n",
       "      <th></th>\n",
       "      <th></th>\n",
       "    </tr>\n",
       "  </thead>\n",
       "  <tbody>\n",
       "    <tr>\n",
       "      <th>2017-01-02</th>\n",
       "      <td>16.309999</td>\n",
       "      <td>16.530001</td>\n",
       "      <td>25.059999</td>\n",
       "    </tr>\n",
       "    <tr>\n",
       "      <th>2017-02-01</th>\n",
       "      <td>17.320000</td>\n",
       "      <td>16.120001</td>\n",
       "      <td>32.889999</td>\n",
       "    </tr>\n",
       "    <tr>\n",
       "      <th>2017-03-01</th>\n",
       "      <td>17.910000</td>\n",
       "      <td>16.430000</td>\n",
       "      <td>33.169998</td>\n",
       "    </tr>\n",
       "    <tr>\n",
       "      <th>2017-04-03</th>\n",
       "      <td>18.000000</td>\n",
       "      <td>15.320000</td>\n",
       "      <td>29.510000</td>\n",
       "    </tr>\n",
       "    <tr>\n",
       "      <th>2017-05-01</th>\n",
       "      <td>18.570000</td>\n",
       "      <td>14.360000</td>\n",
       "      <td>28.059999</td>\n",
       "    </tr>\n",
       "  </tbody>\n",
       "</table>\n",
       "</div>"
      ],
      "text/plain": [
       "            abev3_sa_close  petr3_sa_close  vale3_sa_close\n",
       "data                                                      \n",
       "2017-01-02       16.309999       16.530001       25.059999\n",
       "2017-02-01       17.320000       16.120001       32.889999\n",
       "2017-03-01       17.910000       16.430000       33.169998\n",
       "2017-04-03       18.000000       15.320000       29.510000\n",
       "2017-05-01       18.570000       14.360000       28.059999"
      ]
     },
     "execution_count": 54,
     "metadata": {},
     "output_type": "execute_result"
    }
   ],
   "source": [
    "mensalDf.head()"
   ]
  },
  {
   "cell_type": "code",
   "execution_count": 55,
   "metadata": {},
   "outputs": [
    {
     "name": "stdout",
     "output_type": "stream",
     "text": [
      "<class 'pandas.core.frame.DataFrame'>\n",
      "DatetimeIndex: 748 entries, 2017-01-02 to 2019-12-30\n",
      "Data columns (total 3 columns):\n",
      " #   Column          Non-Null Count  Dtype  \n",
      "---  ------          --------------  -----  \n",
      " 0   abev3_sa_close  746 non-null    float64\n",
      " 1   petr3_sa_close  746 non-null    float64\n",
      " 2   vale3_sa_close  746 non-null    float64\n",
      "dtypes: float64(3)\n",
      "memory usage: 23.4 KB\n"
     ]
    }
   ],
   "source": [
    "df.info()"
   ]
  },
  {
   "cell_type": "code",
   "execution_count": 56,
   "metadata": {
    "_cell_guid": "",
    "_uuid": ""
   },
   "outputs": [],
   "source": [
    "# obtendo a alteração percentual diária e mensal dos ativos\n",
    "# essas funções retornam quanto ação subiu ou desceu percentual ao dia anterior\n",
    "\n",
    "# calcula retorno diário das ações\n",
    "retornoDiaDf = df.pct_change()\n",
    "\n",
    "# calcula retorno mensal das ações\n",
    "retornoMesDf = mensalDf.pct_change().dropna()"
   ]
  },
  {
   "cell_type": "code",
   "execution_count": 57,
   "metadata": {},
   "outputs": [
    {
     "data": {
      "text/html": [
       "<div>\n",
       "<style scoped>\n",
       "    .dataframe tbody tr th:only-of-type {\n",
       "        vertical-align: middle;\n",
       "    }\n",
       "\n",
       "    .dataframe tbody tr th {\n",
       "        vertical-align: top;\n",
       "    }\n",
       "\n",
       "    .dataframe thead th {\n",
       "        text-align: right;\n",
       "    }\n",
       "</style>\n",
       "<table border=\"1\" class=\"dataframe\">\n",
       "  <thead>\n",
       "    <tr style=\"text-align: right;\">\n",
       "      <th></th>\n",
       "      <th>abev3_sa_close</th>\n",
       "      <th>petr3_sa_close</th>\n",
       "      <th>vale3_sa_close</th>\n",
       "    </tr>\n",
       "    <tr>\n",
       "      <th>data</th>\n",
       "      <th></th>\n",
       "      <th></th>\n",
       "      <th></th>\n",
       "    </tr>\n",
       "  </thead>\n",
       "  <tbody>\n",
       "    <tr>\n",
       "      <th>2017-01-02</th>\n",
       "      <td>NaN</td>\n",
       "      <td>NaN</td>\n",
       "      <td>NaN</td>\n",
       "    </tr>\n",
       "    <tr>\n",
       "      <th>2017-01-03</th>\n",
       "      <td>0.020233</td>\n",
       "      <td>0.063521</td>\n",
       "      <td>0.044294</td>\n",
       "    </tr>\n",
       "    <tr>\n",
       "      <th>2017-01-04</th>\n",
       "      <td>-0.007812</td>\n",
       "      <td>-0.011945</td>\n",
       "      <td>-0.017959</td>\n",
       "    </tr>\n",
       "    <tr>\n",
       "      <th>2017-01-05</th>\n",
       "      <td>0.005451</td>\n",
       "      <td>0.022452</td>\n",
       "      <td>0.038132</td>\n",
       "    </tr>\n",
       "    <tr>\n",
       "      <th>2017-01-06</th>\n",
       "      <td>-0.008434</td>\n",
       "      <td>-0.015203</td>\n",
       "      <td>-0.026612</td>\n",
       "    </tr>\n",
       "  </tbody>\n",
       "</table>\n",
       "</div>"
      ],
      "text/plain": [
       "            abev3_sa_close  petr3_sa_close  vale3_sa_close\n",
       "data                                                      \n",
       "2017-01-02             NaN             NaN             NaN\n",
       "2017-01-03        0.020233        0.063521        0.044294\n",
       "2017-01-04       -0.007812       -0.011945       -0.017959\n",
       "2017-01-05        0.005451        0.022452        0.038132\n",
       "2017-01-06       -0.008434       -0.015203       -0.026612"
      ]
     },
     "execution_count": 57,
     "metadata": {},
     "output_type": "execute_result"
    }
   ],
   "source": [
    "retornoDiaDf.head()"
   ]
  },
  {
   "cell_type": "code",
   "execution_count": 58,
   "metadata": {},
   "outputs": [
    {
     "data": {
      "text/html": [
       "<div>\n",
       "<style scoped>\n",
       "    .dataframe tbody tr th:only-of-type {\n",
       "        vertical-align: middle;\n",
       "    }\n",
       "\n",
       "    .dataframe tbody tr th {\n",
       "        vertical-align: top;\n",
       "    }\n",
       "\n",
       "    .dataframe thead th {\n",
       "        text-align: right;\n",
       "    }\n",
       "</style>\n",
       "<table border=\"1\" class=\"dataframe\">\n",
       "  <thead>\n",
       "    <tr style=\"text-align: right;\">\n",
       "      <th></th>\n",
       "      <th>abev3_sa_close</th>\n",
       "      <th>petr3_sa_close</th>\n",
       "      <th>vale3_sa_close</th>\n",
       "    </tr>\n",
       "    <tr>\n",
       "      <th>data</th>\n",
       "      <th></th>\n",
       "      <th></th>\n",
       "      <th></th>\n",
       "    </tr>\n",
       "  </thead>\n",
       "  <tbody>\n",
       "    <tr>\n",
       "      <th>2017-02-01</th>\n",
       "      <td>0.061925</td>\n",
       "      <td>-0.024803</td>\n",
       "      <td>0.312450</td>\n",
       "    </tr>\n",
       "    <tr>\n",
       "      <th>2017-03-01</th>\n",
       "      <td>0.034065</td>\n",
       "      <td>0.019231</td>\n",
       "      <td>0.008513</td>\n",
       "    </tr>\n",
       "    <tr>\n",
       "      <th>2017-04-03</th>\n",
       "      <td>0.005025</td>\n",
       "      <td>-0.067559</td>\n",
       "      <td>-0.110341</td>\n",
       "    </tr>\n",
       "    <tr>\n",
       "      <th>2017-05-01</th>\n",
       "      <td>0.031667</td>\n",
       "      <td>-0.062663</td>\n",
       "      <td>-0.049136</td>\n",
       "    </tr>\n",
       "    <tr>\n",
       "      <th>2017-06-01</th>\n",
       "      <td>-0.001077</td>\n",
       "      <td>-0.057103</td>\n",
       "      <td>-0.049537</td>\n",
       "    </tr>\n",
       "  </tbody>\n",
       "</table>\n",
       "</div>"
      ],
      "text/plain": [
       "            abev3_sa_close  petr3_sa_close  vale3_sa_close\n",
       "data                                                      \n",
       "2017-02-01        0.061925       -0.024803        0.312450\n",
       "2017-03-01        0.034065        0.019231        0.008513\n",
       "2017-04-03        0.005025       -0.067559       -0.110341\n",
       "2017-05-01        0.031667       -0.062663       -0.049136\n",
       "2017-06-01       -0.001077       -0.057103       -0.049537"
      ]
     },
     "execution_count": 58,
     "metadata": {},
     "output_type": "execute_result"
    }
   ],
   "source": [
    "retornoMesDf.head()"
   ]
  },
  {
   "cell_type": "markdown",
   "metadata": {},
   "source": [
    "### Cálculo das covariâncias para volatividade\n",
    "\n",
    "Na TMP, quantificamos o risco via volatilidade. A matemática para calcular a volatilidade do portfólio é complexa e requer covariâncias de retornos diários. Agora, percorreremos todos os meses (*retornoMes*) e calcularemos a covariância dos retornos diários.\n",
    "\n",
    "Com os índices de data e hora dos pandas, podemos acessar o mês e o ano com *df.index.monthe* e *df.index.year*. Usaremos isso para criar uma máscara, *retornoDia* nos fornece os retornos diários do mês e ano atuais no loop. Em seguida, usar a máscara para o subconjunto da trama de dados como este: *df[mask]*. Isso obtém entradas no *retornoDia* que estão no mês e ano atuais em cada ciclo do loop. Finalmente, usaremos o *.cov( )* método dos pandas para obter a covariância dos retornos diários."
   ]
  },
  {
   "cell_type": "code",
   "execution_count": 59,
   "metadata": {},
   "outputs": [
    {
     "name": "stdout",
     "output_type": "stream",
     "text": [
      "                abev3_sa_close  petr3_sa_close  vale3_sa_close\n",
      "abev3_sa_close        0.000147        0.000013        0.000050\n",
      "petr3_sa_close        0.000013        0.000246       -0.000004\n",
      "vale3_sa_close        0.000050       -0.000004        0.000154\n"
     ]
    }
   ],
   "source": [
    "# covariância diária de ações (para cada período mensal)\n",
    "# criando dicionario que gaurdará matriz de covariancia de cada dia (uma chave)\n",
    "covariancias = {}\n",
    "rtd_idx = retornoDiaDf.index\n",
    "\n",
    "# cria uma máscara para o retornoDia e usa o mês e o ano atual returns_monthlye corresponda a isso ao mês e ano atuais ino loop\n",
    "for i in retornoMesDf.index:\n",
    "    # mascarar retornos diarios para cada mes e ano e calcular a covariancia\n",
    "    mascara = (rtd_idx.month == i.month) & (rtd_idx.year == i.year)\n",
    "    \n",
    "    # usa a mascara para obter retornos diarios para os mes e ano atuais de indice de retornos mensais\n",
    "    covariancias[i] = retornoDiaDf[mascara].cov()\n",
    "\n",
    "print(covariancias[i])"
   ]
  },
  {
   "cell_type": "code",
   "execution_count": 60,
   "metadata": {},
   "outputs": [
    {
     "name": "stdout",
     "output_type": "stream",
     "text": [
      "2017-02-01 00:00:00 \n",
      "\n",
      "                 abev3_sa_close  petr3_sa_close  vale3_sa_close\n",
      "abev3_sa_close        0.000165        0.000098       -0.000006\n",
      "petr3_sa_close        0.000098        0.000353        0.000201\n",
      "vale3_sa_close       -0.000006        0.000201        0.001583 \n",
      "\n",
      "\n",
      "2017-03-01 00:00:00 \n",
      "\n",
      "                 abev3_sa_close  petr3_sa_close  vale3_sa_close\n",
      "abev3_sa_close        0.000204        0.000142        0.000214\n",
      "petr3_sa_close        0.000142        0.000666        0.000550\n",
      "vale3_sa_close        0.000214        0.000550        0.000943 \n",
      "\n",
      "\n",
      "2017-04-03 00:00:00 \n",
      "\n",
      "                 abev3_sa_close  petr3_sa_close  vale3_sa_close\n",
      "abev3_sa_close        0.000094        0.000047        0.000067\n",
      "petr3_sa_close        0.000047        0.000322        0.000206\n",
      "vale3_sa_close        0.000067        0.000206        0.000734 \n",
      "\n",
      "\n",
      "2017-05-01 00:00:00 \n",
      "\n",
      "                 abev3_sa_close  petr3_sa_close  vale3_sa_close\n",
      "abev3_sa_close        0.000193        0.000245       -0.000032\n",
      "petr3_sa_close        0.000245        0.001106        0.000128\n",
      "vale3_sa_close       -0.000032        0.000128        0.000647 \n",
      "\n",
      "\n",
      "2017-06-01 00:00:00 \n",
      "\n",
      "                 abev3_sa_close  petr3_sa_close  vale3_sa_close\n",
      "abev3_sa_close        0.000119        0.000031       -0.000003\n",
      "petr3_sa_close        0.000031        0.000190        0.000017\n",
      "vale3_sa_close       -0.000003        0.000017        0.000306 \n",
      "\n",
      "\n",
      "2017-07-03 00:00:00 \n",
      "\n",
      "                 abev3_sa_close  petr3_sa_close  vale3_sa_close\n",
      "abev3_sa_close        0.000072        0.000036        0.000039\n",
      "petr3_sa_close        0.000036        0.000292        0.000198\n",
      "vale3_sa_close        0.000039        0.000198        0.000480 \n",
      "\n",
      "\n",
      "2017-08-01 00:00:00 \n",
      "\n",
      "                 abev3_sa_close  petr3_sa_close  vale3_sa_close\n",
      "abev3_sa_close        0.000014        0.000015        0.000003\n",
      "petr3_sa_close        0.000015        0.000257        0.000092\n",
      "vale3_sa_close        0.000003        0.000092        0.000284 \n",
      "\n",
      "\n",
      "2017-09-01 00:00:00 \n",
      "\n",
      "                 abev3_sa_close  petr3_sa_close  vale3_sa_close\n",
      "abev3_sa_close        0.000118        0.000024       -0.000004\n",
      "petr3_sa_close        0.000024        0.000339        0.000065\n",
      "vale3_sa_close       -0.000004        0.000065        0.000291 \n",
      "\n",
      "\n",
      "2017-10-02 00:00:00 \n",
      "\n",
      "                 abev3_sa_close  petr3_sa_close  vale3_sa_close\n",
      "abev3_sa_close        0.000158        0.000089        0.000122\n",
      "petr3_sa_close        0.000089        0.000182        0.000049\n",
      "vale3_sa_close        0.000122        0.000049        0.000381 \n",
      "\n",
      "\n",
      "2017-11-01 00:00:00 \n",
      "\n",
      "                 abev3_sa_close  petr3_sa_close  vale3_sa_close\n",
      "abev3_sa_close        0.000044        0.000048        0.000043\n",
      "petr3_sa_close        0.000048        0.000548        0.000292\n",
      "vale3_sa_close        0.000043        0.000292        0.000357 \n",
      "\n",
      "\n",
      "2017-12-01 00:00:00 \n",
      "\n",
      "                 abev3_sa_close  petr3_sa_close  vale3_sa_close\n",
      "abev3_sa_close        0.000085        0.000067        0.000027\n",
      "petr3_sa_close        0.000067        0.000172        0.000076\n",
      "vale3_sa_close        0.000027        0.000076        0.000201 \n",
      "\n",
      "\n",
      "2018-01-01 00:00:00 \n",
      "\n",
      "                 abev3_sa_close  petr3_sa_close  vale3_sa_close\n",
      "abev3_sa_close        0.000043        0.000038        0.000050\n",
      "petr3_sa_close        0.000038        0.000445        0.000167\n",
      "vale3_sa_close        0.000050        0.000167        0.000297 \n",
      "\n",
      "\n",
      "2018-02-01 00:00:00 \n",
      "\n",
      "                 abev3_sa_close  petr3_sa_close  vale3_sa_close\n",
      "abev3_sa_close        0.000180        0.000149        0.000247\n",
      "petr3_sa_close        0.000149        0.000739        0.000505\n",
      "vale3_sa_close        0.000247        0.000505        0.000980 \n",
      "\n",
      "\n",
      "2018-03-01 00:00:00 \n",
      "\n",
      "                 abev3_sa_close  petr3_sa_close  vale3_sa_close\n",
      "abev3_sa_close        0.000092        0.000007        0.000006\n",
      "petr3_sa_close        0.000007        0.000339        0.000168\n",
      "vale3_sa_close        0.000006        0.000168        0.000254 \n",
      "\n",
      "\n",
      "2018-04-02 00:00:00 \n",
      "\n",
      "                 abev3_sa_close  petr3_sa_close  vale3_sa_close\n",
      "abev3_sa_close        0.000146        0.000106        0.000098\n",
      "petr3_sa_close        0.000106        0.000528        0.000188\n",
      "vale3_sa_close        0.000098        0.000188        0.000240 \n",
      "\n",
      "\n",
      "2018-05-01 00:00:00 \n",
      "\n",
      "                 abev3_sa_close  petr3_sa_close  vale3_sa_close\n",
      "abev3_sa_close        0.000114       -0.000107        0.000061\n",
      "petr3_sa_close       -0.000107        0.004004        0.000243\n",
      "vale3_sa_close        0.000061        0.000243        0.000285 \n",
      "\n",
      "\n",
      "2018-06-01 00:00:00 \n",
      "\n",
      "                 abev3_sa_close  petr3_sa_close  vale3_sa_close\n",
      "abev3_sa_close        0.000110        0.000022        0.000071\n",
      "petr3_sa_close        0.000022        0.001930       -0.000087\n",
      "vale3_sa_close        0.000071       -0.000087        0.000763 \n",
      "\n",
      "\n",
      "2018-07-02 00:00:00 \n",
      "\n",
      "                 abev3_sa_close  petr3_sa_close  vale3_sa_close\n",
      "abev3_sa_close        0.000293       -0.000046        0.000061\n",
      "petr3_sa_close       -0.000046        0.000384       -0.000040\n",
      "vale3_sa_close        0.000061       -0.000040        0.000381 \n",
      "\n",
      "\n",
      "2018-08-01 00:00:00 \n",
      "\n",
      "                 abev3_sa_close  petr3_sa_close  vale3_sa_close\n",
      "abev3_sa_close        0.000082        0.000045        0.000038\n",
      "petr3_sa_close        0.000045        0.000416        0.000102\n",
      "vale3_sa_close        0.000038        0.000102        0.000308 \n",
      "\n",
      "\n",
      "2018-09-03 00:00:00 \n",
      "\n",
      "                 abev3_sa_close  petr3_sa_close  vale3_sa_close\n",
      "abev3_sa_close        0.000187        0.000120        0.000146\n",
      "petr3_sa_close        0.000120        0.000360        0.000108\n",
      "vale3_sa_close        0.000146        0.000108        0.000470 \n",
      "\n",
      "\n",
      "2018-10-01 00:00:00 \n",
      "\n",
      "                 abev3_sa_close  petr3_sa_close  vale3_sa_close\n",
      "abev3_sa_close        0.000532        0.000317        0.000174\n",
      "petr3_sa_close        0.000317        0.001193        0.000391\n",
      "vale3_sa_close        0.000174        0.000391        0.000663 \n",
      "\n",
      "\n",
      "2018-11-01 00:00:00 \n",
      "\n",
      "                 abev3_sa_close  petr3_sa_close  vale3_sa_close\n",
      "abev3_sa_close        0.000289        0.000263        0.000064\n",
      "petr3_sa_close        0.000263        0.000525        0.000016\n",
      "vale3_sa_close        0.000064        0.000016        0.000611 \n",
      "\n",
      "\n",
      "2018-12-03 00:00:00 \n",
      "\n",
      "                 abev3_sa_close  petr3_sa_close  vale3_sa_close\n",
      "abev3_sa_close        0.000158        0.000128        0.000111\n",
      "petr3_sa_close        0.000128        0.000540        0.000205\n",
      "vale3_sa_close        0.000111        0.000205        0.000280 \n",
      "\n",
      "\n",
      "2019-01-01 00:00:00 \n",
      "\n",
      "                 abev3_sa_close  petr3_sa_close  vale3_sa_close\n",
      "abev3_sa_close        0.000419        0.000016       -0.000484\n",
      "petr3_sa_close        0.000016        0.000305        0.000583\n",
      "vale3_sa_close       -0.000484        0.000583        0.003859 \n",
      "\n",
      "\n",
      "2019-02-01 00:00:00 \n",
      "\n",
      "                 abev3_sa_close  petr3_sa_close  vale3_sa_close\n",
      "abev3_sa_close        0.000531        0.000120       -0.000101\n",
      "petr3_sa_close        0.000120        0.000286        0.000182\n",
      "vale3_sa_close       -0.000101        0.000182        0.000603 \n",
      "\n",
      "\n",
      "2019-03-01 00:00:00 \n",
      "\n",
      "                 abev3_sa_close  petr3_sa_close  vale3_sa_close\n",
      "abev3_sa_close        0.000300        0.000348        0.000106\n",
      "petr3_sa_close        0.000348        0.000692        0.000212\n",
      "vale3_sa_close        0.000106        0.000212        0.000326 \n",
      "\n",
      "\n",
      "2019-04-01 00:00:00 \n",
      "\n",
      "                 abev3_sa_close  petr3_sa_close  vale3_sa_close\n",
      "abev3_sa_close        0.000220        0.000118       -0.000004\n",
      "petr3_sa_close        0.000118        0.000614        0.000145\n",
      "vale3_sa_close       -0.000004        0.000145        0.000298 \n",
      "\n",
      "\n",
      "2019-05-01 00:00:00 \n",
      "\n",
      "                 abev3_sa_close  petr3_sa_close  vale3_sa_close\n",
      "abev3_sa_close        0.000203        0.000152        0.000044\n",
      "petr3_sa_close        0.000152        0.000270        0.000124\n",
      "vale3_sa_close        0.000044        0.000124        0.000409 \n",
      "\n",
      "\n",
      "2019-06-03 00:00:00 \n",
      "\n",
      "                 abev3_sa_close  petr3_sa_close  vale3_sa_close\n",
      "abev3_sa_close        0.000070        0.000051        0.000050\n",
      "petr3_sa_close        0.000051        0.000298        0.000148\n",
      "vale3_sa_close        0.000050        0.000148        0.000371 \n",
      "\n",
      "\n",
      "2019-07-01 00:00:00 \n",
      "\n",
      "                 abev3_sa_close  petr3_sa_close  vale3_sa_close\n",
      "abev3_sa_close        0.000554       -0.000079       -0.000033\n",
      "petr3_sa_close       -0.000079        0.000163        0.000044\n",
      "vale3_sa_close       -0.000033        0.000044        0.000261 \n",
      "\n",
      "\n",
      "2019-08-01 00:00:00 \n",
      "\n",
      "                 abev3_sa_close  petr3_sa_close  vale3_sa_close\n",
      "abev3_sa_close        0.000186        0.000152        0.000101\n",
      "petr3_sa_close        0.000152        0.000585        0.000339\n",
      "vale3_sa_close        0.000101        0.000339        0.000406 \n",
      "\n",
      "\n",
      "2019-09-02 00:00:00 \n",
      "\n",
      "                 abev3_sa_close  petr3_sa_close  vale3_sa_close\n",
      "abev3_sa_close        0.000106        0.000056        0.000075\n",
      "petr3_sa_close        0.000056        0.000227        0.000035\n",
      "vale3_sa_close        0.000075        0.000035        0.000237 \n",
      "\n",
      "\n",
      "2019-10-01 00:00:00 \n",
      "\n",
      "                 abev3_sa_close  petr3_sa_close  vale3_sa_close\n",
      "abev3_sa_close        0.000486       -0.000073       -0.000022\n",
      "petr3_sa_close       -0.000073        0.000253        0.000192\n",
      "vale3_sa_close       -0.000022        0.000192        0.000463 \n",
      "\n",
      "\n",
      "2019-11-01 00:00:00 \n",
      "\n",
      "                 abev3_sa_close  petr3_sa_close  vale3_sa_close\n",
      "abev3_sa_close        0.000088        0.000073        0.000041\n",
      "petr3_sa_close        0.000073        0.000212        0.000051\n",
      "vale3_sa_close        0.000041        0.000051        0.000250 \n",
      "\n",
      "\n",
      "2019-12-02 00:00:00 \n",
      "\n",
      "                 abev3_sa_close  petr3_sa_close  vale3_sa_close\n",
      "abev3_sa_close        0.000147        0.000013        0.000050\n",
      "petr3_sa_close        0.000013        0.000246       -0.000004\n",
      "vale3_sa_close        0.000050       -0.000004        0.000154 \n",
      "\n",
      "\n"
     ]
    }
   ],
   "source": [
    "# printandos chaves e valores do dicionario de covariancia\n",
    "for chave, valor in covariancias.items() :\n",
    "    print(chave, \"\\n\\n\", valor, \"\\n\\n\")"
   ]
  },
  {
   "cell_type": "markdown",
   "metadata": {},
   "source": [
    "### Calcular portfólios\n",
    "\n",
    "Agora, geraremos portfólios para encontrar o melhor de cada mês. A função *random.random()* da biblioteca *numpy* gera números aleatórios a partir de uma distribuição uniforme, depois nós os normalizamos para que somem 1 usando o */=* operador. Usamos esses pesos para calcular retornos e volatilidade. Retornos são somas de pesos vezes retornos individuais. A volatilidade é mais complexa e envolve as covariâncias dos diferentes estoques.\n",
    "\n",
    "Por fim, armazenaremos os valores nos dicionários para uso posterior, com datas de meses como chaves.\n",
    "\n",
    "Nesse caso, geraremos apenas 10 portfólios para cada data, para que o código seja executado mais rapidamente, mas futuramente pode ser conveniente usar mais de 1000 a 5000 portfólios gerados aleatoriamente para algumas ações."
   ]
  },
  {
   "cell_type": "code",
   "execution_count": 61,
   "metadata": {},
   "outputs": [
    {
     "name": "stdout",
     "output_type": "stream",
     "text": [
      "[0.42560931 0.17561394 0.39877675]\n"
     ]
    }
   ],
   "source": [
    "portfolioRetorno, portfolioVolativ, portfolioPesos = {}, {}, {}\n",
    "\n",
    "# obtem o desempenho do portfolio de cada mes\n",
    "for date in sorted(covariancias.keys()):\n",
    "    # selecionando uma matriz de covariancia\n",
    "    cov = covariancias[date]\n",
    "    \n",
    "    for portfolio in range(10):\n",
    "        \n",
    "        # gerando 3 números aleatórios\n",
    "        pesos = np.random.random(3)\n",
    "        pesos /= np.sum(pesos) # /= divide os pesos pelo total para somar um\n",
    "        \n",
    "        # np.dot calcula o produto escalar\n",
    "        # multiplica elemento a elemento e resume duas matrizes\n",
    "        # os pesos vem associados ao retorno mensal da respectiva data\n",
    "        retorno = np.dot(pesos, retornoMesDf.loc[date])\n",
    "        \n",
    "        volatividade = np.sqrt(np.dot(pesos.T, np.dot(cov, pesos)))\n",
    "        \n",
    "        # o método .setdefault adiciona uma lista vazia ao portfolio com respectiva data\n",
    "        portfolioRetorno.setdefault(date, []).append(retorno)\n",
    "        \n",
    "        portfolioVolativ.setdefault(date, []).append(volatividade)\n",
    "        \n",
    "        portfolioPesos.setdefault(date, []).append(pesos)\n",
    "\n",
    "print(portfolioPesos[date][0])"
   ]
  },
  {
   "cell_type": "markdown",
   "metadata": {},
   "source": [
    "### Traçar fronteira eficiente\n",
    "\n",
    "Finalmente, podemos traçar os resultados de nossas carteiras de TMP, que mostram a \"fronteira eficiente\". Este é um gráfico da volatilidade versus os retornos. Isso pode nos ajudar a visualizar nossas possibilidades de retorno de risco para portfólios. O limite superior esquerdo dos pontos é o melhor que podemos fazer (maior retorno para um determinado risco), e essa é a fronteira eficiente.\n",
    "\n",
    "Para criar esse gráfico, usaremos a data mais recente em nosso dicionário *covariancia* criado anteriormente. Como as datas são chaves, obteremos as chaves classificadas usando *sorted()* e *.keys()*, em seguida, obteremos a última entrada com a indexação do Python ( *[-1]* ). Por fim, usaremos *matplotlib* para dispersar a variação versus retornos e ver a fronteira eficiente para a data mais recente nos dados."
   ]
  },
  {
   "cell_type": "code",
   "execution_count": 62,
   "metadata": {},
   "outputs": [
    {
     "data": {
      "image/png": "[encoded data removed]",
      "text/plain": [
       "<Figure size 432x288 with 1 Axes>"
      ]
     },
     "metadata": {
      "needs_background": "light"
     },
     "output_type": "display_data"
    }
   ],
   "source": [
    "# obtem a data mais recente dos dados disponiveis\n",
    "date = sorted(covariancias.keys())[-1]  \n",
    "\n",
    "# plotandos fronteira de eficiencia\n",
    "plt.scatter(x=portfolioVolativ[date], y=portfolioRetorno[date], alpha=0.65)\n",
    "plt.xlabel('Volatividade')\n",
    "plt.ylabel('Retornos')\n",
    "plt.show()"
   ]
  },
  {
   "cell_type": "markdown",
   "metadata": {},
   "source": [
    "### Obtendo melhor portfolio a partir do índice Sharpe\n",
    "\n",
    "Precisamos encontrar os portfólios \"ideais\" para cada data, para que possamos usá-los como alvos para aprendizado de máquina. Iremos percorrer cada data e *portfolioRetorno*, em seguida, percorrer os portfólios com os quais geramos portfolioRetorno[date]. Em seguida, calcularemos a taxa de Sharpe, que é o retorno dividido pela volatilidade (assumindo um retorno sem risco de 0).\n",
    "\n",
    "Nós usamos *enumerate()* para percorrer os retornos a data atual (para *portfolioRetorno[date]*) e faixa de manter o índice com i. Em seguida, usamos a data e o índice atuais para obter a volatilidade de cada portfólio *portfolioVolativ[date][i]*. Finalmente, obtemos o índice da melhor proporção de Sharpe para cada data usando np.argmax(). Usaremos esse índice para obter os pesos ideais do portfólio em breve."
   ]
  },
  {
   "cell_type": "code",
   "execution_count": 63,
   "metadata": {},
   "outputs": [
    {
     "name": "stdout",
     "output_type": "stream",
     "text": [
      "0.05044550055559387\n"
     ]
    }
   ],
   "source": [
    "# dicionarios vazios para taxas de sharpe e mehlores indices de sharpe\n",
    "taxaSharpe, max_sharpe_idxs = {}, {}\n",
    "\n",
    "# laço para repetir as datas e obter uma proporção de sharpe para cada portfolio\n",
    "for date in portfolioRetorno.keys():\n",
    "    \n",
    "    # enumera o portfolioRetorno para cada data\n",
    "    for i, ret in enumerate(portfolioRetorno[date]):\n",
    "    \n",
    "        # divide os retornos pela volatividade da data e do índice i\n",
    "        taxaSharpe.setdefault(date, []).append(ret / portfolioVolativ[date][i])\n",
    "\n",
    "    # obtem o indice da melhor proporcao de sharpe para cada data (extrai o máximo)\n",
    "    max_sharpe_idxs[date] = np.argmax(taxaSharpe[date])\n",
    "\n",
    "print(portfolioRetorno[date][max_sharpe_idxs[date]])"
   ]
  },
  {
   "cell_type": "markdown",
   "metadata": {},
   "source": [
    "Acima obtemos a melhor taxa de Sharpe na qual podemos usar para criar os alvos (targets) para aprendizado de máquina.\n",
    "\n",
    "### Gerando algumas features (variáveis) e targets (alvos)\n",
    "\n",
    "Agora, trabalharemos para criar alguns recursos (features) para prever nossos portfólios ideais. Simplesmente usaremos o movimento de preços como um recurso por enquanto. Para isso, criaremos uma média móvel ponderada exponencialmente diariamente (EWMA) e, em seguida, reamostraremos para o período mensal. Por fim, mudaremos a média móvel mensal do preço em um mês no futuro, para que possamos usá-lo como um recurso para prever portfólios futuros.\n"
   ]
  },
  {
   "cell_type": "code",
   "execution_count": 64,
   "metadata": {},
   "outputs": [
    {
     "name": "stdout",
     "output_type": "stream",
     "text": [
      "abev3_sa_close   -0.004005\n",
      "petr3_sa_close    0.004677\n",
      "vale3_sa_close    0.001615\n",
      "Name: 2019-12-02 00:00:00, dtype: float64\n"
     ]
    }
   ],
   "source": [
    "# Calculate exponentially-weighted moving average of daily returns\n",
    "ewmaDia = retornoDiaDf.ewm(span=30).mean()\n",
    "\n",
    "# Resample daily returns to first business day of the month with the first day for that month\n",
    "ewmaMes = ewmaDia.resample('BMS').first()\n",
    "\n",
    "# Shift ewma for the month by 1 month forward so we can use it as a feature for future predictions \n",
    "ewmaMes = ewmaMes.shift(1).dropna()\n",
    "\n",
    "print(ewmaMes.iloc[-1])"
   ]
  },
  {
   "cell_type": "markdown",
   "metadata": {},
   "source": [
    "Para usar o aprendizado de máquina para escolher o melhor portfólio, precisamos gerar recursos e destinos. Nossas características foram criadas apenas no último exercício - as médias móveis exponencialmente ponderadas dos preços. Nossas metas serão as melhores carteiras que encontramos a partir da maior proporção de Sharpe.\n",
    "\n",
    "Usaremos o *.iterrows()* método dos pandas para obter os *index, value* pares para o *ewmaMes* Dataframe. Definiremos o valor atual de *ewmaMes* no loop como nossos recursos. Em seguida, usaremos o índice da melhor proporção de Sharpe (de *max_sharpe_idxs*) para obter o melhor portfolioPesos para cada mês e definir isso como uma meta."
   ]
  },
  {
   "cell_type": "code",
   "execution_count": 65,
   "metadata": {},
   "outputs": [
    {
     "name": "stdout",
     "output_type": "stream",
     "text": [
      "[[0.62562449 0.07580329 0.29857222]\n",
      " [0.19156642 0.61240437 0.1960292 ]\n",
      " [0.38444074 0.50453033 0.11102892]\n",
      " [0.1092661  0.61788278 0.27285113]\n",
      " [0.28047172 0.02764344 0.69188484]]\n"
     ]
    }
   ],
   "source": [
    "targets, features = [], []\n",
    "\n",
    "# Create features from price history and targets as ideal portfolio\n",
    "for date, ewma in ewmaMes.iterrows():\n",
    "\n",
    "    # Get the index of the best sharpe ratio\n",
    "    best_idx = max_sharpe_idxs[date]\n",
    "    targets.append(portfolioPesos[date][best_idx])\n",
    "    features.append(ewma)  # add ewma to features\n",
    "\n",
    "targets = np.array(targets)\n",
    "features = np.array(features)\n",
    "print(targets[-5:])"
   ]
  },
  {
   "cell_type": "markdown",
   "metadata": {},
   "source": [
    "### Visualizando fronteira eficiente com a melhor relação Sharpe\n",
    "\n",
    "Vamos agora traçar a fronteira eficiente novamente, mas adicione um marcador para o portfólio com o melhor índice Sharpe. Visualizar nossos dados é sempre uma boa idéia para melhor entendê-los.\n",
    "\n",
    "Lembre-se de que a fronteira eficiente é plotada em um gráfico de dispersão da volatilidade do portfólio no eixo x e os retornos do portfólio no eixo y. Obteremos a data mais recente em que temos nossos dados *covariancias.keys()*, embora qualquer um dos dicionários *portfolioRetorno*, etc., também possa ser usado para obter a data. Então obtemos volatilidades e retornos para a data mais recente que temos do nosso *portfolioVolativ* e *portfolioRetorno*. Finalmente, obtemos o índice do portfólio com o melhor índice de Sharpe *max_sharpe_idxs[date]* e plotamos tudo com *plt.scatter()*."
   ]
  },
  {
   "cell_type": "code",
   "execution_count": 66,
   "metadata": {},
   "outputs": [
    {
     "data": {
      "image/png": "[encoded data removed]",
      "text/plain": [
       "<Figure size 432x288 with 1 Axes>"
      ]
     },
     "metadata": {
      "needs_background": "light"
     },
     "output_type": "display_data"
    }
   ],
   "source": [
    "# Get most recent (current) returns and volatility\n",
    "date = sorted(covariancias.keys())[-1]\n",
    "cur_returns = portfolioRetorno[date]\n",
    "cur_volatility = portfolioVolativ[date]\n",
    "\n",
    "# Plot efficient frontier with sharpe as point\n",
    "plt.scatter(x=cur_volatility, y=cur_returns, alpha=0.1, color='blue')\n",
    "best_idx = max_sharpe_idxs[date]\n",
    "\n",
    "# Place an orange \"X\" on the point with the best Sharpe ratio\n",
    "plt.scatter(x=cur_volatility[best_idx], y=cur_returns[best_idx], marker='x', color='orange')\n",
    "plt.xlabel('Volatility')\n",
    "plt.ylabel('Returns')\n",
    "plt.show()"
   ]
  },
  {
   "cell_type": "markdown",
   "metadata": {},
   "source": [
    "## Aprendizado de máquina para TMP\n",
    "\n",
    "Para ajustar um modelo de aprendizado de máquina para prever portfólios ideais, precisamos criar conjuntos de treinamento e teste para avaliar o desempenho. Faremos como anteriormente, onde pegamos nossas features e targets matrizes e as dividimos com base em um train_size conjunto. Geralmente, o tamanho do trem pode estar entre 70 e 90% dos nossos dados.\n",
    "\n",
    "Em seguida, ajustamos nosso modelo (uma floresta aleatória neste caso) aos dados de treinamento e avaliamos as pontuações R2 no treinamento e no teste usando *.score()* do nosso modelo. Nesse caso, os hiperparâmetros foram definidos para você, mas geralmente você deseja fazer uma pesquisa com o *ParameterGrid*, como fizemos nos capítulos anteriores.\n",
    "\n"
   ]
  },
  {
   "cell_type": "code",
   "execution_count": 67,
   "metadata": {},
   "outputs": [
    {
     "name": "stdout",
     "output_type": "stream",
     "text": [
      "0.8475410057039976\n",
      "-0.39299262551040726\n"
     ]
    },
    {
     "name": "stderr",
     "output_type": "stream",
     "text": [
      "c:\\users\\jardi\\appdata\\local\\programs\\python\\python37\\lib\\site-packages\\sklearn\\base.py:434: FutureWarning: The default value of multioutput (not exposed in score method) will change from 'variance_weighted' to 'uniform_average' in 0.23 to keep consistent with 'metrics.r2_score'. To specify the default value manually and avoid the warning, please either call 'metrics.r2_score' directly or make a custom scorer with 'metrics.make_scorer' (the built-in scorer 'r2' uses multioutput='uniform_average').\n",
      "  \"multioutput='uniform_average').\", FutureWarning)\n",
      "c:\\users\\jardi\\appdata\\local\\programs\\python\\python37\\lib\\site-packages\\sklearn\\base.py:434: FutureWarning: The default value of multioutput (not exposed in score method) will change from 'variance_weighted' to 'uniform_average' in 0.23 to keep consistent with 'metrics.r2_score'. To specify the default value manually and avoid the warning, please either call 'metrics.r2_score' directly or make a custom scorer with 'metrics.make_scorer' (the built-in scorer 'r2' uses multioutput='uniform_average').\n",
      "  \"multioutput='uniform_average').\", FutureWarning)\n"
     ]
    }
   ],
   "source": [
    "# Make train and test features\n",
    "train_size = int(0.85 * features.shape[0])\n",
    "train_features = features[:train_size]\n",
    "test_features = features[train_size:]\n",
    "train_targets = targets[:train_size]\n",
    "test_targets = targets[train_size:]\n",
    "\n",
    "# Fit the model and check scores on train and test\n",
    "rfr = RandomForestRegressor(n_estimators=300, random_state=42)\n",
    "rfr.fit(train_features, train_targets)\n",
    "print(rfr.score(train_features, train_targets))\n",
    "print(rfr.score(test_features, test_targets))"
   ]
  },
  {
   "cell_type": "markdown",
   "metadata": {},
   "source": [
    "### Obter previsões e primeira avaliação\n",
    "Agora que temos um modelo de floresta aleatória treinado (rfr), queremos usá-lo para obter previsões no conjunto de testes. Fazemos isso para avaliar o desempenho do nosso modelo - em um nível básico, está indo tão bem ou melhor do que apenas comprar um dos ativos?\n",
    "\n",
    "Usaremos o *.predict(features)* método *sklearn* típico e multiplicaremos nossos retornos mensais pelas previsões de nosso portfólio. Resumimos isso, *np.sum()* pois isso terá três linhas para cada mês. Em seguida, plotamos os retornos mensais de nossas previsões, além de um dos ativos e comparamos os dois."
   ]
  },
  {
   "cell_type": "code",
   "execution_count": 73,
   "metadata": {},
   "outputs": [
    {
     "data": {
      "image/png": "[encoded data removed]",
      "text/plain": [
       "<Figure size 432x288 with 1 Axes>"
      ]
     },
     "metadata": {
      "needs_background": "light"
     },
     "output_type": "display_data"
    }
   ],
   "source": [
    "# obter previsões do modelo no treino e teste\n",
    "train_predictions = rfr.predict(train_features)\n",
    "test_predictions = rfr.predict(test_features)\n",
    "\n",
    "# calcular e plotar retornos de nossas previsões de \n",
    "test_returns = np.sum(retornoMesDf.iloc[train_size:] * test_predictions, axis=1)\n",
    "plt.plot(test_returns, label='algo')\n",
    "plt.plot(retornoMesDf['abev3_sa_close'].iloc[train_size:], label='abev3_sa_close')\n",
    "plt.legend()\n",
    "plt.show()"
   ]
  },
  {
   "cell_type": "markdown",
   "metadata": {},
   "source": [
    "### Avaliar devoluções\n",
    "\n",
    "Vamos agora ver como nossa seleção de portfólio funcionaria em comparação com apenas investir no ambev. Faremos isso para ver se nossas previsões são promissoras, apesar do baixo valor de R2.\n",
    "\n",
    "Definiremos um valor inicial para nosso investimento de R$1.000 e, em seguida, percorreremos os retornos de nossas previsões e também do ambev. Usaremos os retornos mensais de nossa seleção de portfólio e ambev e os aplicaremos ao nosso saldo inicial de caixa. A partir disso, teremos uma imagem mensal de como está o nosso investimento e podemos ver como nossas previsões se saíram em geral em relação ao ambev. Em seguida, podemos traçar nosso portfólio com base em nossas previsões e compará-lo com o ambev."
   ]
  },
  {
   "cell_type": "code",
   "execution_count": 75,
   "metadata": {},
   "outputs": [
    {
     "name": "stdout",
     "output_type": "stream",
     "text": [
      "algo returns: 0.07770418249518457\n",
      "ambev returns: 0.03275856321839046\n"
     ]
    }
   ],
   "source": [
    "# Calculate the effect of our portfolio selection on a hypothetical $1k investment\n",
    "cash = 1000\n",
    "algo_cash, spy_cash = [cash], [cash]  # set equal starting cash amounts\n",
    "for r in test_returns:\n",
    "    cash *= 1 + r\n",
    "    algo_cash.append(cash)\n",
    "\n",
    "# Calculate performance for SPY\n",
    "cash = 1000  # reset cash amount\n",
    "for r in retornoMesDf['abev3_sa_close'].iloc[train_size:]:\n",
    "    cash *= 1 + r\n",
    "    spy_cash.append(cash)\n",
    "\n",
    "print('algo returns:', (algo_cash[-1] - algo_cash[0]) / algo_cash[0])\n",
    "print('ambev returns:', (spy_cash[-1] - spy_cash[0]) / spy_cash[0])"
   ]
  },
  {
   "cell_type": "markdown",
   "metadata": {},
   "source": [
    "A previsão do Algo supera a ambev, pois estão acima."
   ]
  },
  {
   "cell_type": "markdown",
   "metadata": {},
   "source": [
    "### Retorno da plotagem\n",
    "\n",
    "Por fim, traçaremos o desempenho de nosso portfólio gerado por aprendizado de máquina, em vez de apenas manter o ambev. Podemos usar isso como uma avaliação para ver se nossas previsões estão indo bem ou não.\n",
    "\n",
    "Como já temos algo_cash e spy_cash criados, tudo o que precisamos fazer é fornecê-los para plt.plot () para exibição. Também definiremos o rótulo para os conjuntos de dados com a legenda em plt.plot ()."
   ]
  },
  {
   "cell_type": "code",
   "execution_count": 77,
   "metadata": {},
   "outputs": [
    {
     "data": {
      "image/png": "[encoded data removed]",
      "text/plain": [
       "<Figure size 432x288 with 1 Axes>"
      ]
     },
     "metadata": {
      "needs_background": "light"
     },
     "output_type": "display_data"
    }
   ],
   "source": [
    "# Plot the algo_cash and spy_cash to compare overall returns\n",
    "plt.plot(algo_cash, label='algo')\n",
    "plt.plot(spy_cash, label='ambev')\n",
    "plt.legend()  # show the legend\n",
    "plt.show()"
   ]
  },
  {
   "cell_type": "code",
   "execution_count": null,
   "metadata": {},
   "outputs": [],
   "source": []
  },
  {
   "cell_type": "code",
   "execution_count": null,
   "metadata": {},
   "outputs": [],
   "source": []
  }
 ],
 "metadata": {
  "kernelspec": {
   "display_name": "Python 3",
   "language": "python",
   "name": "python3"
  },
  "language_info": {
   "codemirror_mode": {
    "name": "ipython",
    "version": 3
   },
   "file_extension": ".py",
   "mimetype": "text/x-python",
   "name": "python",
   "nbconvert_exporter": "python",
   "pygments_lexer": "ipython3",
   "version": "3.7.7"
  }
 },
 "nbformat": 4,
 "nbformat_minor": 4
}
