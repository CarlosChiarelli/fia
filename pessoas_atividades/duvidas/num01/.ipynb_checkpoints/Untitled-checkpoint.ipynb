{
 "cells": [
  {
   "cell_type": "code",
   "execution_count": 1,
   "metadata": {},
   "outputs": [
    {
     "name": "stderr",
     "output_type": "stream",
     "text": [
      "-- \u001b[1mAttaching packages\u001b[22m --------------------------------------- tidyverse 1.3.0 --\n",
      "\n",
      "\u001b[32mv\u001b[39m \u001b[34mggplot2\u001b[39m 3.2.1     \u001b[32mv\u001b[39m \u001b[34mpurrr  \u001b[39m 0.3.3\n",
      "\u001b[32mv\u001b[39m \u001b[34mtibble \u001b[39m 2.1.3     \u001b[32mv\u001b[39m \u001b[34mdplyr  \u001b[39m 0.8.3\n",
      "\u001b[32mv\u001b[39m \u001b[34mtidyr  \u001b[39m 1.0.0     \u001b[32mv\u001b[39m \u001b[34mstringr\u001b[39m 1.4.0\n",
      "\u001b[32mv\u001b[39m \u001b[34mreadr  \u001b[39m 1.3.1     \u001b[32mv\u001b[39m \u001b[34mforcats\u001b[39m 0.4.0\n",
      "\n",
      "-- \u001b[1mConflicts\u001b[22m ------------------------------------------ tidyverse_conflicts() --\n",
      "\u001b[31mx\u001b[39m \u001b[34mdplyr\u001b[39m::\u001b[32mfilter()\u001b[39m masks \u001b[34mstats\u001b[39m::filter()\n",
      "\u001b[31mx\u001b[39m \u001b[34mdplyr\u001b[39m::\u001b[32mlag()\u001b[39m    masks \u001b[34mstats\u001b[39m::lag()\n",
      "\n"
     ]
    }
   ],
   "source": [
    "library(tidyverse)"
   ]
  },
  {
   "cell_type": "code",
   "execution_count": 4,
   "metadata": {},
   "outputs": [
    {
     "name": "stderr",
     "output_type": "stream",
     "text": [
      "Parsed with column specification:\n",
      "cols(\n",
      "  .default = col_character(),\n",
      "  ano = \u001b[32mcol_double()\u001b[39m,\n",
      "  idade = \u001b[32mcol_double()\u001b[39m,\n",
      "  anoConcEm = \u001b[32mcol_double()\u001b[39m,\n",
      "  nota_cn = \u001b[32mcol_double()\u001b[39m,\n",
      "  nota_ch = \u001b[32mcol_double()\u001b[39m,\n",
      "  nota_lc = \u001b[32mcol_double()\u001b[39m,\n",
      "  nota_mt = \u001b[32mcol_double()\u001b[39m,\n",
      "  nota_reda1 = \u001b[32mcol_double()\u001b[39m,\n",
      "  nota_reda2 = \u001b[32mcol_double()\u001b[39m,\n",
      "  nota_reda3 = \u001b[32mcol_double()\u001b[39m,\n",
      "  nota_reda4 = \u001b[32mcol_double()\u001b[39m,\n",
      "  nota_reda5 = \u001b[32mcol_double()\u001b[39m,\n",
      "  nota_redaTot = \u001b[32mcol_double()\u001b[39m,\n",
      "  sociEco_escPai = \u001b[32mcol_double()\u001b[39m,\n",
      "  sociEco_escMae = \u001b[32mcol_double()\u001b[39m,\n",
      "  sociEco_ocupPai = \u001b[32mcol_double()\u001b[39m,\n",
      "  sociEco_ocupMae = \u001b[32mcol_double()\u001b[39m,\n",
      "  sociEco_numPessRes = \u001b[32mcol_double()\u001b[39m,\n",
      "  sociEco_renda = \u001b[32mcol_double()\u001b[39m\n",
      ")\n",
      "\n",
      "See spec(...) for full column specifications.\n",
      "\n"
     ]
    }
   ],
   "source": [
    "df <- read_csv('dadosEnem2016.csv')"
   ]
  },
  {
   "cell_type": "code",
   "execution_count": 5,
   "metadata": {},
   "outputs": [
    {
     "name": "stdout",
     "output_type": "stream",
     "text": [
      "Observations: 13,730\n",
      "Variables: 38\n",
      "$ id                 \u001b[3m\u001b[90m<chr>\u001b[39m\u001b[23m \"ed50e8aaa58e7a806c337585efee9ca41f1eb1ad\", \"2c3...\n",
      "$ ano                \u001b[3m\u001b[90m<dbl>\u001b[39m\u001b[23m 2016, 2016, 2016, 2016, 2016, 2016, 2016, 2016, ...\n",
      "$ cidade             \u001b[3m\u001b[90m<chr>\u001b[39m\u001b[23m \"Porto Alegre\", \"Granja\", \"Fortaleza\", \"Rio de J...\n",
      "$ estado             \u001b[3m\u001b[90m<chr>\u001b[39m\u001b[23m \"RS\", \"CE\", \"CE\", \"RJ\", \"AM\", \"BA\", \"MT\", \"RS\", ...\n",
      "$ idade              \u001b[3m\u001b[90m<dbl>\u001b[39m\u001b[23m 24, 17, 21, 25, 28, 18, 18, 18, 16, 24, 29, 17, ...\n",
      "$ sexo               \u001b[3m\u001b[90m<chr>\u001b[39m\u001b[23m \"M\", \"F\", \"F\", \"F\", \"M\", \"F\", \"F\", \"F\", \"F\", \"M\"...\n",
      "$ estCivil           \u001b[3m\u001b[90m<chr>\u001b[39m\u001b[23m \"solteiro\", \"solteiro\", \"solteiro\", \"solteiro\", ...\n",
      "$ raca               \u001b[3m\u001b[90m<chr>\u001b[39m\u001b[23m \"branca\", \"parda\", \"parda\", \"naoDeclarado\", \"pre...\n",
      "$ nacion             \u001b[3m\u001b[90m<chr>\u001b[39m\u001b[23m \"br\", \"br\", \"br\", \"br\", \"br\", \"br\", \"br\", \"br\", ...\n",
      "$ concluEm           \u001b[3m\u001b[90m<chr>\u001b[39m\u001b[23m \"concluiu\", \"concluira2016\", \"concluiraApos2016\"...\n",
      "$ anoConcEm          \u001b[3m\u001b[90m<dbl>\u001b[39m\u001b[23m 2012, 2006, 2006, 2007, 2012, 2015, 2006, 2015, ...\n",
      "$ escTipo            \u001b[3m\u001b[90m<chr>\u001b[39m\u001b[23m \"naoDisse\", \"publica\", \"naoDisse\", \"naoDisse\", \"...\n",
      "$ escInst            \u001b[3m\u001b[90m<chr>\u001b[39m\u001b[23m NA, \"ensinoRegular\", NA, NA, NA, NA, \"ensinoRegu...\n",
      "$ escDep             \u001b[3m\u001b[90m<chr>\u001b[39m\u001b[23m NA, \"estadual\", NA, NA, NA, NA, \"estadual\", NA, ...\n",
      "$ escLocal           \u001b[3m\u001b[90m<chr>\u001b[39m\u001b[23m NA, \"urbana\", NA, NA, NA, NA, \"urbana\", NA, \"urb...\n",
      "$ escSituac          \u001b[3m\u001b[90m<chr>\u001b[39m\u001b[23m NA, \"ativa\", NA, NA, NA, NA, \"ativa\", NA, \"ativa...\n",
      "$ prens_cn           \u001b[3m\u001b[90m<chr>\u001b[39m\u001b[23m \"presente\", \"presente\", \"faltou\", \"faltou\", \"fal...\n",
      "$ prens_ch           \u001b[3m\u001b[90m<chr>\u001b[39m\u001b[23m \"presente\", \"presente\", \"faltou\", \"faltou\", \"fal...\n",
      "$ prens_lc           \u001b[3m\u001b[90m<chr>\u001b[39m\u001b[23m \"presente\", \"presente\", \"faltou\", \"faltou\", \"fal...\n",
      "$ prens_mt           \u001b[3m\u001b[90m<chr>\u001b[39m\u001b[23m \"presente\", \"presente\", \"faltou\", \"faltou\", \"fal...\n",
      "$ nota_cn            \u001b[3m\u001b[90m<dbl>\u001b[39m\u001b[23m 436.3, 474.5, NA, NA, NA, 439.7, 420.1, 619.6, 5...\n",
      "$ nota_ch            \u001b[3m\u001b[90m<dbl>\u001b[39m\u001b[23m 495.4, 544.1, NA, NA, NA, 583.2, 604.2, 625.8, 5...\n",
      "$ nota_lc            \u001b[3m\u001b[90m<dbl>\u001b[39m\u001b[23m 581.2, 599.0, NA, NA, NA, 410.9, 484.5, 611.2, 5...\n",
      "$ nota_mt            \u001b[3m\u001b[90m<dbl>\u001b[39m\u001b[23m 399.4, 459.8, NA, NA, NA, 364.5, 529.2, 566.7, 3...\n",
      "$ tipoLing           \u001b[3m\u001b[90m<chr>\u001b[39m\u001b[23m \"espanhol\", \"espanhol\", \"espanhol\", \"ingles\", \"e...\n",
      "$ statuReda          \u001b[3m\u001b[90m<chr>\u001b[39m\u001b[23m \"semProblema\", \"semProblema\", NA, NA, NA, \"semPr...\n",
      "$ nota_reda1         \u001b[3m\u001b[90m<dbl>\u001b[39m\u001b[23m 120, 140, NA, NA, NA, 120, 100, 140, 140, NA, 10...\n",
      "$ nota_reda2         \u001b[3m\u001b[90m<dbl>\u001b[39m\u001b[23m 120, 120, NA, NA, NA, 120, 120, 120, 160, NA, 10...\n",
      "$ nota_reda3         \u001b[3m\u001b[90m<dbl>\u001b[39m\u001b[23m 120, 120, NA, NA, NA, 120, 120, 120, 140, NA, 10...\n",
      "$ nota_reda4         \u001b[3m\u001b[90m<dbl>\u001b[39m\u001b[23m 80, 120, NA, NA, NA, 160, 120, 120, 140, NA, 100...\n",
      "$ nota_reda5         \u001b[3m\u001b[90m<dbl>\u001b[39m\u001b[23m 80, 80, NA, NA, NA, 100, 100, 120, 100, NA, 120,...\n",
      "$ nota_redaTot       \u001b[3m\u001b[90m<dbl>\u001b[39m\u001b[23m 520, 580, NA, NA, NA, 620, 560, 620, 680, NA, 52...\n",
      "$ sociEco_escPai     \u001b[3m\u001b[90m<dbl>\u001b[39m\u001b[23m 3, 0, 3, 7, 4, 4, 4, 6, 7, 7, 0, 3, 1, 3, 1, 3, ...\n",
      "$ sociEco_escMae     \u001b[3m\u001b[90m<dbl>\u001b[39m\u001b[23m 3, 0, 3, 4, 3, 4, 3, 5, 4, 4, 1, 4, 4, 3, 0, 3, ...\n",
      "$ sociEco_ocupPai    \u001b[3m\u001b[90m<dbl>\u001b[39m\u001b[23m 1, 0, 1, 3, 2, 3, 3, 3, 1, 0, 0, 1, 1, 3, 0, 1, ...\n",
      "$ sociEco_ocupMae    \u001b[3m\u001b[90m<dbl>\u001b[39m\u001b[23m 1, 0, 1, 1, 2, 0, 0, 3, 2, 0, 0, 1, 1, 1, 1, 1, ...\n",
      "$ sociEco_numPessRes \u001b[3m\u001b[90m<dbl>\u001b[39m\u001b[23m 3, 5, 4, 4, 4, 5, 3, 4, 3, 5, 4, 3, 4, 3, 3, 6, ...\n",
      "$ sociEco_renda      \u001b[3m\u001b[90m<dbl>\u001b[39m\u001b[23m 2, 1, 2, 4, 2, 2, 2, 11, 1, 6, 1, 1, 1, 2, 0, 2,...\n"
     ]
    }
   ],
   "source": [
    "glimpse(df)"
   ]
  },
  {
   "cell_type": "code",
   "execution_count": null,
   "metadata": {},
   "outputs": [],
   "source": []
  },
  {
   "cell_type": "code",
   "execution_count": null,
   "metadata": {},
   "outputs": [],
   "source": []
  },
  {
   "cell_type": "code",
   "execution_count": null,
   "metadata": {},
   "outputs": [],
   "source": []
  },
  {
   "cell_type": "code",
   "execution_count": null,
   "metadata": {},
   "outputs": [],
   "source": []
  },
  {
   "cell_type": "code",
   "execution_count": null,
   "metadata": {},
   "outputs": [],
   "source": []
  },
  {
   "cell_type": "code",
   "execution_count": null,
   "metadata": {},
   "outputs": [],
   "source": []
  },
  {
   "cell_type": "code",
   "execution_count": null,
   "metadata": {},
   "outputs": [],
   "source": []
  },
  {
   "cell_type": "code",
   "execution_count": null,
   "metadata": {},
   "outputs": [],
   "source": []
  },
  {
   "cell_type": "code",
   "execution_count": null,
   "metadata": {},
   "outputs": [],
   "source": []
  },
  {
   "cell_type": "code",
   "execution_count": null,
   "metadata": {},
   "outputs": [],
   "source": []
  },
  {
   "cell_type": "code",
   "execution_count": null,
   "metadata": {},
   "outputs": [],
   "source": []
  },
  {
   "cell_type": "code",
   "execution_count": null,
   "metadata": {},
   "outputs": [],
   "source": []
  }
 ],
 "metadata": {
  "kernelspec": {
   "display_name": "R",
   "language": "R",
   "name": "ir"
  },
  "language_info": {
   "codemirror_mode": "r",
   "file_extension": ".r",
   "mimetype": "text/x-r-source",
   "name": "R",
   "pygments_lexer": "r",
   "version": "3.6.3"
  }
 },
 "nbformat": 4,
 "nbformat_minor": 4
}
