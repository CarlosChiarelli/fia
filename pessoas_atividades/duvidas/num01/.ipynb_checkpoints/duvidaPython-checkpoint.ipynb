{
 "cells": [
  {
   "cell_type": "markdown",
   "metadata": {},
   "source": [
    "# Dúvidas Python"
   ]
  },
  {
   "cell_type": "code",
   "execution_count": null,
   "metadata": {},
   "outputs": [],
   "source": []
  },
  {
   "cell_type": "markdown",
   "metadata": {},
   "source": [
    "## Por que não instalar o Conda?\n",
    "\n",
    "É um software para instalar IDEs (ambientes para rodar linguagens de programação), assim acaba sendo pesado (ocupa memória), e as bibliotecas/pacotes usados para a linguagem (R/Python) devem ser instaladas dentro dele.\n",
    "\n",
    "Caso **tenha instalado** não é necessário desinstalar, contudo os pacotes R/Python devem ser instalados via Anaconda."
   ]
  },
  {
   "cell_type": "code",
   "execution_count": null,
   "metadata": {},
   "outputs": [],
   "source": []
  },
  {
   "cell_type": "markdown",
   "metadata": {},
   "source": [
    "## Função *pandas.Dataframe*"
   ]
  },
  {
   "cell_type": "code",
   "execution_count": null,
   "metadata": {},
   "outputs": [],
   "source": []
  },
  {
   "cell_type": "code",
   "execution_count": 1,
   "metadata": {},
   "outputs": [],
   "source": [
    "from pandas import DataFrame"
   ]
  },
  {
   "cell_type": "code",
   "execution_count": 4,
   "metadata": {},
   "outputs": [],
   "source": [
    "dados = {'idade' : [1,20,32,100], 'nome' : ['carlos','julio','andre','maria']}\n",
    "df = DataFrame(data = dados)"
   ]
  },
  {
   "cell_type": "code",
   "execution_count": 5,
   "metadata": {},
   "outputs": [
    {
     "data": {
      "text/html": [
       "<div>\n",
       "<style scoped>\n",
       "    .dataframe tbody tr th:only-of-type {\n",
       "        vertical-align: middle;\n",
       "    }\n",
       "\n",
       "    .dataframe tbody tr th {\n",
       "        vertical-align: top;\n",
       "    }\n",
       "\n",
       "    .dataframe thead th {\n",
       "        text-align: right;\n",
       "    }\n",
       "</style>\n",
       "<table border=\"1\" class=\"dataframe\">\n",
       "  <thead>\n",
       "    <tr style=\"text-align: right;\">\n",
       "      <th></th>\n",
       "      <th>idade</th>\n",
       "      <th>nome</th>\n",
       "    </tr>\n",
       "  </thead>\n",
       "  <tbody>\n",
       "    <tr>\n",
       "      <th>0</th>\n",
       "      <td>1</td>\n",
       "      <td>carlos</td>\n",
       "    </tr>\n",
       "    <tr>\n",
       "      <th>1</th>\n",
       "      <td>20</td>\n",
       "      <td>julio</td>\n",
       "    </tr>\n",
       "    <tr>\n",
       "      <th>2</th>\n",
       "      <td>32</td>\n",
       "      <td>andre</td>\n",
       "    </tr>\n",
       "    <tr>\n",
       "      <th>3</th>\n",
       "      <td>100</td>\n",
       "      <td>maria</td>\n",
       "    </tr>\n",
       "  </tbody>\n",
       "</table>\n",
       "</div>"
      ],
      "text/plain": [
       "   idade    nome\n",
       "0      1  carlos\n",
       "1     20   julio\n",
       "2     32   andre\n",
       "3    100   maria"
      ]
     },
     "execution_count": 5,
     "metadata": {},
     "output_type": "execute_result"
    }
   ],
   "source": [
    "df.head()"
   ]
  },
  {
   "cell_type": "code",
   "execution_count": null,
   "metadata": {},
   "outputs": [],
   "source": []
  },
  {
   "cell_type": "markdown",
   "metadata": {},
   "source": [
    "# Função OLS\n",
    "\n",
    "Função que realiza uma regressão linear. Caso tenha mais de uma variável explicativa (features), realiza uma regressão multipla.\n",
    "\n",
    "*Regressão linear comum:* \n",
    "\n",
    "    Y = a*X + b\n",
    "    \n",
    "*Regressõa linear multipla:*\n",
    "\n",
    "    Y = a*X + c*Z + b\n",
    "\n",
    "**Y:** variável alvo, a ser prevista\n",
    "\n",
    "**X e Z:** features, variáveis explicativas\n"
   ]
  },
  {
   "cell_type": "code",
   "execution_count": null,
   "metadata": {},
   "outputs": [],
   "source": []
  },
  {
   "cell_type": "markdown",
   "metadata": {},
   "source": [
    "# R^2: métrica de avaliação de uma regressão\n",
    "\n",
    "Varia de 0 a 1. Quanto mais próximo de 1 mais o modelo de ajustou aos dados de treino.\n",
    "\n",
    "Serve pra saber se eu devo ou descartar o modelo. Não serve para dizer se o modelo está bom.\n",
    "\n",
    "**R^2: em torno de 0.4 ~ 0.6 ->** modelo ruim (descartar!)\n",
    "\n",
    "**R^2: em torno de 0.8 ~ 1 ->** modelo não descartável, mas não implica num modelo bom (outras métricas devem ser feitas).\n",
    "\n",
    "\n",
    "\n",
    "\n",
    "\n"
   ]
  }
 ],
 "metadata": {
  "kernelspec": {
   "display_name": "Python 3",
   "language": "python",
   "name": "python3"
  },
  "language_info": {
   "codemirror_mode": {
    "name": "ipython",
    "version": 3
   },
   "file_extension": ".py",
   "mimetype": "text/x-python",
   "name": "python",
   "nbconvert_exporter": "python",
   "pygments_lexer": "ipython3",
   "version": "3.7.7"
  }
 },
 "nbformat": 4,
 "nbformat_minor": 4
}
